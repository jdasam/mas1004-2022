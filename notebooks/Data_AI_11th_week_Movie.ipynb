{
  "cells": [
    {
      "cell_type": "markdown",
      "metadata": {
        "id": "LKokb5vRPvl4"
      },
      "source": [
        "<a href=\"https://colab.research.google.com/github/jdasam/mas1004-2022/blob/main/notebooks/Data_AI_11th_week_Movie.ipynb\" target=\"_parent\"><img src=\"https://colab.research.google.com/assets/colab-badge.svg\" alt=\"Open In Colab\"/></a>"
      ]
    },
    {
      "cell_type": "markdown",
      "metadata": {
        "id": "O0mJAiDbPvl6"
      },
      "source": [
        "# Collaborative Filtering with MovieLens Dataset"
      ]
    },
    {
      "cell_type": "code",
      "execution_count": 1,
      "metadata": {
        "id": "j3hLHcUfPvl6"
      },
      "outputs": [],
      "source": [
        "import torch\n",
        "import torch.nn as nn\n",
        "import pandas as pd\n",
        "import matplotlib.pyplot as plt\n",
        "from tqdm.auto import tqdm"
      ]
    },
    {
      "cell_type": "code",
      "execution_count": 2,
      "metadata": {
        "id": "Gkl-iECCPvl6"
      },
      "outputs": [],
      "source": [
        "torch.set_printoptions(sci_mode=False)"
      ]
    },
    {
      "cell_type": "code",
      "execution_count": 3,
      "metadata": {
        "id": "OyuLBr_PPvl7",
        "outputId": "a3d3f16b-4aa5-410a-f137-ec9baacb5890",
        "colab": {
          "base_uri": "https://localhost:8080/"
        }
      },
      "outputs": [
        {
          "output_type": "stream",
          "name": "stdout",
          "text": [
            "--2022-11-10 06:35:08--  https://files.grouplens.org/datasets/movielens/ml-latest-small.zip\n",
            "Resolving files.grouplens.org (files.grouplens.org)... 128.101.65.152\n",
            "Connecting to files.grouplens.org (files.grouplens.org)|128.101.65.152|:443... connected.\n",
            "HTTP request sent, awaiting response... 200 OK\n",
            "Length: 978202 (955K) [application/zip]\n",
            "Saving to: ‘ml-latest-small.zip’\n",
            "\n",
            "ml-latest-small.zip 100%[===================>] 955.28K  2.68MB/s    in 0.3s    \n",
            "\n",
            "2022-11-10 06:35:09 (2.68 MB/s) - ‘ml-latest-small.zip’ saved [978202/978202]\n",
            "\n"
          ]
        }
      ],
      "source": [
        "!wget https://files.grouplens.org/datasets/movielens/ml-latest-small.zip"
      ]
    },
    {
      "cell_type": "code",
      "execution_count": 4,
      "metadata": {
        "id": "KU0CB9IMPvl7",
        "outputId": "0a590faf-042e-4044-a508-46886df33656",
        "colab": {
          "base_uri": "https://localhost:8080/"
        }
      },
      "outputs": [
        {
          "output_type": "stream",
          "name": "stdout",
          "text": [
            "Archive:  ml-latest-small.zip\n",
            "   creating: ml-latest-small/\n",
            "  inflating: ml-latest-small/links.csv  \n",
            "  inflating: ml-latest-small/tags.csv  \n",
            "  inflating: ml-latest-small/ratings.csv  \n",
            "  inflating: ml-latest-small/README.txt  \n",
            "  inflating: ml-latest-small/movies.csv  \n"
          ]
        }
      ],
      "source": [
        "!unzip ml-latest-small.zip"
      ]
    },
    {
      "cell_type": "code",
      "execution_count": 5,
      "metadata": {
        "id": "WQirvGuLPvl7"
      },
      "outputs": [],
      "source": [
        "movies = pd.read_csv('ml-latest-small/movies.csv')\n",
        "ratings = pd.read_csv('ml-latest-small/ratings.csv')"
      ]
    },
    {
      "cell_type": "code",
      "source": [
        "movies"
      ],
      "metadata": {
        "id": "wx5sG8Z9QTNu",
        "outputId": "1d9320c2-51ac-4c22-994a-6f539324a108",
        "colab": {
          "base_uri": "https://localhost:8080/",
          "height": 468
        }
      },
      "execution_count": 6,
      "outputs": [
        {
          "output_type": "execute_result",
          "data": {
            "text/plain": [
              "      movieId                                      title  \\\n",
              "0           1                           Toy Story (1995)   \n",
              "1           2                             Jumanji (1995)   \n",
              "2           3                    Grumpier Old Men (1995)   \n",
              "3           4                   Waiting to Exhale (1995)   \n",
              "4           5         Father of the Bride Part II (1995)   \n",
              "...       ...                                        ...   \n",
              "9737   193581  Black Butler: Book of the Atlantic (2017)   \n",
              "9738   193583               No Game No Life: Zero (2017)   \n",
              "9739   193585                               Flint (2017)   \n",
              "9740   193587        Bungo Stray Dogs: Dead Apple (2018)   \n",
              "9741   193609        Andrew Dice Clay: Dice Rules (1991)   \n",
              "\n",
              "                                           genres  \n",
              "0     Adventure|Animation|Children|Comedy|Fantasy  \n",
              "1                      Adventure|Children|Fantasy  \n",
              "2                                  Comedy|Romance  \n",
              "3                            Comedy|Drama|Romance  \n",
              "4                                          Comedy  \n",
              "...                                           ...  \n",
              "9737              Action|Animation|Comedy|Fantasy  \n",
              "9738                     Animation|Comedy|Fantasy  \n",
              "9739                                        Drama  \n",
              "9740                             Action|Animation  \n",
              "9741                                       Comedy  \n",
              "\n",
              "[9742 rows x 3 columns]"
            ],
            "text/html": [
              "\n",
              "  <div id=\"df-0a79e7f4-dcfa-4c90-8b81-bdf1faa99489\">\n",
              "    <div class=\"colab-df-container\">\n",
              "      <div>\n",
              "<style scoped>\n",
              "    .dataframe tbody tr th:only-of-type {\n",
              "        vertical-align: middle;\n",
              "    }\n",
              "\n",
              "    .dataframe tbody tr th {\n",
              "        vertical-align: top;\n",
              "    }\n",
              "\n",
              "    .dataframe thead th {\n",
              "        text-align: right;\n",
              "    }\n",
              "</style>\n",
              "<table border=\"1\" class=\"dataframe\">\n",
              "  <thead>\n",
              "    <tr style=\"text-align: right;\">\n",
              "      <th></th>\n",
              "      <th>movieId</th>\n",
              "      <th>title</th>\n",
              "      <th>genres</th>\n",
              "    </tr>\n",
              "  </thead>\n",
              "  <tbody>\n",
              "    <tr>\n",
              "      <th>0</th>\n",
              "      <td>1</td>\n",
              "      <td>Toy Story (1995)</td>\n",
              "      <td>Adventure|Animation|Children|Comedy|Fantasy</td>\n",
              "    </tr>\n",
              "    <tr>\n",
              "      <th>1</th>\n",
              "      <td>2</td>\n",
              "      <td>Jumanji (1995)</td>\n",
              "      <td>Adventure|Children|Fantasy</td>\n",
              "    </tr>\n",
              "    <tr>\n",
              "      <th>2</th>\n",
              "      <td>3</td>\n",
              "      <td>Grumpier Old Men (1995)</td>\n",
              "      <td>Comedy|Romance</td>\n",
              "    </tr>\n",
              "    <tr>\n",
              "      <th>3</th>\n",
              "      <td>4</td>\n",
              "      <td>Waiting to Exhale (1995)</td>\n",
              "      <td>Comedy|Drama|Romance</td>\n",
              "    </tr>\n",
              "    <tr>\n",
              "      <th>4</th>\n",
              "      <td>5</td>\n",
              "      <td>Father of the Bride Part II (1995)</td>\n",
              "      <td>Comedy</td>\n",
              "    </tr>\n",
              "    <tr>\n",
              "      <th>...</th>\n",
              "      <td>...</td>\n",
              "      <td>...</td>\n",
              "      <td>...</td>\n",
              "    </tr>\n",
              "    <tr>\n",
              "      <th>9737</th>\n",
              "      <td>193581</td>\n",
              "      <td>Black Butler: Book of the Atlantic (2017)</td>\n",
              "      <td>Action|Animation|Comedy|Fantasy</td>\n",
              "    </tr>\n",
              "    <tr>\n",
              "      <th>9738</th>\n",
              "      <td>193583</td>\n",
              "      <td>No Game No Life: Zero (2017)</td>\n",
              "      <td>Animation|Comedy|Fantasy</td>\n",
              "    </tr>\n",
              "    <tr>\n",
              "      <th>9739</th>\n",
              "      <td>193585</td>\n",
              "      <td>Flint (2017)</td>\n",
              "      <td>Drama</td>\n",
              "    </tr>\n",
              "    <tr>\n",
              "      <th>9740</th>\n",
              "      <td>193587</td>\n",
              "      <td>Bungo Stray Dogs: Dead Apple (2018)</td>\n",
              "      <td>Action|Animation</td>\n",
              "    </tr>\n",
              "    <tr>\n",
              "      <th>9741</th>\n",
              "      <td>193609</td>\n",
              "      <td>Andrew Dice Clay: Dice Rules (1991)</td>\n",
              "      <td>Comedy</td>\n",
              "    </tr>\n",
              "  </tbody>\n",
              "</table>\n",
              "<p>9742 rows × 3 columns</p>\n",
              "</div>\n",
              "      <button class=\"colab-df-convert\" onclick=\"convertToInteractive('df-0a79e7f4-dcfa-4c90-8b81-bdf1faa99489')\"\n",
              "              title=\"Convert this dataframe to an interactive table.\"\n",
              "              style=\"display:none;\">\n",
              "        \n",
              "  <svg xmlns=\"http://www.w3.org/2000/svg\" height=\"24px\"viewBox=\"0 0 24 24\"\n",
              "       width=\"24px\">\n",
              "    <path d=\"M0 0h24v24H0V0z\" fill=\"none\"/>\n",
              "    <path d=\"M18.56 5.44l.94 2.06.94-2.06 2.06-.94-2.06-.94-.94-2.06-.94 2.06-2.06.94zm-11 1L8.5 8.5l.94-2.06 2.06-.94-2.06-.94L8.5 2.5l-.94 2.06-2.06.94zm10 10l.94 2.06.94-2.06 2.06-.94-2.06-.94-.94-2.06-.94 2.06-2.06.94z\"/><path d=\"M17.41 7.96l-1.37-1.37c-.4-.4-.92-.59-1.43-.59-.52 0-1.04.2-1.43.59L10.3 9.45l-7.72 7.72c-.78.78-.78 2.05 0 2.83L4 21.41c.39.39.9.59 1.41.59.51 0 1.02-.2 1.41-.59l7.78-7.78 2.81-2.81c.8-.78.8-2.07 0-2.86zM5.41 20L4 18.59l7.72-7.72 1.47 1.35L5.41 20z\"/>\n",
              "  </svg>\n",
              "      </button>\n",
              "      \n",
              "  <style>\n",
              "    .colab-df-container {\n",
              "      display:flex;\n",
              "      flex-wrap:wrap;\n",
              "      gap: 12px;\n",
              "    }\n",
              "\n",
              "    .colab-df-convert {\n",
              "      background-color: #E8F0FE;\n",
              "      border: none;\n",
              "      border-radius: 50%;\n",
              "      cursor: pointer;\n",
              "      display: none;\n",
              "      fill: #1967D2;\n",
              "      height: 32px;\n",
              "      padding: 0 0 0 0;\n",
              "      width: 32px;\n",
              "    }\n",
              "\n",
              "    .colab-df-convert:hover {\n",
              "      background-color: #E2EBFA;\n",
              "      box-shadow: 0px 1px 2px rgba(60, 64, 67, 0.3), 0px 1px 3px 1px rgba(60, 64, 67, 0.15);\n",
              "      fill: #174EA6;\n",
              "    }\n",
              "\n",
              "    [theme=dark] .colab-df-convert {\n",
              "      background-color: #3B4455;\n",
              "      fill: #D2E3FC;\n",
              "    }\n",
              "\n",
              "    [theme=dark] .colab-df-convert:hover {\n",
              "      background-color: #434B5C;\n",
              "      box-shadow: 0px 1px 3px 1px rgba(0, 0, 0, 0.15);\n",
              "      filter: drop-shadow(0px 1px 2px rgba(0, 0, 0, 0.3));\n",
              "      fill: #FFFFFF;\n",
              "    }\n",
              "  </style>\n",
              "\n",
              "      <script>\n",
              "        const buttonEl =\n",
              "          document.querySelector('#df-0a79e7f4-dcfa-4c90-8b81-bdf1faa99489 button.colab-df-convert');\n",
              "        buttonEl.style.display =\n",
              "          google.colab.kernel.accessAllowed ? 'block' : 'none';\n",
              "\n",
              "        async function convertToInteractive(key) {\n",
              "          const element = document.querySelector('#df-0a79e7f4-dcfa-4c90-8b81-bdf1faa99489');\n",
              "          const dataTable =\n",
              "            await google.colab.kernel.invokeFunction('convertToInteractive',\n",
              "                                                     [key], {});\n",
              "          if (!dataTable) return;\n",
              "\n",
              "          const docLinkHtml = 'Like what you see? Visit the ' +\n",
              "            '<a target=\"_blank\" href=https://colab.research.google.com/notebooks/data_table.ipynb>data table notebook</a>'\n",
              "            + ' to learn more about interactive tables.';\n",
              "          element.innerHTML = '';\n",
              "          dataTable['output_type'] = 'display_data';\n",
              "          await google.colab.output.renderOutput(dataTable, element);\n",
              "          const docLink = document.createElement('div');\n",
              "          docLink.innerHTML = docLinkHtml;\n",
              "          element.appendChild(docLink);\n",
              "        }\n",
              "      </script>\n",
              "    </div>\n",
              "  </div>\n",
              "  "
            ]
          },
          "metadata": {},
          "execution_count": 6
        }
      ]
    },
    {
      "cell_type": "code",
      "source": [
        "ratings"
      ],
      "metadata": {
        "id": "fsnXuDilQaAm",
        "outputId": "d8f91e1c-8b44-4201-8923-ba8363047d22",
        "colab": {
          "base_uri": "https://localhost:8080/",
          "height": 424
        }
      },
      "execution_count": 7,
      "outputs": [
        {
          "output_type": "execute_result",
          "data": {
            "text/plain": [
              "        userId  movieId  rating   timestamp\n",
              "0            1        1     4.0   964982703\n",
              "1            1        3     4.0   964981247\n",
              "2            1        6     4.0   964982224\n",
              "3            1       47     5.0   964983815\n",
              "4            1       50     5.0   964982931\n",
              "...        ...      ...     ...         ...\n",
              "100831     610   166534     4.0  1493848402\n",
              "100832     610   168248     5.0  1493850091\n",
              "100833     610   168250     5.0  1494273047\n",
              "100834     610   168252     5.0  1493846352\n",
              "100835     610   170875     3.0  1493846415\n",
              "\n",
              "[100836 rows x 4 columns]"
            ],
            "text/html": [
              "\n",
              "  <div id=\"df-c440c2f8-e66c-47b1-ae9e-ac4499a33557\">\n",
              "    <div class=\"colab-df-container\">\n",
              "      <div>\n",
              "<style scoped>\n",
              "    .dataframe tbody tr th:only-of-type {\n",
              "        vertical-align: middle;\n",
              "    }\n",
              "\n",
              "    .dataframe tbody tr th {\n",
              "        vertical-align: top;\n",
              "    }\n",
              "\n",
              "    .dataframe thead th {\n",
              "        text-align: right;\n",
              "    }\n",
              "</style>\n",
              "<table border=\"1\" class=\"dataframe\">\n",
              "  <thead>\n",
              "    <tr style=\"text-align: right;\">\n",
              "      <th></th>\n",
              "      <th>userId</th>\n",
              "      <th>movieId</th>\n",
              "      <th>rating</th>\n",
              "      <th>timestamp</th>\n",
              "    </tr>\n",
              "  </thead>\n",
              "  <tbody>\n",
              "    <tr>\n",
              "      <th>0</th>\n",
              "      <td>1</td>\n",
              "      <td>1</td>\n",
              "      <td>4.0</td>\n",
              "      <td>964982703</td>\n",
              "    </tr>\n",
              "    <tr>\n",
              "      <th>1</th>\n",
              "      <td>1</td>\n",
              "      <td>3</td>\n",
              "      <td>4.0</td>\n",
              "      <td>964981247</td>\n",
              "    </tr>\n",
              "    <tr>\n",
              "      <th>2</th>\n",
              "      <td>1</td>\n",
              "      <td>6</td>\n",
              "      <td>4.0</td>\n",
              "      <td>964982224</td>\n",
              "    </tr>\n",
              "    <tr>\n",
              "      <th>3</th>\n",
              "      <td>1</td>\n",
              "      <td>47</td>\n",
              "      <td>5.0</td>\n",
              "      <td>964983815</td>\n",
              "    </tr>\n",
              "    <tr>\n",
              "      <th>4</th>\n",
              "      <td>1</td>\n",
              "      <td>50</td>\n",
              "      <td>5.0</td>\n",
              "      <td>964982931</td>\n",
              "    </tr>\n",
              "    <tr>\n",
              "      <th>...</th>\n",
              "      <td>...</td>\n",
              "      <td>...</td>\n",
              "      <td>...</td>\n",
              "      <td>...</td>\n",
              "    </tr>\n",
              "    <tr>\n",
              "      <th>100831</th>\n",
              "      <td>610</td>\n",
              "      <td>166534</td>\n",
              "      <td>4.0</td>\n",
              "      <td>1493848402</td>\n",
              "    </tr>\n",
              "    <tr>\n",
              "      <th>100832</th>\n",
              "      <td>610</td>\n",
              "      <td>168248</td>\n",
              "      <td>5.0</td>\n",
              "      <td>1493850091</td>\n",
              "    </tr>\n",
              "    <tr>\n",
              "      <th>100833</th>\n",
              "      <td>610</td>\n",
              "      <td>168250</td>\n",
              "      <td>5.0</td>\n",
              "      <td>1494273047</td>\n",
              "    </tr>\n",
              "    <tr>\n",
              "      <th>100834</th>\n",
              "      <td>610</td>\n",
              "      <td>168252</td>\n",
              "      <td>5.0</td>\n",
              "      <td>1493846352</td>\n",
              "    </tr>\n",
              "    <tr>\n",
              "      <th>100835</th>\n",
              "      <td>610</td>\n",
              "      <td>170875</td>\n",
              "      <td>3.0</td>\n",
              "      <td>1493846415</td>\n",
              "    </tr>\n",
              "  </tbody>\n",
              "</table>\n",
              "<p>100836 rows × 4 columns</p>\n",
              "</div>\n",
              "      <button class=\"colab-df-convert\" onclick=\"convertToInteractive('df-c440c2f8-e66c-47b1-ae9e-ac4499a33557')\"\n",
              "              title=\"Convert this dataframe to an interactive table.\"\n",
              "              style=\"display:none;\">\n",
              "        \n",
              "  <svg xmlns=\"http://www.w3.org/2000/svg\" height=\"24px\"viewBox=\"0 0 24 24\"\n",
              "       width=\"24px\">\n",
              "    <path d=\"M0 0h24v24H0V0z\" fill=\"none\"/>\n",
              "    <path d=\"M18.56 5.44l.94 2.06.94-2.06 2.06-.94-2.06-.94-.94-2.06-.94 2.06-2.06.94zm-11 1L8.5 8.5l.94-2.06 2.06-.94-2.06-.94L8.5 2.5l-.94 2.06-2.06.94zm10 10l.94 2.06.94-2.06 2.06-.94-2.06-.94-.94-2.06-.94 2.06-2.06.94z\"/><path d=\"M17.41 7.96l-1.37-1.37c-.4-.4-.92-.59-1.43-.59-.52 0-1.04.2-1.43.59L10.3 9.45l-7.72 7.72c-.78.78-.78 2.05 0 2.83L4 21.41c.39.39.9.59 1.41.59.51 0 1.02-.2 1.41-.59l7.78-7.78 2.81-2.81c.8-.78.8-2.07 0-2.86zM5.41 20L4 18.59l7.72-7.72 1.47 1.35L5.41 20z\"/>\n",
              "  </svg>\n",
              "      </button>\n",
              "      \n",
              "  <style>\n",
              "    .colab-df-container {\n",
              "      display:flex;\n",
              "      flex-wrap:wrap;\n",
              "      gap: 12px;\n",
              "    }\n",
              "\n",
              "    .colab-df-convert {\n",
              "      background-color: #E8F0FE;\n",
              "      border: none;\n",
              "      border-radius: 50%;\n",
              "      cursor: pointer;\n",
              "      display: none;\n",
              "      fill: #1967D2;\n",
              "      height: 32px;\n",
              "      padding: 0 0 0 0;\n",
              "      width: 32px;\n",
              "    }\n",
              "\n",
              "    .colab-df-convert:hover {\n",
              "      background-color: #E2EBFA;\n",
              "      box-shadow: 0px 1px 2px rgba(60, 64, 67, 0.3), 0px 1px 3px 1px rgba(60, 64, 67, 0.15);\n",
              "      fill: #174EA6;\n",
              "    }\n",
              "\n",
              "    [theme=dark] .colab-df-convert {\n",
              "      background-color: #3B4455;\n",
              "      fill: #D2E3FC;\n",
              "    }\n",
              "\n",
              "    [theme=dark] .colab-df-convert:hover {\n",
              "      background-color: #434B5C;\n",
              "      box-shadow: 0px 1px 3px 1px rgba(0, 0, 0, 0.15);\n",
              "      filter: drop-shadow(0px 1px 2px rgba(0, 0, 0, 0.3));\n",
              "      fill: #FFFFFF;\n",
              "    }\n",
              "  </style>\n",
              "\n",
              "      <script>\n",
              "        const buttonEl =\n",
              "          document.querySelector('#df-c440c2f8-e66c-47b1-ae9e-ac4499a33557 button.colab-df-convert');\n",
              "        buttonEl.style.display =\n",
              "          google.colab.kernel.accessAllowed ? 'block' : 'none';\n",
              "\n",
              "        async function convertToInteractive(key) {\n",
              "          const element = document.querySelector('#df-c440c2f8-e66c-47b1-ae9e-ac4499a33557');\n",
              "          const dataTable =\n",
              "            await google.colab.kernel.invokeFunction('convertToInteractive',\n",
              "                                                     [key], {});\n",
              "          if (!dataTable) return;\n",
              "\n",
              "          const docLinkHtml = 'Like what you see? Visit the ' +\n",
              "            '<a target=\"_blank\" href=https://colab.research.google.com/notebooks/data_table.ipynb>data table notebook</a>'\n",
              "            + ' to learn more about interactive tables.';\n",
              "          element.innerHTML = '';\n",
              "          dataTable['output_type'] = 'display_data';\n",
              "          await google.colab.output.renderOutput(dataTable, element);\n",
              "          const docLink = document.createElement('div');\n",
              "          docLink.innerHTML = docLinkHtml;\n",
              "          element.appendChild(docLink);\n",
              "        }\n",
              "      </script>\n",
              "    </div>\n",
              "  </div>\n",
              "  "
            ]
          },
          "metadata": {},
          "execution_count": 7
        }
      ]
    },
    {
      "cell_type": "code",
      "source": [
        "class RatingSet:\n",
        "  def __init__(self, csv_path='ml-latest-small/ratings.csv'):\n",
        "    self.ratings = pd.read_csv(csv_path)\n",
        "\n",
        "    # how many unique users exist in this dataset\n",
        "    self.n_users = len(set(dataset.ratings['userId']))\n",
        "    self.n_movies = len(set(dataset.ratings['movieId']))\n",
        "\n",
        "    # list the every ids of included users\n",
        "    self.user_ids = list(set(dataset.ratings['userId']))\n",
        "    self.movie_ids = sorted(list(set(dataset.ratings['movieId'])))\n",
        "\n",
        "    # we have to find in which idx the given movieId exists in this dataset's movie ID\n",
        "    self.movie2idx = {id: idx for idx, id in enumerate(self.movie_ids)}\n",
        "    self.user2idx = {id: idx for idx, id in enumerate(self.user_ids)}\n",
        "\n",
        "  def __len__(self):\n",
        "    return len(self.ratings) # number of ratings in the dataset\n",
        "\n",
        "  def __getitem__(self, idx):\n",
        "    idx_row = self.ratings.iloc[idx]\n",
        "\n",
        "    user_id = self.user2idx[idx_row.userId]\n",
        "    movie_id = self.movie2idx[idx_row.movieId]\n",
        "    rating = idx_row.rating\n",
        "\n",
        "    return user_id, movie_id, rating\n",
        "\n",
        "\n",
        "dataset = RatingSet()\n",
        "# set(dataset.ratings['userId'])\n",
        "dataset.ratings\n",
        "# dataset.movie_ids.index(1019)\n",
        "# dataset.movie2idx[1019], dataset.movie_ids[777]\n",
        "dataset[5000]"
      ],
      "metadata": {
        "id": "b6uO_CV-Qwba",
        "outputId": "b40f9815-9546-49e6-cc51-3a38048f05ec",
        "colab": {
          "base_uri": "https://localhost:8080/"
        }
      },
      "execution_count": 37,
      "outputs": [
        {
          "output_type": "execute_result",
          "data": {
            "text/plain": [
              "(31, 630, 4.0)"
            ]
          },
          "metadata": {},
          "execution_count": 37
        }
      ]
    },
    {
      "cell_type": "code",
      "source": [
        "# indexing pandas DataFrame in a row\n",
        "dataset.ratings.iloc[0]"
      ],
      "metadata": {
        "id": "mL6uyOguUFxo",
        "outputId": "25eb22db-1413-43ab-ea03-56daf9853f13",
        "colab": {
          "base_uri": "https://localhost:8080/"
        }
      },
      "execution_count": 32,
      "outputs": [
        {
          "output_type": "execute_result",
          "data": {
            "text/plain": [
              "userId               1.0\n",
              "movieId              1.0\n",
              "rating               4.0\n",
              "timestamp    964982703.0\n",
              "Name: 0, dtype: float64"
            ]
          },
          "metadata": {},
          "execution_count": 32
        }
      ]
    },
    {
      "cell_type": "code",
      "source": [
        "dataloader = torch.utils.data.DataLoader(dataset, batch_size=128, shuffle=True)\n",
        "\n",
        "batch = next(iter(dataloader))\n",
        "batch"
      ],
      "metadata": {
        "id": "sd7Qzo5oR5uB",
        "outputId": "5da0087d-a057-4178-c181-ce6ea91f8d67",
        "colab": {
          "base_uri": "https://localhost:8080/"
        }
      },
      "execution_count": 55,
      "outputs": [
        {
          "output_type": "execute_result",
          "data": {
            "text/plain": [
              "[tensor([602, 281, 367, 304, 566,  61, 341, 131,  19, 216, 123, 273, 199, 519,\n",
              "         259, 386, 386, 598, 589, 465, 605,  19, 212, 248, 565, 536, 466, 223,\n",
              "         193,  50, 519,  27, 404, 381, 159, 219, 473, 139,  72, 566,  67, 317,\n",
              "         289, 215, 330, 375,  83, 473, 561, 609,  37, 364, 563, 541, 599, 333,\n",
              "         447,   3, 307, 139, 273, 434, 317, 584, 579, 609, 598, 591, 223,   6,\n",
              "         431, 607, 447, 284, 551, 488, 245, 244, 598, 526, 219, 161, 598, 596,\n",
              "         366, 447, 104, 473, 559, 134, 558, 273, 479, 211, 598,  67, 513, 329,\n",
              "          67, 468, 106, 104, 297, 104, 607, 566, 343,  32, 413, 223, 159, 304,\n",
              "         551,  96,  99, 379, 176, 479, 597, 417, 345, 409, 107, 248, 413, 194,\n",
              "         607, 238]),\n",
              " tensor([1310, 2257, 2217, 5777, 9367, 6753, 2225,  827, 3520,  253, 4900, 6288,\n",
              "         6753,  818, 4020, 4163, 5222, 1670, 6071, 6517, 2887, 1971,  349, 8038,\n",
              "          197, 4153, 1502,  250,  986, 5885,  406, 4939, 1223, 4460, 1801, 1542,\n",
              "         1059, 1258, 8668, 8906,    1, 8377, 1073, 2951, 4909, 1075,  889, 2191,\n",
              "         6554, 6752,  314, 8673, 7368, 2884, 1284, 5324,  862,  546, 6259, 3544,\n",
              "         6202, 2224, 4791, 2992,  925, 8432, 1294,  334, 1543, 5212, 6868, 2030,\n",
              "         3518,  384, 3005,   17,  201, 1047, 3986, 1037, 6864,  505, 2759, 1639,\n",
              "         1828, 3172, 3885,  745, 6239,  767,  313, 6867, 2824, 8021, 7706,  229,\n",
              "         2650, 1938, 6813, 1430,  253, 2466, 4345, 8331, 5250, 9415, 1486,  489,\n",
              "         1339,  334, 1242,  733, 1321, 3185, 1585, 7841, 6664, 3005, 8785,  944,\n",
              "          859,  876, 3634, 8161, 4791, 2543,  773, 1575]),\n",
              " tensor([5.0000, 4.5000, 3.0000, 4.5000, 3.0000, 3.5000, 3.0000, 3.0000, 3.5000,\n",
              "         3.0000, 5.0000, 4.0000, 4.0000, 2.0000, 5.0000, 3.5000, 2.5000, 2.5000,\n",
              "         2.5000, 4.0000, 3.0000, 2.5000, 2.5000, 4.0000, 2.0000, 5.0000, 4.0000,\n",
              "         5.0000, 4.0000, 3.5000, 3.5000, 4.0000, 4.0000, 3.5000, 1.0000, 3.0000,\n",
              "         2.0000, 5.0000, 5.0000, 0.5000, 2.5000, 3.5000, 4.0000, 4.0000, 2.0000,\n",
              "         4.0000, 3.0000, 2.0000, 4.5000, 2.5000, 3.0000, 3.5000, 3.5000, 4.0000,\n",
              "         3.0000, 3.0000, 5.0000, 3.0000, 2.0000, 4.5000, 2.5000, 5.0000, 3.5000,\n",
              "         5.0000, 4.0000, 3.5000, 4.0000, 3.0000, 4.0000, 4.5000, 4.0000, 2.5000,\n",
              "         2.0000, 5.0000, 1.0000, 2.0000, 4.0000, 3.0000, 2.5000, 4.0000, 3.0000,\n",
              "         3.0000, 3.0000, 5.0000, 4.0000, 3.0000, 3.5000, 3.5000, 3.5000, 4.0000,\n",
              "         3.0000, 3.5000, 0.5000, 4.0000, 2.5000, 4.0000, 4.0000, 3.5000, 3.0000,\n",
              "         4.0000, 4.0000, 4.0000, 3.0000, 4.5000, 3.5000, 1.0000, 5.0000, 5.0000,\n",
              "         3.0000, 4.0000, 5.0000, 4.0000, 3.5000, 4.0000, 4.5000, 5.0000, 3.0000,\n",
              "         2.5000, 5.0000, 5.0000, 4.0000, 4.0000, 3.0000, 4.0000, 4.0000, 3.0000,\n",
              "         2.5000, 4.5000], dtype=torch.float64)]"
            ]
          },
          "metadata": {},
          "execution_count": 55
        }
      ]
    },
    {
      "cell_type": "code",
      "source": [
        "class MatrixFactorizer(nn.Module):\n",
        "  def __init__(self, n_user, n_movie, n_factor):\n",
        "    super().__init__()\n",
        "\n",
        "    self.user_embedding = nn.Embedding(n_user, n_factor)\n",
        "    self.movie_embedding = nn.Embedding(n_movie, n_factor)\n",
        "  \n",
        "  def forward(self, x):\n",
        "    return\n",
        "\n",
        "model = MatrixFactorizer(dataset.n_users, dataset.n_movies, n_factor=5)\n",
        "model.movie_embedding.weight"
      ],
      "metadata": {
        "id": "keaIlv7MVrEP",
        "outputId": "bfed078b-e1c6-4d02-b1e4-b68d7dc430e4",
        "colab": {
          "base_uri": "https://localhost:8080/"
        }
      },
      "execution_count": 53,
      "outputs": [
        {
          "output_type": "execute_result",
          "data": {
            "text/plain": [
              "Parameter containing:\n",
              "tensor([[-0.4785, -0.7349,  0.4144,  0.3459, -0.3760],\n",
              "        [ 0.3609, -0.8168, -0.7085, -0.5950,  0.2063],\n",
              "        [ 1.3869,  0.3119, -1.0054, -0.7740,  0.0990],\n",
              "        ...,\n",
              "        [ 0.5754,  0.4393,  1.0168, -0.6943,  0.0390],\n",
              "        [ 0.4661, -0.0200, -0.3364, -0.4844,  0.2236],\n",
              "        [-1.3954,  2.1226,  0.7522, -1.6019,  2.4323]], requires_grad=True)"
            ]
          },
          "metadata": {},
          "execution_count": 53
        }
      ]
    },
    {
      "cell_type": "code",
      "source": [
        "# making prediction for given user and movie Id\n",
        "user_id, movie_id, rating = dataset[0]\n",
        "\n",
        "user_id = torch.tensor(user_id)\n",
        "movie_id = torch.tensor(movie_id)\n",
        "\n",
        "# call the embedding of corresponding user and movie\n",
        "user_emb_vec = model.user_embedding(user_id)\n",
        "movie_emb_vec = model.movie_embedding(movie_id)\n",
        "\n",
        "# get dot product result\n",
        "# user_emb_vec, movie_emb_vec, (user_emb_vec * movie_emb_vec)\n",
        "# dot_result = (user_emb_vec * movie_emb_vec).sum()\n",
        "\n",
        "dot_result = torch.matmul(user_emb_vec, movie_emb_vec)\n",
        "dot_result"
      ],
      "metadata": {
        "id": "JbSWOdiXXRUt",
        "outputId": "95264745-a6f5-432c-fea5-24f3d398023e",
        "colab": {
          "base_uri": "https://localhost:8080/"
        }
      },
      "execution_count": 69,
      "outputs": [
        {
          "output_type": "execute_result",
          "data": {
            "text/plain": [
              "tensor(-0.0615, grad_fn=<DotBackward0>)"
            ]
          },
          "metadata": {},
          "execution_count": 69
        }
      ]
    },
    {
      "cell_type": "code",
      "source": [
        "user_id, movie_id, rating = batch\n",
        "\n",
        "user_emb_vec = model.user_embedding(user_id)\n",
        "movie_emb_vec = model.movie_embedding(movie_id)\n",
        "\n",
        "print(user_emb_vec.shape, movie_emb_vec.shape)\n",
        "(user_emb_vec * movie_emb_vec).sum(dim=-1)"
      ],
      "metadata": {
        "id": "XnsF2aojYhMX",
        "outputId": "3cbc0195-02f6-4ebb-9c9c-4496259f2ee3",
        "colab": {
          "base_uri": "https://localhost:8080/"
        }
      },
      "execution_count": 76,
      "outputs": [
        {
          "output_type": "stream",
          "name": "stdout",
          "text": [
            "torch.Size([128, 5]) torch.Size([128, 5])\n"
          ]
        },
        {
          "output_type": "execute_result",
          "data": {
            "text/plain": [
              "tensor([-2.2351,  0.1631,  1.2320,  0.3572, -1.4796,  0.3605, -0.1290,  3.5240,\n",
              "        -0.4034,  1.4790, -2.1340,  0.9387, -0.5723,  1.6360, -2.9310,  0.1947,\n",
              "         4.1074,  0.0477, -3.1284,  2.3812,  1.3904, -0.8724, -2.1411,  1.1913,\n",
              "        -1.8387,  2.9212,  2.5635,  1.4362, -0.1799, -5.2855,  1.5802,  0.1372,\n",
              "         1.6774, -1.4472,  0.1147, -1.2136, -0.7481,  1.6723, -3.0173,  2.4982,\n",
              "         0.1609, -0.6296, -0.8426, -1.1950,  0.2637,  0.8032,  2.3075,  0.1663,\n",
              "         1.8574,  0.4669, -0.2635, -0.2691, -3.6967, -0.9938, -3.4730,  5.0250,\n",
              "         2.2036, -1.4197, -0.4889, -0.2947, -0.2924, -0.9876,  0.1431, -2.9164,\n",
              "        -2.7954, -1.2981,  5.5226, -3.2246,  3.9338, -0.0168, -1.0363, -2.4994,\n",
              "         1.1945, -0.4011,  3.1179,  4.9508, -0.6357,  1.2160,  1.3154,  1.1693,\n",
              "         1.5246, -0.0071,  5.7332,  0.8066,  1.7512,  3.7719, -2.3335,  2.5403,\n",
              "        -0.3350, -0.5588, -0.5933,  0.6803, -2.1063,  3.0579,  2.5349, -0.2510,\n",
              "        -0.6980,  1.3990,  2.8466, -3.4978,  0.7118, -2.8024,  1.4644,  2.3628,\n",
              "         1.3642, -0.8709,  1.7952,  0.6033, -1.9086, -0.0428, -3.6547,  2.0736,\n",
              "        -0.9481,  0.3164,  1.8021,  1.9126,  0.5228,  2.9762,  0.9490, -2.0126,\n",
              "        -0.5624,  2.1480, -3.8059,  0.0425,  0.2513,  0.6256,  3.0556, -2.7789],\n",
              "       grad_fn=<SumBackward1>)"
            ]
          },
          "metadata": {},
          "execution_count": 76
        }
      ]
    },
    {
      "cell_type": "code",
      "source": [
        "\n",
        "emb_test = nn.Embedding(num_embeddings=12, embedding_dim=5)\n",
        "emb_test.weight\n"
      ],
      "metadata": {
        "id": "EC8GAHU4W-f-"
      },
      "execution_count": null,
      "outputs": []
    },
    {
      "cell_type": "code",
      "source": [
        "test_ids = torch.tensor([5,8,1,0])\n",
        "emb_test(test_ids)"
      ],
      "metadata": {
        "id": "1JD4t04dWXjc",
        "outputId": "aaee7a06-3c62-4f56-c2b1-e0f564244790",
        "colab": {
          "base_uri": "https://localhost:8080/"
        }
      },
      "execution_count": 48,
      "outputs": [
        {
          "output_type": "execute_result",
          "data": {
            "text/plain": [
              "tensor([[-0.5702,  0.7185, -0.0459, -0.2225, -0.5316],\n",
              "        [-2.5704,  0.0466, -1.3711,  0.2310, -0.4315],\n",
              "        [-0.2621, -1.4530, -0.4934, -0.9529, -0.1507],\n",
              "        [ 0.1753,  1.1969,  0.4925,  0.5635, -0.1250]],\n",
              "       grad_fn=<EmbeddingBackward0>)"
            ]
          },
          "metadata": {},
          "execution_count": 48
        }
      ]
    }
  ],
  "metadata": {
    "kernelspec": {
      "display_name": "Python 3.8.10 64-bit",
      "language": "python",
      "name": "python3"
    },
    "language_info": {
      "name": "python",
      "version": "3.8.10"
    },
    "orig_nbformat": 4,
    "vscode": {
      "interpreter": {
        "hash": "31f2aee4e71d21fbe5cf8b01ff0e069b9275f58929596ceb00d14d90e3e16cd6"
      }
    },
    "colab": {
      "provenance": []
    }
  },
  "nbformat": 4,
  "nbformat_minor": 0
}