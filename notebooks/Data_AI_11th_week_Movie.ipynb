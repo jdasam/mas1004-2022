{
  "cells": [
    {
      "cell_type": "markdown",
      "metadata": {
        "id": "LKokb5vRPvl4"
      },
      "source": [
        "<a href=\"https://colab.research.google.com/github/jdasam/mas1004-2022/blob/main/notebooks/Data_AI_11th_week_Movie.ipynb\" target=\"_parent\"><img src=\"https://colab.research.google.com/assets/colab-badge.svg\" alt=\"Open In Colab\"/></a>"
      ]
    },
    {
      "cell_type": "markdown",
      "metadata": {
        "id": "O0mJAiDbPvl6"
      },
      "source": [
        "# Collaborative Filtering with MovieLens Dataset"
      ]
    },
    {
      "cell_type": "code",
      "execution_count": 1,
      "metadata": {
        "id": "j3hLHcUfPvl6"
      },
      "outputs": [],
      "source": [
        "import torch\n",
        "import torch.nn as nn\n",
        "import pandas as pd\n",
        "import matplotlib.pyplot as plt\n",
        "from tqdm.auto import tqdm\n"
      ]
    },
    {
      "cell_type": "code",
      "execution_count": 2,
      "metadata": {
        "id": "Gkl-iECCPvl6"
      },
      "outputs": [],
      "source": [
        "torch.set_printoptions(sci_mode=False)"
      ]
    },
    {
      "cell_type": "code",
      "execution_count": 3,
      "metadata": {
        "colab": {
          "base_uri": "https://localhost:8080/"
        },
        "id": "OyuLBr_PPvl7",
        "outputId": "a3d3f16b-4aa5-410a-f137-ec9baacb5890"
      },
      "outputs": [
        {
          "name": "stdout",
          "output_type": "stream",
          "text": [
            "--2022-11-15 14:32:06--  https://files.grouplens.org/datasets/movielens/ml-latest-small.zip\n",
            "Resolving files.grouplens.org (files.grouplens.org)... 128.101.65.152\n",
            "Connecting to files.grouplens.org (files.grouplens.org)|128.101.65.152|:443... connected.\n",
            "HTTP request sent, awaiting response... 200 OK\n",
            "Length: 978202 (955K) [application/zip]\n",
            "Saving to: ‘ml-latest-small.zip.2’\n",
            "\n",
            "ml-latest-small.zip 100%[===================>] 955.28K   819KB/s    in 1.2s    \n",
            "\n",
            "2022-11-15 14:32:08 (819 KB/s) - ‘ml-latest-small.zip.2’ saved [978202/978202]\n",
            "\n"
          ]
        }
      ],
      "source": [
        "!wget https://files.grouplens.org/datasets/movielens/ml-latest-small.zip"
      ]
    },
    {
      "cell_type": "code",
      "execution_count": 4,
      "metadata": {
        "colab": {
          "base_uri": "https://localhost:8080/"
        },
        "id": "KU0CB9IMPvl7",
        "outputId": "0a590faf-042e-4044-a508-46886df33656"
      },
      "outputs": [
        {
          "name": "stdout",
          "output_type": "stream",
          "text": [
            "Archive:  ml-latest-small.zip\n",
            "replace ml-latest-small/links.csv? [y]es, [n]o, [A]ll, [N]one, [r]ename: ^C\n"
          ]
        }
      ],
      "source": [
        "!unzip ml-latest-small.zip"
      ]
    },
    {
      "cell_type": "code",
      "execution_count": 5,
      "metadata": {
        "id": "WQirvGuLPvl7"
      },
      "outputs": [],
      "source": [
        "movies = pd.read_csv('ml-latest-small/movies.csv')\n",
        "ratings = pd.read_csv('ml-latest-small/ratings.csv')"
      ]
    },
    {
      "cell_type": "code",
      "execution_count": 6,
      "metadata": {
        "colab": {
          "base_uri": "https://localhost:8080/",
          "height": 468
        },
        "id": "wx5sG8Z9QTNu",
        "outputId": "1d9320c2-51ac-4c22-994a-6f539324a108"
      },
      "outputs": [
        {
          "data": {
            "text/html": [
              "<div>\n",
              "<style scoped>\n",
              "    .dataframe tbody tr th:only-of-type {\n",
              "        vertical-align: middle;\n",
              "    }\n",
              "\n",
              "    .dataframe tbody tr th {\n",
              "        vertical-align: top;\n",
              "    }\n",
              "\n",
              "    .dataframe thead th {\n",
              "        text-align: right;\n",
              "    }\n",
              "</style>\n",
              "<table border=\"1\" class=\"dataframe\">\n",
              "  <thead>\n",
              "    <tr style=\"text-align: right;\">\n",
              "      <th></th>\n",
              "      <th>movieId</th>\n",
              "      <th>title</th>\n",
              "      <th>genres</th>\n",
              "    </tr>\n",
              "  </thead>\n",
              "  <tbody>\n",
              "    <tr>\n",
              "      <th>0</th>\n",
              "      <td>1</td>\n",
              "      <td>Toy Story (1995)</td>\n",
              "      <td>Adventure|Animation|Children|Comedy|Fantasy</td>\n",
              "    </tr>\n",
              "    <tr>\n",
              "      <th>1</th>\n",
              "      <td>2</td>\n",
              "      <td>Jumanji (1995)</td>\n",
              "      <td>Adventure|Children|Fantasy</td>\n",
              "    </tr>\n",
              "    <tr>\n",
              "      <th>2</th>\n",
              "      <td>3</td>\n",
              "      <td>Grumpier Old Men (1995)</td>\n",
              "      <td>Comedy|Romance</td>\n",
              "    </tr>\n",
              "    <tr>\n",
              "      <th>3</th>\n",
              "      <td>4</td>\n",
              "      <td>Waiting to Exhale (1995)</td>\n",
              "      <td>Comedy|Drama|Romance</td>\n",
              "    </tr>\n",
              "    <tr>\n",
              "      <th>4</th>\n",
              "      <td>5</td>\n",
              "      <td>Father of the Bride Part II (1995)</td>\n",
              "      <td>Comedy</td>\n",
              "    </tr>\n",
              "    <tr>\n",
              "      <th>...</th>\n",
              "      <td>...</td>\n",
              "      <td>...</td>\n",
              "      <td>...</td>\n",
              "    </tr>\n",
              "    <tr>\n",
              "      <th>9737</th>\n",
              "      <td>193581</td>\n",
              "      <td>Black Butler: Book of the Atlantic (2017)</td>\n",
              "      <td>Action|Animation|Comedy|Fantasy</td>\n",
              "    </tr>\n",
              "    <tr>\n",
              "      <th>9738</th>\n",
              "      <td>193583</td>\n",
              "      <td>No Game No Life: Zero (2017)</td>\n",
              "      <td>Animation|Comedy|Fantasy</td>\n",
              "    </tr>\n",
              "    <tr>\n",
              "      <th>9739</th>\n",
              "      <td>193585</td>\n",
              "      <td>Flint (2017)</td>\n",
              "      <td>Drama</td>\n",
              "    </tr>\n",
              "    <tr>\n",
              "      <th>9740</th>\n",
              "      <td>193587</td>\n",
              "      <td>Bungo Stray Dogs: Dead Apple (2018)</td>\n",
              "      <td>Action|Animation</td>\n",
              "    </tr>\n",
              "    <tr>\n",
              "      <th>9741</th>\n",
              "      <td>193609</td>\n",
              "      <td>Andrew Dice Clay: Dice Rules (1991)</td>\n",
              "      <td>Comedy</td>\n",
              "    </tr>\n",
              "  </tbody>\n",
              "</table>\n",
              "<p>9742 rows × 3 columns</p>\n",
              "</div>"
            ],
            "text/plain": [
              "      movieId                                      title  \\\n",
              "0           1                           Toy Story (1995)   \n",
              "1           2                             Jumanji (1995)   \n",
              "2           3                    Grumpier Old Men (1995)   \n",
              "3           4                   Waiting to Exhale (1995)   \n",
              "4           5         Father of the Bride Part II (1995)   \n",
              "...       ...                                        ...   \n",
              "9737   193581  Black Butler: Book of the Atlantic (2017)   \n",
              "9738   193583               No Game No Life: Zero (2017)   \n",
              "9739   193585                               Flint (2017)   \n",
              "9740   193587        Bungo Stray Dogs: Dead Apple (2018)   \n",
              "9741   193609        Andrew Dice Clay: Dice Rules (1991)   \n",
              "\n",
              "                                           genres  \n",
              "0     Adventure|Animation|Children|Comedy|Fantasy  \n",
              "1                      Adventure|Children|Fantasy  \n",
              "2                                  Comedy|Romance  \n",
              "3                            Comedy|Drama|Romance  \n",
              "4                                          Comedy  \n",
              "...                                           ...  \n",
              "9737              Action|Animation|Comedy|Fantasy  \n",
              "9738                     Animation|Comedy|Fantasy  \n",
              "9739                                        Drama  \n",
              "9740                             Action|Animation  \n",
              "9741                                       Comedy  \n",
              "\n",
              "[9742 rows x 3 columns]"
            ]
          },
          "execution_count": 6,
          "metadata": {},
          "output_type": "execute_result"
        }
      ],
      "source": [
        "movies"
      ]
    },
    {
      "cell_type": "code",
      "execution_count": 7,
      "metadata": {
        "colab": {
          "base_uri": "https://localhost:8080/",
          "height": 424
        },
        "id": "fsnXuDilQaAm",
        "outputId": "d8f91e1c-8b44-4201-8923-ba8363047d22"
      },
      "outputs": [
        {
          "data": {
            "text/html": [
              "<div>\n",
              "<style scoped>\n",
              "    .dataframe tbody tr th:only-of-type {\n",
              "        vertical-align: middle;\n",
              "    }\n",
              "\n",
              "    .dataframe tbody tr th {\n",
              "        vertical-align: top;\n",
              "    }\n",
              "\n",
              "    .dataframe thead th {\n",
              "        text-align: right;\n",
              "    }\n",
              "</style>\n",
              "<table border=\"1\" class=\"dataframe\">\n",
              "  <thead>\n",
              "    <tr style=\"text-align: right;\">\n",
              "      <th></th>\n",
              "      <th>userId</th>\n",
              "      <th>movieId</th>\n",
              "      <th>rating</th>\n",
              "      <th>timestamp</th>\n",
              "    </tr>\n",
              "  </thead>\n",
              "  <tbody>\n",
              "    <tr>\n",
              "      <th>0</th>\n",
              "      <td>1</td>\n",
              "      <td>1</td>\n",
              "      <td>4.0</td>\n",
              "      <td>964982703</td>\n",
              "    </tr>\n",
              "    <tr>\n",
              "      <th>1</th>\n",
              "      <td>1</td>\n",
              "      <td>3</td>\n",
              "      <td>4.0</td>\n",
              "      <td>964981247</td>\n",
              "    </tr>\n",
              "    <tr>\n",
              "      <th>2</th>\n",
              "      <td>1</td>\n",
              "      <td>6</td>\n",
              "      <td>4.0</td>\n",
              "      <td>964982224</td>\n",
              "    </tr>\n",
              "    <tr>\n",
              "      <th>3</th>\n",
              "      <td>1</td>\n",
              "      <td>47</td>\n",
              "      <td>5.0</td>\n",
              "      <td>964983815</td>\n",
              "    </tr>\n",
              "    <tr>\n",
              "      <th>4</th>\n",
              "      <td>1</td>\n",
              "      <td>50</td>\n",
              "      <td>5.0</td>\n",
              "      <td>964982931</td>\n",
              "    </tr>\n",
              "    <tr>\n",
              "      <th>...</th>\n",
              "      <td>...</td>\n",
              "      <td>...</td>\n",
              "      <td>...</td>\n",
              "      <td>...</td>\n",
              "    </tr>\n",
              "    <tr>\n",
              "      <th>100831</th>\n",
              "      <td>610</td>\n",
              "      <td>166534</td>\n",
              "      <td>4.0</td>\n",
              "      <td>1493848402</td>\n",
              "    </tr>\n",
              "    <tr>\n",
              "      <th>100832</th>\n",
              "      <td>610</td>\n",
              "      <td>168248</td>\n",
              "      <td>5.0</td>\n",
              "      <td>1493850091</td>\n",
              "    </tr>\n",
              "    <tr>\n",
              "      <th>100833</th>\n",
              "      <td>610</td>\n",
              "      <td>168250</td>\n",
              "      <td>5.0</td>\n",
              "      <td>1494273047</td>\n",
              "    </tr>\n",
              "    <tr>\n",
              "      <th>100834</th>\n",
              "      <td>610</td>\n",
              "      <td>168252</td>\n",
              "      <td>5.0</td>\n",
              "      <td>1493846352</td>\n",
              "    </tr>\n",
              "    <tr>\n",
              "      <th>100835</th>\n",
              "      <td>610</td>\n",
              "      <td>170875</td>\n",
              "      <td>3.0</td>\n",
              "      <td>1493846415</td>\n",
              "    </tr>\n",
              "  </tbody>\n",
              "</table>\n",
              "<p>100836 rows × 4 columns</p>\n",
              "</div>"
            ],
            "text/plain": [
              "        userId  movieId  rating   timestamp\n",
              "0            1        1     4.0   964982703\n",
              "1            1        3     4.0   964981247\n",
              "2            1        6     4.0   964982224\n",
              "3            1       47     5.0   964983815\n",
              "4            1       50     5.0   964982931\n",
              "...        ...      ...     ...         ...\n",
              "100831     610   166534     4.0  1493848402\n",
              "100832     610   168248     5.0  1493850091\n",
              "100833     610   168250     5.0  1494273047\n",
              "100834     610   168252     5.0  1493846352\n",
              "100835     610   170875     3.0  1493846415\n",
              "\n",
              "[100836 rows x 4 columns]"
            ]
          },
          "execution_count": 7,
          "metadata": {},
          "output_type": "execute_result"
        }
      ],
      "source": [
        "ratings"
      ]
    },
    {
      "cell_type": "code",
      "execution_count": 9,
      "metadata": {
        "colab": {
          "base_uri": "https://localhost:8080/"
        },
        "id": "b6uO_CV-Qwba",
        "outputId": "b40f9815-9546-49e6-cc51-3a38048f05ec"
      },
      "outputs": [
        {
          "data": {
            "text/plain": [
              "(31, 630, 4.0)"
            ]
          },
          "execution_count": 9,
          "metadata": {},
          "output_type": "execute_result"
        }
      ],
      "source": [
        "class RatingSet:\n",
        "  def __init__(self, csv_path='ml-latest-small/ratings.csv'):\n",
        "    self.ratings = pd.read_csv(csv_path)\n",
        "\n",
        "    # how many unique users exist in this dataset\n",
        "    self.n_users = len(set(self.ratings['userId']))\n",
        "    self.n_movies = len(set(self.ratings['movieId']))\n",
        "\n",
        "    # list the every ids of included users\n",
        "    self.user_ids = list(set(self.ratings['userId']))\n",
        "    self.movie_ids = sorted(list(set(self.ratings['movieId'])))\n",
        "\n",
        "    # we have to find in which idx the given movieId exists in this dataset's movie ID\n",
        "    self.movie2idx = {id: idx for idx, id in enumerate(self.movie_ids)}\n",
        "    self.user2idx = {id: idx for idx, id in enumerate(self.user_ids)}\n",
        "\n",
        "  def __len__(self):\n",
        "    return len(self.ratings) # number of ratings in the dataset\n",
        "\n",
        "  def __getitem__(self, idx):\n",
        "    idx_row = self.ratings.iloc[idx]\n",
        "\n",
        "    user_id = self.user2idx[idx_row.userId]\n",
        "    movie_id = self.movie2idx[idx_row.movieId]\n",
        "    rating = idx_row.rating\n",
        "\n",
        "    return user_id, movie_id, rating\n",
        "\n",
        "\n",
        "dataset = RatingSet()\n",
        "# set(dataset.ratings['userId'])\n",
        "dataset.ratings\n",
        "# dataset.movie_ids.index(1019)\n",
        "# dataset.movie2idx[1019], dataset.movie_ids[777]\n",
        "dataset[5000]"
      ]
    },
    {
      "cell_type": "code",
      "execution_count": 10,
      "metadata": {
        "colab": {
          "base_uri": "https://localhost:8080/"
        },
        "id": "mL6uyOguUFxo",
        "outputId": "25eb22db-1413-43ab-ea03-56daf9853f13"
      },
      "outputs": [
        {
          "data": {
            "text/plain": [
              "userId               1.0\n",
              "movieId              1.0\n",
              "rating               4.0\n",
              "timestamp    964982703.0\n",
              "Name: 0, dtype: float64"
            ]
          },
          "execution_count": 10,
          "metadata": {},
          "output_type": "execute_result"
        }
      ],
      "source": [
        "# indexing pandas DataFrame in a row\n",
        "dataset.ratings.iloc[0]"
      ]
    },
    {
      "cell_type": "code",
      "execution_count": 17,
      "metadata": {
        "colab": {
          "base_uri": "https://localhost:8080/"
        },
        "id": "sd7Qzo5oR5uB",
        "outputId": "5da0087d-a057-4178-c181-ce6ea91f8d67"
      },
      "outputs": [
        {
          "data": {
            "text/plain": [
              "[tensor([181, 176, 181, 297, 273, 116, 424, 324, 538, 287, 131, 181, 427, 605,\n",
              "          18,  19, 598, 579, 541, 559, 596, 231, 211, 179, 576,  45, 306, 418,\n",
              "         413, 102, 447, 287, 386, 112,  63, 551, 413, 454, 273, 453, 598, 437,\n",
              "         102, 273, 253, 545, 589, 431, 599, 379, 464, 494, 501, 589,  76, 176,\n",
              "         447, 248, 514, 459, 479, 306, 199, 220, 553, 201, 255, 379, 128, 291,\n",
              "         468,  63,  56, 159, 473,   3, 602, 474, 291,  20, 507, 218, 474, 485,\n",
              "         479, 598,  67, 599,  42, 181, 317, 199,  90, 176, 216, 181, 559, 491,\n",
              "         559, 224, 259, 186, 482, 513,   9, 259, 414, 468, 149, 201, 104, 595,\n",
              "         481, 131, 281, 324, 216, 473, 547, 324, 447, 560, 599, 468, 176, 473,\n",
              "         131, 423]),\n",
              " tensor([5761, 7307, 2390, 5250, 1935,  216, 1208,  978,  963, 4332,  649,   92,\n",
              "          607, 3859,  387,  835,  636, 4402, 3635, 2466,  658, 6905, 9344,  959,\n",
              "         1494,  126, 5801,  659, 3929, 7670,  398, 2627, 1266, 1062, 2026, 4040,\n",
              "         2556,  376, 4600, 4900, 8893, 5331,  980, 2300, 6153, 1845, 4303,  325,\n",
              "         1397, 8315, 1885, 8972, 1996, 2510, 2940, 1403,   11, 3609, 8677, 6968,\n",
              "         4311,  793, 4359, 2741,  322, 2107, 3868, 7713, 2799,  793, 1495,  835,\n",
              "          422, 2030, 2248,  135, 1114, 1486, 6869, 7047, 1794, 6758, 5365,  197,\n",
              "         5870, 8534, 4134,  697,  421, 2234, 5279, 4900, 1235, 7289,  508, 3007,\n",
              "         3152,  658, 5151,  818,  972, 2615,  336, 1574, 6731, 2802,  685, 2694,\n",
              "          431,  877, 8956, 2955,  297, 3101, 4295, 1398, 1270,  957,   61, 2966,\n",
              "         3417, 3430, 6468,  930, 3793,  599, 3740,  830]),\n",
              " tensor([3.5000, 3.5000, 4.0000, 2.5000, 3.5000, 4.0000, 3.0000, 4.0000, 3.5000,\n",
              "         3.5000, 3.0000, 3.0000, 1.5000, 3.0000, 2.0000, 5.0000, 1.5000, 4.5000,\n",
              "         4.5000, 3.5000, 2.0000, 4.5000, 3.5000, 4.0000, 4.0000, 4.0000, 2.5000,\n",
              "         5.0000, 2.5000, 4.0000, 4.0000, 3.0000, 3.0000, 3.0000, 3.5000, 5.0000,\n",
              "         3.0000, 3.0000, 2.5000, 3.5000, 3.5000, 3.0000, 3.5000, 4.5000, 3.0000,\n",
              "         3.0000, 2.5000, 2.5000, 2.0000, 3.0000, 2.0000, 5.0000, 3.5000, 4.0000,\n",
              "         3.0000, 1.0000, 2.0000, 4.0000, 5.0000, 4.5000, 3.5000, 3.0000, 4.0000,\n",
              "         4.0000, 4.0000, 4.0000, 4.0000, 5.0000, 4.0000, 4.0000, 4.0000, 4.5000,\n",
              "         3.0000, 2.0000, 4.0000, 5.0000, 4.0000, 5.0000, 4.0000, 3.5000, 1.5000,\n",
              "         3.5000, 4.5000, 3.0000, 3.5000, 3.0000, 3.5000, 3.5000, 5.0000, 4.5000,\n",
              "         4.5000, 4.5000, 3.0000, 3.0000, 4.0000, 4.5000, 3.0000, 3.0000, 2.5000,\n",
              "         4.0000, 4.0000, 5.0000, 1.0000, 4.0000, 2.0000, 4.0000, 4.0000, 2.0000,\n",
              "         3.0000, 4.0000, 4.0000, 4.0000, 4.0000, 2.0000, 3.5000, 1.0000, 3.0000,\n",
              "         4.0000, 5.0000, 2.0000, 4.0000, 4.0000, 3.0000, 4.0000, 3.0000, 4.0000,\n",
              "         3.5000, 4.0000], dtype=torch.float64)]"
            ]
          },
          "execution_count": 17,
          "metadata": {},
          "output_type": "execute_result"
        }
      ],
      "source": [
        "dataloader = torch.utils.data.DataLoader(dataset, batch_size=128, shuffle=True)\n",
        "\n",
        "batch = next(iter(dataloader))\n",
        "batch"
      ]
    },
    {
      "cell_type": "code",
      "execution_count": 14,
      "metadata": {
        "colab": {
          "base_uri": "https://localhost:8080/"
        },
        "id": "keaIlv7MVrEP",
        "outputId": "bfed078b-e1c6-4d02-b1e4-b68d7dc430e4"
      },
      "outputs": [
        {
          "data": {
            "text/plain": [
              "Parameter containing:\n",
              "tensor([[-2.7139, -0.9692, -0.6128, -0.6940,  2.3084],\n",
              "        [ 0.8686,  1.4290, -0.1051,  0.1433, -0.0877],\n",
              "        [ 0.5351,  1.4501,  0.5428, -0.1345, -0.3333],\n",
              "        ...,\n",
              "        [ 1.5514,  0.9710,  1.0824, -0.5386,  0.5400],\n",
              "        [ 0.0377, -2.7129, -1.3009, -0.5098, -1.2406],\n",
              "        [ 0.3800,  1.0245, -0.2848, -0.8668, -0.8347]], requires_grad=True)"
            ]
          },
          "execution_count": 14,
          "metadata": {},
          "output_type": "execute_result"
        }
      ],
      "source": [
        "class MatrixFactorizer(nn.Module):\n",
        "  def __init__(self, n_user, n_movie, n_factor):\n",
        "    super().__init__()\n",
        "\n",
        "    self.user_embedding = nn.Embedding(n_user, n_factor)\n",
        "    self.movie_embedding = nn.Embedding(n_movie, n_factor)\n",
        "  \n",
        "  def forward(self, x):\n",
        "    return\n",
        "\n",
        "model = MatrixFactorizer(dataset.n_users, dataset.n_movies, n_factor=5)\n",
        "model.movie_embedding.weight"
      ]
    },
    {
      "cell_type": "code",
      "execution_count": 15,
      "metadata": {
        "colab": {
          "base_uri": "https://localhost:8080/"
        },
        "id": "JbSWOdiXXRUt",
        "outputId": "95264745-a6f5-432c-fea5-24f3d398023e"
      },
      "outputs": [
        {
          "data": {
            "text/plain": [
              "tensor(-0.4179, grad_fn=<DotBackward0>)"
            ]
          },
          "execution_count": 15,
          "metadata": {},
          "output_type": "execute_result"
        }
      ],
      "source": [
        "# making prediction for given user and movie Id\n",
        "user_id, movie_id, rating = dataset[0]\n",
        "\n",
        "user_id = torch.tensor(user_id)\n",
        "movie_id = torch.tensor(movie_id)\n",
        "\n",
        "# call the embedding of corresponding user and movie\n",
        "user_emb_vec = model.user_embedding(user_id)\n",
        "movie_emb_vec = model.movie_embedding(movie_id)\n",
        "\n",
        "# get dot product result\n",
        "# user_emb_vec, movie_emb_vec, (user_emb_vec * movie_emb_vec)\n",
        "# dot_result = (user_emb_vec * movie_emb_vec).sum()\n",
        "\n",
        "dot_result = torch.matmul(user_emb_vec, movie_emb_vec)\n",
        "dot_result"
      ]
    },
    {
      "cell_type": "code",
      "execution_count": 18,
      "metadata": {
        "colab": {
          "base_uri": "https://localhost:8080/"
        },
        "id": "XnsF2aojYhMX",
        "outputId": "3cbc0195-02f6-4ebb-9c9c-4496259f2ee3"
      },
      "outputs": [
        {
          "name": "stdout",
          "output_type": "stream",
          "text": [
            "torch.Size([128, 5]) torch.Size([128, 5])\n"
          ]
        },
        {
          "data": {
            "text/plain": [
              "tensor([-0.4425,  2.5511, -1.5023,  0.3361,  1.4652, -1.1858, -1.0929,  0.7490,\n",
              "        -1.3958,  3.3112,  1.5317,  0.0539,  0.3393, -1.5901,  1.7209, -1.1860,\n",
              "        -2.2672, -1.8001,  0.0321, -2.8619,  3.0432,  4.2050, -3.3824, -0.2631,\n",
              "         1.9497,  0.2496,  1.7556,  0.6536,  2.6054, -0.3940,  0.7813, -0.7134,\n",
              "         1.8206,  1.9378,  5.0987,  0.4230, -0.5187, -5.3864, -1.5774,  0.0146,\n",
              "        -2.6817,  0.5819, -1.6246,  2.5275,  3.4925, -2.9228, -2.7488, -8.4362,\n",
              "         0.4238, -3.0844,  0.6985, -2.4748, -1.2272, -0.8409,  0.4309,  0.4241,\n",
              "         1.7677, -0.1824,  0.3536,  0.0702,  0.6044, -0.0136, -0.6089,  1.4871,\n",
              "         0.0768, -0.3250, -4.3249,  1.1507,  2.6857, -1.0612, -0.9979, -0.5572,\n",
              "        -2.0680,  1.3364,  2.7656, -0.1069,  0.0945, -3.2904, -0.0527, -1.1879,\n",
              "        -0.9639, -1.4756,  3.7180,  0.2125, -2.3871, -1.6099, -5.4729,  0.4599,\n",
              "        -0.0644,  0.1535,  1.4403,  5.4030, -0.4485, -0.1153, -1.2884,  0.6868,\n",
              "         0.5835,  4.6144,  3.7662, -4.1255,  1.3132,  3.8379, -1.9170,  0.5428,\n",
              "         3.2591,  0.1806, -2.4463, -0.1114, -2.5130,  0.4150, -4.4965, -0.2783,\n",
              "        -2.8942,  2.8843, -0.6189,  1.5857,  0.2215, -0.9578, -2.2755,  4.7667,\n",
              "        -3.9853, -2.4824, -1.3846,  1.5869, -1.4556, -0.4663,  0.3475,  1.7458],\n",
              "       grad_fn=<SumBackward1>)"
            ]
          },
          "execution_count": 18,
          "metadata": {},
          "output_type": "execute_result"
        }
      ],
      "source": [
        "user_id, movie_id, rating = batch\n",
        "\n",
        "user_emb_vec = model.user_embedding(user_id)\n",
        "movie_emb_vec = model.movie_embedding(movie_id)\n",
        "\n",
        "print(user_emb_vec.shape, movie_emb_vec.shape)\n",
        "(user_emb_vec * movie_emb_vec).sum(dim=-1)"
      ]
    },
    {
      "cell_type": "code",
      "execution_count": null,
      "metadata": {
        "id": "EC8GAHU4W-f-"
      },
      "outputs": [],
      "source": [
        "\n",
        "emb_test = nn.Embedding(num_embeddings=12, embedding_dim=5)\n",
        "emb_test.weight\n"
      ]
    },
    {
      "cell_type": "code",
      "execution_count": 48,
      "metadata": {
        "colab": {
          "base_uri": "https://localhost:8080/"
        },
        "id": "1JD4t04dWXjc",
        "outputId": "aaee7a06-3c62-4f56-c2b1-e0f564244790"
      },
      "outputs": [
        {
          "data": {
            "text/plain": [
              "tensor([[-0.5702,  0.7185, -0.0459, -0.2225, -0.5316],\n",
              "        [-2.5704,  0.0466, -1.3711,  0.2310, -0.4315],\n",
              "        [-0.2621, -1.4530, -0.4934, -0.9529, -0.1507],\n",
              "        [ 0.1753,  1.1969,  0.4925,  0.5635, -0.1250]],\n",
              "       grad_fn=<EmbeddingBackward0>)"
            ]
          },
          "execution_count": 48,
          "metadata": {},
          "output_type": "execute_result"
        }
      ],
      "source": [
        "test_ids = torch.tensor([5,8,1,0])\n",
        "emb_test(test_ids)"
      ]
    },
    {
      "cell_type": "markdown",
      "metadata": {},
      "source": [
        "# Training a model\n",
        "- Train model with `Trainer` class\n",
        "  - This is from the Assignment 2\n",
        "- Now the task is regression\n",
        "  - We are estimating the raiting in a continous value\n",
        "- We have to split dataset into train / valid / test"
      ]
    },
    {
      "cell_type": "code",
      "execution_count": 22,
      "metadata": {},
      "outputs": [],
      "source": [
        "num_train = int(len(dataset)*0.8)\n",
        "num_valid = int(len(dataset)*0.1)\n",
        "num_test = len(dataset) - num_train - num_valid\n",
        "\n",
        "train_set, valid_set, test_set = torch.utils.data.random_split(dataset, [num_train, num_valid, num_test])\n",
        "train_loader = torch.utils.data.DataLoader(train_set, batch_size=128, shuffle=True)\n",
        "valid_loader = torch.utils.data.DataLoader(valid_set, batch_size=128, shuffle=False)\n",
        "test_loader = torch.utils.data.DataLoader(test_set, batch_size=128, shuffle=False)"
      ]
    },
    {
      "cell_type": "code",
      "execution_count": null,
      "metadata": {},
      "outputs": [],
      "source": [
        "class Trainer:\n",
        "  def __init__(self, model, train_loader, valid_loader, model_name='resnet'):\n",
        "    self.model = model\n",
        "    self.train_loader = train_loader\n",
        "    self.valid_loader = valid_loader\n",
        "    self.device = torch.device(\"cuda:0\" if torch.cuda.is_available() else \"cpu\")\n",
        "    self.model.to(self.device)\n",
        "    self.criterion = nn.NLLLoss()\n",
        "    self.optimizer = torch.optim.Adam(self.model.parameters(), lr=1e-3)\n",
        "    self.best_loss = torch.inf\n",
        "    self.best_acc = 0.0\n",
        "    self.train_losses = []\n",
        "    self.valid_losses = []\n",
        "    self.train_accs = []\n",
        "    self.valid_accs = []\n",
        "    self.model_name = model_name\n",
        "\n",
        "  def validation(self):\n",
        "    self.model.eval() # change the model from train mode to evaluation mode\n",
        "    # Some models work in different ways based on whtehter it is on training step\n",
        "    # or on inference step\n",
        "\n",
        "    # In validation step, you don't have to calculate the gradient\n",
        "    # with torch.no_grad():\n",
        "\n",
        "    current_loss = 0\n",
        "    num_total_correct_pred = 0\n",
        "    with torch.inference_mode(): # every torch computation under this indent\n",
        "    # will be run without calculating the gradient or computation history\n",
        "      for batch in self.valid_loader:\n",
        "        images, labels = batch\n",
        "        images, labels = images.to(self.device), labels.to(self.device)\n",
        "        outputs = self.model(images)\n",
        "        probs = torch.softmax(outputs, dim=-1)\n",
        "        log_probs = torch.log(probs)\n",
        "\n",
        "        loss = self.criterion(log_probs, labels)\n",
        "        predicted_classes = torch.argmax(outputs, dim=-1)\n",
        "        num_acc_pred = (predicted_classes == labels.to(self.device)).sum()\n",
        "        #num_acc_pred is on self.device\n",
        "        num_total_correct_pred += num_acc_pred.item()\n",
        "        # in validation stage, we don't care about single batch's loss\n",
        "        # we want to see the result for total images of validation set\n",
        "\n",
        "        current_loss += loss.item() * len(labels)\n",
        "        # instead of adding the mean loss, we add sum of loss\n",
        "        # because the batch size can be different\n",
        "    mean_loss = current_loss / len(self.valid_loader.dataset)\n",
        "    mean_acc = num_total_correct_pred / len(self.valid_loader.dataset) # number of total datasample in the validation loader\n",
        "    return mean_loss, mean_acc\n",
        "    # return {'loss': mean_loss, 'acc': mean_acc}\n",
        "\n",
        "\n",
        "\n",
        "  def train_by_number_of_epochs(self, num_epochs):\n",
        "    for epoch in tqdm(range(num_epochs)):\n",
        "      self.model.train()\n",
        "      for batch in tqdm(self.train_loader, leave=False):\n",
        "        images, labels = batch\n",
        "        images, labels = images.to(self.device), labels.to(self.device)\n",
        "        self.optimizer.zero_grad()\n",
        "        outputs = self.model(images) # this is logits\n",
        "        probs = torch.softmax(outputs, dim=-1)\n",
        "        log_probs = torch.log(probs)\n",
        "        loss = self.criterion(log_probs, labels) # you have to feed log_probs\n",
        "\n",
        "        acc = (torch.argmax(outputs, dim=-1) == labels.to(self.device)).sum() / len(labels)\n",
        "        # for torch.nn.NLLLoss\n",
        "        loss.backward()\n",
        "        self.optimizer.step()\n",
        "\n",
        "        self.train_losses.append(loss.item())\n",
        "        self.train_accs.append(acc.item())\n",
        "        # don't try self.train_losses.append(loss)\n",
        "      # training step has ended\n",
        "      # we want to test our model on the validation set\n",
        "      valid_loss, valid_acc = self.validation()\n",
        "\n",
        "      # is this model the best? \n",
        "      # let's decide it based on valid_acc\n",
        "      if valid_acc > self.best_acc:\n",
        "        self.best_acc = valid_acc\n",
        "\n",
        "        # If it is the best model, save the model's weight'\n",
        "        models_parameters = self.model.state_dict()\n",
        "        print(f\"Saving best model at epoch {len(self.valid_accs)}, acc: {valid_acc}\")\n",
        "        torch.save(models_parameters, f'{self.model_name}_best.pt')\n",
        "\n",
        "      self.valid_losses.append(valid_loss)\n",
        "      self.valid_accs.append(valid_acc)\n",
        "\n",
        "    # Plot Accuracy curve\n",
        "    plt.plot(self.train_accs)\n",
        "    plt.plot(range(len(self.train_loader)-1, len(self.train_accs), len(self.train_loader)) ,self.valid_accs)\n",
        "    plt.title(\"Accuracy\")\n",
        "\n"
      ]
    },
    {
      "cell_type": "markdown",
      "metadata": {},
      "source": [
        "## Inference (test)\n",
        "- Estimating a score for given User ID and Movie ID"
      ]
    },
    {
      "cell_type": "markdown",
      "metadata": {},
      "source": [
        "## Cosine Similarity\n",
        "- We can calculate similarity between two embeddings by using Cosine Similarity\n",
        "  - $\\text{cosine similarity} = \\frac{\\textbf{A}\\cdot \\textbf{B}}{\\|\\textbf{A}\\|\\|\\textbf{B}\\|} = \\frac{\\sum_{i=1}^{n}A_iB_i}{\\sqrt{\\sum_{i=1}^nA_i^2}\\sqrt{\\sum_{i=1}^nB_i^2}}$ "
      ]
    },
    {
      "cell_type": "markdown",
      "metadata": {},
      "source": [
        "# Visualization of Embedding"
      ]
    },
    {
      "cell_type": "code",
      "execution_count": null,
      "metadata": {},
      "outputs": [],
      "source": [
        "!pip install -q umap-learn\n",
        "!pip install -Uq plotly\n",
        "\n",
        "from sklearn.manifold import TSNE\n",
        "from sklearn.decomposition import PCA\n",
        "import matplotlib.pyplot as plt\n",
        "import umap\n",
        "import plotly\n",
        "import plotly.graph_objs as go\n",
        "plotly.offline.init_notebook_mode()\n",
        "\n",
        "def get_umap_embedding(embedding, n_reduced_dimension=2, n_neighbors=15):\n",
        "  reducer = umap.UMAP(n_components=n_reduced_dimension, n_neighbors=n_neighbors)\n",
        "  umap_emb = reducer.fit_transform(embedding)\n",
        "  return umap_emb\n",
        "\n",
        "def make_scatter3d(emb, label):\n",
        "  trace = go.Scatter3d(\n",
        "    x=emb[:,0],  \n",
        "    y=emb[:,1],  \n",
        "    z=emb[:,2], \n",
        "    mode='markers',\n",
        "    marker={\n",
        "        'size': 2,\n",
        "        'opacity': 0.5,\n",
        "    },\n",
        "    text = label,\n",
        "  )\n",
        "  return trace\n",
        "\n",
        "def make_3d_plot_with_pyplot(embs, labels, highlighted_titles):\n",
        "  highlighted_indices = [labels.index(title) if title in labels else 0 for title in highlighted_titles]\n",
        "  layout = go.Layout(\n",
        "      margin={'l': 0, 'r': 0, 'b': 0, 't': 0},\n",
        "      scene=dict(\n",
        "          annotations = [dict(x=embs[i,0], y=embs[i,1], z=embs[i,2],text=labels[i]) for i in highlighted_indices ]\n",
        "      )\n",
        "  )\n",
        "  data = make_scatter3d(embs,labels)\n",
        "  plot_figure = go.Figure(data=data, layout=layout)\n",
        "  plot_figure.update_traces(textposition='top center')\n",
        "  plot_figure.show(renderer=\"colab\")\n"
      ]
    }
  ],
  "metadata": {
    "colab": {
      "provenance": []
    },
    "kernelspec": {
      "display_name": "Python 3.8.10 64-bit",
      "language": "python",
      "name": "python3"
    },
    "language_info": {
      "codemirror_mode": {
        "name": "ipython",
        "version": 3
      },
      "file_extension": ".py",
      "mimetype": "text/x-python",
      "name": "python",
      "nbconvert_exporter": "python",
      "pygments_lexer": "ipython3",
      "version": "3.8.10"
    },
    "orig_nbformat": 4,
    "vscode": {
      "interpreter": {
        "hash": "31f2aee4e71d21fbe5cf8b01ff0e069b9275f58929596ceb00d14d90e3e16cd6"
      }
    }
  },
  "nbformat": 4,
  "nbformat_minor": 0
}
