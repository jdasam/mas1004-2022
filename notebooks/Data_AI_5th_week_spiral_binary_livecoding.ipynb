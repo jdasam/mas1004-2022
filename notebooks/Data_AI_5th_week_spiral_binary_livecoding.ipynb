{
  "nbformat": 4,
  "nbformat_minor": 0,
  "metadata": {
    "colab": {
      "provenance": [],
      "authorship_tag": "ABX9TyMw8rXD3M6CwW07kt31AG37",
      "include_colab_link": true
    },
    "kernelspec": {
      "name": "python3",
      "display_name": "Python 3"
    },
    "language_info": {
      "name": "python"
    }
  },
  "cells": [
    {
      "cell_type": "markdown",
      "metadata": {
        "id": "view-in-github",
        "colab_type": "text"
      },
      "source": [
        "<a href=\"https://colab.research.google.com/github/jdasam/mas1004-2022/blob/main/notebooks/Data_AI_5th_week_spiral_binary_livecoding.ipynb\" target=\"_parent\"><img src=\"https://colab.research.google.com/assets/colab-badge.svg\" alt=\"Open In Colab\"/></a>"
      ]
    },
    {
      "cell_type": "code",
      "execution_count": 1,
      "metadata": {
        "id": "9O-EojgkoEZC"
      },
      "outputs": [],
      "source": [
        "import torch\n",
        "import numpy as np\n",
        "import torch.nn as nn\n",
        "from math import pi"
      ]
    },
    {
      "cell_type": "code",
      "source": [
        "# if you run this code in your local computer, you have to check that torch is installed\n",
        "!pip install torch\n",
        "# But in Google Colab, torch is already installed "
      ],
      "metadata": {
        "id": "bomZsxwfoNGz"
      },
      "execution_count": null,
      "outputs": []
    },
    {
      "cell_type": "code",
      "source": [
        "# make spiral data\n",
        "# https://gist.github.com/45deg/e731d9e7f478de134def5668324c44c5\n",
        "N = 500\n",
        "theta = np.sqrt(np.random.rand(N))*2*pi # np.linspace(0,2*pi,100)\n",
        "\n",
        "r_a = 2*theta + pi\n",
        "data_a = np.array([np.cos(theta)*r_a, np.sin(theta)*r_a]).T\n",
        "x_a = data_a + np.random.randn(N,2)\n",
        "\n",
        "r_b = -2*theta - pi\n",
        "data_b = np.array([np.cos(theta)*r_b, np.sin(theta)*r_b]).T\n",
        "x_b = data_b + np.random.randn(N,2)\n",
        "\n",
        "res_a = np.append(x_a, np.zeros((N,1)), axis=1)\n",
        "res_b = np.append(x_b, np.ones((N,1)), axis=1)\n",
        "\n",
        "res = np.append(res_a, res_b, axis=0)\n",
        "np.random.shuffle(res)"
      ],
      "metadata": {
        "id": "wA2xUxDsoLzE"
      },
      "execution_count": null,
      "outputs": []
    },
    {
      "cell_type": "code",
      "source": [
        "import matplotlib.pyplot as plt\n",
        "def visualize_decision_boundary(model, data, label):\n",
        "  x_linspace = torch.linspace(min(data[:,0]), max(data[:,0]), steps=200)\n",
        "  y_linspace = torch.linspace(min(data[:,1]), max(data[:,1]), steps=200)\n",
        "  grid_x, grid_y = torch.meshgrid(x_linspace, y_linspace)\n",
        "  grid_xy = torch.stack([grid_x, grid_y]).permute(1,2,0)\n",
        "  grid_xy = grid_xy.view(-1, 2)\n",
        "  if isinstance(model, torch.nn.Module):\n",
        "    value_by_grid = model(grid_xy)\n",
        "  else:\n",
        "    value_by_grid = run_neuron(model, grid_xy)\n",
        "  value_by_grid = value_by_grid.view(200, 200, 1)\n",
        "  value_by_grid[value_by_grid<=0.5] = 0\n",
        "  value_by_grid[value_by_grid>0.5] = 1\n",
        "\n",
        "  plt.scatter(x=data[label[:,0]==0,0], y=data[label[:,0]==0,1])\n",
        "  plt.scatter(x=data[label[:,0]==1,0], y=data[label[:,0]==1,1])\n",
        "\n",
        "  plt.contourf(grid_x.detach().numpy(), grid_y.detach().numpy(), value_by_grid.detach().numpy().squeeze(), alpha=0.3)"
      ],
      "metadata": {
        "id": "Z-o1l0qPbMZb"
      },
      "execution_count": null,
      "outputs": []
    },
    {
      "cell_type": "code",
      "source": [
        "# let's convert our data in tensor\n",
        "datas = torch.tensor(res, dtype=torch.float32)\n",
        "# represent each number with 32 bits, instead of 64 bits"
      ],
      "metadata": {
        "id": "7E-Zx8HBjh4A"
      },
      "execution_count": null,
      "outputs": []
    },
    {
      "cell_type": "code",
      "source": [
        "data_xy = datas[:, :2]\n",
        "data_label= datas[:, -1]"
      ],
      "metadata": {
        "id": "vnUXwvPFlUcD"
      },
      "execution_count": null,
      "outputs": []
    },
    {
      "cell_type": "code",
      "source": [
        "class MyModel(nn.Module):\n",
        "  def __init__(self, hidden_size=32):\n",
        "    super().__init__()\n",
        "    self.layer = nn.Sequential(\n",
        "        nn.Linear(2, hidden_size),\n",
        "        nn.ReLU(),\n",
        "        nn.Linear(hidden_size, hidden_size),\n",
        "        nn.ReLU(),\n",
        "        nn.Linear(hidden_size, 1)\n",
        "    )\n",
        "    # self.layer1 = nn.Linear(2, hidden_size) # this is same as in_features=2, out_features=4\n",
        "    # self.layer2 = nn.Linear(hidden_size, hidden_size)\n",
        "    # self.layer3 = nn.Linear(hidden_size, 1)\n",
        "\n",
        "  def forward(self, input_x): \n",
        "    # forward function is called when you give input to your model\n",
        "    # out = self.layer1(input_x)\n",
        "    # pred = self.layer3(self.layer2(out.relu()).relu())\n",
        "\n",
        "    # this will return the prediction of our model\n",
        "    # which has shape of N, 1. (N is number of data samples in input_x)\n",
        "    pred = self.layer(input_x)\n",
        "    return pred\n",
        "  \n",
        "model = MyModel()\n",
        "\n",
        "# Let's do the same things with torch.optim.Optimizer\n",
        "\n",
        "model = MyModel()\n",
        "num_iteration = 1000\n",
        "lr = 1e-3 # 0.001\n",
        "optimizer = torch.optim.Adam(model.parameters(), lr=lr)\n",
        "# tell optimizer to optimize every parameters in the model\n",
        "\n",
        "# save the loss record so that we can plot it\n",
        "loss_record = []\n",
        "\n",
        "# let's train our model for a given number of steps\n",
        "for i in range(num_iteration):\n",
        "  pred = model(data_xy) # make prediction \n",
        "  loss = torch.abs(pred[:,0]-data_label) # calculate loss for each sample\n",
        "  mean_loss = loss.mean() # take average of loss of each sample\n",
        "  # make backpropagation of loss\n",
        "  mean_loss.backward() # this will add gradient for every parameters\n",
        "  optimizer.step() # this will update every parameters in the optimizer (in the model)\n",
        "  optimizer.zero_grad() # reset the gradient of every parameters in the optimizer\n",
        "\n",
        "  # that are connected to the mean loss\n",
        "\n",
        "\n",
        "  # # We have to update model's parameter by its gradient\n",
        "  # for param in model.parameters():\n",
        "  #   # do something\n",
        "  #   # update parameters by its gradient and learning rate\n",
        "  #   param.data -= param.grad * lr\n",
        "  #   param.grad = None # reset the gradient value to None\n",
        "  #   # because the calculated gradient now became old\n",
        "  \n",
        "  # print(mean_loss)\n",
        "  # if you want to only get the float value of a scalar tensor,\n",
        "  # you can call atensor.item()\n",
        "  # print(mean_loss.item())\n",
        "\n",
        "  loss_record.append(mean_loss.item())\n",
        "\n",
        "visualize_decision_boundary(model, data_xy, data_label.unsqueeze(1))"
      ],
      "metadata": {
        "id": "VGG62jBex-i4",
        "outputId": "f119780b-c150-4500-f691-8be6d03cfdc9",
        "colab": {
          "base_uri": "https://localhost:8080/",
          "height": 265
        }
      },
      "execution_count": null,
      "outputs": [
        {
          "output_type": "display_data",
          "data": {
            "text/plain": [
              "<Figure size 432x288 with 1 Axes>"
            ],
            "image/png": "[encoded data removed]"
          },
          "metadata": {
            "needs_background": "light"
          }
        }
      ]
    }
  ]
}