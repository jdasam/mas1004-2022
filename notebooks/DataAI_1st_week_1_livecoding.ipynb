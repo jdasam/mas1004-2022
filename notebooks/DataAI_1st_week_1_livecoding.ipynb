{
  "nbformat": 4,
  "nbformat_minor": 0,
  "metadata": {
    "colab": {
      "provenance": [],
      "collapsed_sections": [],
      "authorship_tag": "ABX9TyPlUAWhJsmllVMp7WOBEU+g",
      "include_colab_link": true
    },
    "kernelspec": {
      "name": "python3",
      "display_name": "Python 3"
    },
    "language_info": {
      "name": "python"
    },
    "accelerator": "GPU",
    "gpuClass": "standard"
  },
  "cells": [
    {
      "cell_type": "markdown",
      "metadata": {
        "id": "view-in-github",
        "colab_type": "text"
      },
      "source": [
        "<a href=\"https://colab.research.google.com/github/jdasam/mas1004-2022/blob/main/notebooks/DataAI_1st_week_1_livecoding.ipynb\" target=\"_parent\"><img src=\"https://colab.research.google.com/assets/colab-badge.svg\" alt=\"Open In Colab\"/></a>"
      ]
    },
    {
      "cell_type": "code",
      "source": [
        "# Install Image scraper\n",
        "!pip install -q jmd_imagescraper"
      ],
      "metadata": {
        "colab": {
          "base_uri": "https://localhost:8080/"
        },
        "id": "W6XJY7fYMv3_",
        "outputId": "4efefe8b-c201-4466-d1c4-92322875798f"
      },
      "execution_count": null,
      "outputs": [
        {
          "output_type": "stream",
          "name": "stdout",
          "text": [
            "\u001b[?25l\r\u001b[K     |▏                               | 10 kB 25.6 MB/s eta 0:00:01\r\u001b[K     |▍                               | 20 kB 30.2 MB/s eta 0:00:01\r\u001b[K     |▋                               | 30 kB 36.6 MB/s eta 0:00:01\r\u001b[K     |▉                               | 40 kB 28.6 MB/s eta 0:00:01\r\u001b[K     |█                               | 51 kB 20.2 MB/s eta 0:00:01\r\u001b[K     |█▎                              | 61 kB 22.8 MB/s eta 0:00:01\r\u001b[K     |█▌                              | 71 kB 23.5 MB/s eta 0:00:01\r\u001b[K     |█▊                              | 81 kB 24.8 MB/s eta 0:00:01\r\u001b[K     |█▉                              | 92 kB 26.4 MB/s eta 0:00:01\r\u001b[K     |██                              | 102 kB 28.0 MB/s eta 0:00:01\r\u001b[K     |██▎                             | 112 kB 28.0 MB/s eta 0:00:01\r\u001b[K     |██▌                             | 122 kB 28.0 MB/s eta 0:00:01\r\u001b[K     |██▊                             | 133 kB 28.0 MB/s eta 0:00:01\r\u001b[K     |███                             | 143 kB 28.0 MB/s eta 0:00:01\r\u001b[K     |███▏                            | 153 kB 28.0 MB/s eta 0:00:01\r\u001b[K     |███▍                            | 163 kB 28.0 MB/s eta 0:00:01\r\u001b[K     |███▌                            | 174 kB 28.0 MB/s eta 0:00:01\r\u001b[K     |███▊                            | 184 kB 28.0 MB/s eta 0:00:01\r\u001b[K     |████                            | 194 kB 28.0 MB/s eta 0:00:01\r\u001b[K     |████▏                           | 204 kB 28.0 MB/s eta 0:00:01\r\u001b[K     |████▍                           | 215 kB 28.0 MB/s eta 0:00:01\r\u001b[K     |████▋                           | 225 kB 28.0 MB/s eta 0:00:01\r\u001b[K     |████▉                           | 235 kB 28.0 MB/s eta 0:00:01\r\u001b[K     |█████                           | 245 kB 28.0 MB/s eta 0:00:01\r\u001b[K     |█████▎                          | 256 kB 28.0 MB/s eta 0:00:01\r\u001b[K     |█████▍                          | 266 kB 28.0 MB/s eta 0:00:01\r\u001b[K     |█████▋                          | 276 kB 28.0 MB/s eta 0:00:01\r\u001b[K     |█████▉                          | 286 kB 28.0 MB/s eta 0:00:01\r\u001b[K     |██████                          | 296 kB 28.0 MB/s eta 0:00:01\r\u001b[K     |██████▎                         | 307 kB 28.0 MB/s eta 0:00:01\r\u001b[K     |██████▌                         | 317 kB 28.0 MB/s eta 0:00:01\r\u001b[K     |██████▊                         | 327 kB 28.0 MB/s eta 0:00:01\r\u001b[K     |███████                         | 337 kB 28.0 MB/s eta 0:00:01\r\u001b[K     |███████                         | 348 kB 28.0 MB/s eta 0:00:01\r\u001b[K     |███████▎                        | 358 kB 28.0 MB/s eta 0:00:01\r\u001b[K     |███████▌                        | 368 kB 28.0 MB/s eta 0:00:01\r\u001b[K     |███████▊                        | 378 kB 28.0 MB/s eta 0:00:01\r\u001b[K     |████████                        | 389 kB 28.0 MB/s eta 0:00:01\r\u001b[K     |████████▏                       | 399 kB 28.0 MB/s eta 0:00:01\r\u001b[K     |████████▍                       | 409 kB 28.0 MB/s eta 0:00:01\r\u001b[K     |████████▋                       | 419 kB 28.0 MB/s eta 0:00:01\r\u001b[K     |████████▉                       | 430 kB 28.0 MB/s eta 0:00:01\r\u001b[K     |█████████                       | 440 kB 28.0 MB/s eta 0:00:01\r\u001b[K     |█████████▏                      | 450 kB 28.0 MB/s eta 0:00:01\r\u001b[K     |█████████▍                      | 460 kB 28.0 MB/s eta 0:00:01\r\u001b[K     |█████████▋                      | 471 kB 28.0 MB/s eta 0:00:01\r\u001b[K     |█████████▉                      | 481 kB 28.0 MB/s eta 0:00:01\r\u001b[K     |██████████                      | 491 kB 28.0 MB/s eta 0:00:01\r\u001b[K     |██████████▎                     | 501 kB 28.0 MB/s eta 0:00:01\r\u001b[K     |██████████▌                     | 512 kB 28.0 MB/s eta 0:00:01\r\u001b[K     |██████████▋                     | 522 kB 28.0 MB/s eta 0:00:01\r\u001b[K     |██████████▉                     | 532 kB 28.0 MB/s eta 0:00:01\r\u001b[K     |███████████                     | 542 kB 28.0 MB/s eta 0:00:01\r\u001b[K     |███████████▎                    | 552 kB 28.0 MB/s eta 0:00:01\r\u001b[K     |███████████▌                    | 563 kB 28.0 MB/s eta 0:00:01\r\u001b[K     |███████████▊                    | 573 kB 28.0 MB/s eta 0:00:01\r\u001b[K     |████████████                    | 583 kB 28.0 MB/s eta 0:00:01\r\u001b[K     |████████████▏                   | 593 kB 28.0 MB/s eta 0:00:01\r\u001b[K     |████████████▍                   | 604 kB 28.0 MB/s eta 0:00:01\r\u001b[K     |████████████▌                   | 614 kB 28.0 MB/s eta 0:00:01\r\u001b[K     |████████████▊                   | 624 kB 28.0 MB/s eta 0:00:01\r\u001b[K     |█████████████                   | 634 kB 28.0 MB/s eta 0:00:01\r\u001b[K     |█████████████▏                  | 645 kB 28.0 MB/s eta 0:00:01\r\u001b[K     |█████████████▍                  | 655 kB 28.0 MB/s eta 0:00:01\r\u001b[K     |█████████████▋                  | 665 kB 28.0 MB/s eta 0:00:01\r\u001b[K     |█████████████▉                  | 675 kB 28.0 MB/s eta 0:00:01\r\u001b[K     |██████████████                  | 686 kB 28.0 MB/s eta 0:00:01\r\u001b[K     |██████████████▏                 | 696 kB 28.0 MB/s eta 0:00:01\r\u001b[K     |██████████████▍                 | 706 kB 28.0 MB/s eta 0:00:01\r\u001b[K     |██████████████▋                 | 716 kB 28.0 MB/s eta 0:00:01\r\u001b[K     |██████████████▉                 | 727 kB 28.0 MB/s eta 0:00:01\r\u001b[K     |███████████████                 | 737 kB 28.0 MB/s eta 0:00:01\r\u001b[K     |███████████████▎                | 747 kB 28.0 MB/s eta 0:00:01\r\u001b[K     |███████████████▌                | 757 kB 28.0 MB/s eta 0:00:01\r\u001b[K     |███████████████▊                | 768 kB 28.0 MB/s eta 0:00:01\r\u001b[K     |████████████████                | 778 kB 28.0 MB/s eta 0:00:01\r\u001b[K     |████████████████                | 788 kB 28.0 MB/s eta 0:00:01\r\u001b[K     |████████████████▎               | 798 kB 28.0 MB/s eta 0:00:01\r\u001b[K     |████████████████▌               | 808 kB 28.0 MB/s eta 0:00:01\r\u001b[K     |████████████████▊               | 819 kB 28.0 MB/s eta 0:00:01\r\u001b[K     |█████████████████               | 829 kB 28.0 MB/s eta 0:00:01\r\u001b[K     |█████████████████▏              | 839 kB 28.0 MB/s eta 0:00:01\r\u001b[K     |█████████████████▍              | 849 kB 28.0 MB/s eta 0:00:01\r\u001b[K     |█████████████████▋              | 860 kB 28.0 MB/s eta 0:00:01\r\u001b[K     |█████████████████▊              | 870 kB 28.0 MB/s eta 0:00:01\r\u001b[K     |██████████████████              | 880 kB 28.0 MB/s eta 0:00:01\r\u001b[K     |██████████████████▏             | 890 kB 28.0 MB/s eta 0:00:01\r\u001b[K     |██████████████████▍             | 901 kB 28.0 MB/s eta 0:00:01\r\u001b[K     |██████████████████▋             | 911 kB 28.0 MB/s eta 0:00:01\r\u001b[K     |██████████████████▉             | 921 kB 28.0 MB/s eta 0:00:01\r\u001b[K     |███████████████████             | 931 kB 28.0 MB/s eta 0:00:01\r\u001b[K     |███████████████████▎            | 942 kB 28.0 MB/s eta 0:00:01\r\u001b[K     |███████████████████▌            | 952 kB 28.0 MB/s eta 0:00:01\r\u001b[K     |███████████████████▋            | 962 kB 28.0 MB/s eta 0:00:01\r\u001b[K     |███████████████████▉            | 972 kB 28.0 MB/s eta 0:00:01\r\u001b[K     |████████████████████            | 983 kB 28.0 MB/s eta 0:00:01\r\u001b[K     |████████████████████▎           | 993 kB 28.0 MB/s eta 0:00:01\r\u001b[K     |████████████████████▌           | 1.0 MB 28.0 MB/s eta 0:00:01\r\u001b[K     |████████████████████▊           | 1.0 MB 28.0 MB/s eta 0:00:01\r\u001b[K     |█████████████████████           | 1.0 MB 28.0 MB/s eta 0:00:01\r\u001b[K     |█████████████████████▏          | 1.0 MB 28.0 MB/s eta 0:00:01\r\u001b[K     |█████████████████████▎          | 1.0 MB 28.0 MB/s eta 0:00:01\r\u001b[K     |█████████████████████▌          | 1.1 MB 28.0 MB/s eta 0:00:01\r\u001b[K     |█████████████████████▊          | 1.1 MB 28.0 MB/s eta 0:00:01\r\u001b[K     |██████████████████████          | 1.1 MB 28.0 MB/s eta 0:00:01\r\u001b[K     |██████████████████████▏         | 1.1 MB 28.0 MB/s eta 0:00:01\r\u001b[K     |██████████████████████▍         | 1.1 MB 28.0 MB/s eta 0:00:01\r\u001b[K     |██████████████████████▋         | 1.1 MB 28.0 MB/s eta 0:00:01\r\u001b[K     |██████████████████████▉         | 1.1 MB 28.0 MB/s eta 0:00:01\r\u001b[K     |███████████████████████         | 1.1 MB 28.0 MB/s eta 0:00:01\r\u001b[K     |███████████████████████▏        | 1.1 MB 28.0 MB/s eta 0:00:01\r\u001b[K     |███████████████████████▍        | 1.1 MB 28.0 MB/s eta 0:00:01\r\u001b[K     |███████████████████████▋        | 1.2 MB 28.0 MB/s eta 0:00:01\r\u001b[K     |███████████████████████▉        | 1.2 MB 28.0 MB/s eta 0:00:01\r\u001b[K     |████████████████████████        | 1.2 MB 28.0 MB/s eta 0:00:01\r\u001b[K     |████████████████████████▎       | 1.2 MB 28.0 MB/s eta 0:00:01\r\u001b[K     |████████████████████████▌       | 1.2 MB 28.0 MB/s eta 0:00:01\r\u001b[K     |████████████████████████▊       | 1.2 MB 28.0 MB/s eta 0:00:01\r\u001b[K     |████████████████████████▉       | 1.2 MB 28.0 MB/s eta 0:00:01\r\u001b[K     |█████████████████████████       | 1.2 MB 28.0 MB/s eta 0:00:01\r\u001b[K     |█████████████████████████▎      | 1.2 MB 28.0 MB/s eta 0:00:01\r\u001b[K     |█████████████████████████▌      | 1.2 MB 28.0 MB/s eta 0:00:01\r\u001b[K     |█████████████████████████▊      | 1.3 MB 28.0 MB/s eta 0:00:01\r\u001b[K     |██████████████████████████      | 1.3 MB 28.0 MB/s eta 0:00:01\r\u001b[K     |██████████████████████████▏     | 1.3 MB 28.0 MB/s eta 0:00:01\r\u001b[K     |██████████████████████████▍     | 1.3 MB 28.0 MB/s eta 0:00:01\r\u001b[K     |██████████████████████████▌     | 1.3 MB 28.0 MB/s eta 0:00:01\r\u001b[K     |██████████████████████████▊     | 1.3 MB 28.0 MB/s eta 0:00:01\r\u001b[K     |███████████████████████████     | 1.3 MB 28.0 MB/s eta 0:00:01\r\u001b[K     |███████████████████████████▏    | 1.3 MB 28.0 MB/s eta 0:00:01\r\u001b[K     |███████████████████████████▍    | 1.3 MB 28.0 MB/s eta 0:00:01\r\u001b[K     |███████████████████████████▋    | 1.4 MB 28.0 MB/s eta 0:00:01\r\u001b[K     |███████████████████████████▉    | 1.4 MB 28.0 MB/s eta 0:00:01\r\u001b[K     |████████████████████████████    | 1.4 MB 28.0 MB/s eta 0:00:01\r\u001b[K     |████████████████████████████▎   | 1.4 MB 28.0 MB/s eta 0:00:01\r\u001b[K     |████████████████████████████▍   | 1.4 MB 28.0 MB/s eta 0:00:01\r\u001b[K     |████████████████████████████▋   | 1.4 MB 28.0 MB/s eta 0:00:01\r\u001b[K     |████████████████████████████▉   | 1.4 MB 28.0 MB/s eta 0:00:01\r\u001b[K     |█████████████████████████████   | 1.4 MB 28.0 MB/s eta 0:00:01\r\u001b[K     |█████████████████████████████▎  | 1.4 MB 28.0 MB/s eta 0:00:01\r\u001b[K     |█████████████████████████████▌  | 1.4 MB 28.0 MB/s eta 0:00:01\r\u001b[K     |█████████████████████████████▊  | 1.5 MB 28.0 MB/s eta 0:00:01\r\u001b[K     |██████████████████████████████  | 1.5 MB 28.0 MB/s eta 0:00:01\r\u001b[K     |██████████████████████████████  | 1.5 MB 28.0 MB/s eta 0:00:01\r\u001b[K     |██████████████████████████████▎ | 1.5 MB 28.0 MB/s eta 0:00:01\r\u001b[K     |██████████████████████████████▌ | 1.5 MB 28.0 MB/s eta 0:00:01\r\u001b[K     |██████████████████████████████▊ | 1.5 MB 28.0 MB/s eta 0:00:01\r\u001b[K     |███████████████████████████████ | 1.5 MB 28.0 MB/s eta 0:00:01\r\u001b[K     |███████████████████████████████▏| 1.5 MB 28.0 MB/s eta 0:00:01\r\u001b[K     |███████████████████████████████▍| 1.5 MB 28.0 MB/s eta 0:00:01\r\u001b[K     |███████████████████████████████▋| 1.5 MB 28.0 MB/s eta 0:00:01\r\u001b[K     |███████████████████████████████▉| 1.6 MB 28.0 MB/s eta 0:00:01\r\u001b[K     |████████████████████████████████| 1.6 MB 28.0 MB/s eta 0:00:01\r\u001b[K     |████████████████████████████████| 1.6 MB 28.0 MB/s \n",
            "\u001b[?25h"
          ]
        }
      ]
    },
    {
      "cell_type": "code",
      "source": [
        "from jmd_imagescraper.core import duckduckgo_search"
      ],
      "metadata": {
        "id": "Lrhf0pJ8M1gv"
      },
      "execution_count": null,
      "outputs": []
    },
    {
      "cell_type": "code",
      "source": [
        "# from fastai.vision.all import *\n",
        "# from fastai.vision.widgets import *\n",
        "\n",
        "from fastai.vision.all import DataBlock, ImageBlock, CategoryBlock, get_image_files, RandomSplitter, parent_label, Resize, ClassificationInterpretation, PILImage\n",
        "from fastai.vision.widgets import widgets"
      ],
      "metadata": {
        "id": "OxIt2mfQNK2A"
      },
      "execution_count": null,
      "outputs": []
    },
    {
      "cell_type": "code",
      "source": [
        "def fix_font():\n",
        "    # From https://HC.Dle.pw, By Jinseo Kim\n",
        "    # v1.0.0\n",
        "    import os\n",
        "    import matplotlib as mpl\n",
        "    import matplotlib.pyplot as plt\n",
        "    os.system(\"apt-get install -y fonts-nanum\")\n",
        "    os.system(\"fc-cache -fv\")\n",
        "    mpl.font_manager._rebuild()\n",
        "    findfont = mpl.font_manager.fontManager.findfont\n",
        "    mpl.font_manager.findfont = findfont\n",
        "    mpl.backends.backend_agg.findfont = findfont\n",
        "    plt.rcParams['font.family'] = \"NanumBarunGothic\"\n",
        "    plt.rcParams['axes.unicode_minus'] = False\n",
        "           \n",
        "fix_font()"
      ],
      "metadata": {
        "id": "EI8GlnO7NlvL"
      },
      "execution_count": null,
      "outputs": []
    }
  ]
}