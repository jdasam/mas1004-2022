{
  "nbformat": 4,
  "nbformat_minor": 0,
  "metadata": {
    "colab": {
      "provenance": [],
      "authorship_tag": "ABX9TyPGteet2rufh/esiYBjrxc/",
      "include_colab_link": true
    },
    "kernelspec": {
      "name": "python3",
      "display_name": "Python 3"
    },
    "language_info": {
      "name": "python"
    }
  },
  "cells": [
    {
      "cell_type": "markdown",
      "metadata": {
        "id": "view-in-github",
        "colab_type": "text"
      },
      "source": [
        "<a href=\"https://colab.research.google.com/github/jdasam/mas1004-2022/blob/main/notebooks/Data_AI_3rd_week_spiral_livecoding.ipynb\" target=\"_parent\"><img src=\"https://colab.research.google.com/assets/colab-badge.svg\" alt=\"Open In Colab\"/></a>"
      ]
    },
    {
      "cell_type": "code",
      "execution_count": 2,
      "metadata": {
        "id": "9O-EojgkoEZC"
      },
      "outputs": [],
      "source": [
        "# import libraries\n",
        "# we will use torch and numpy\n",
        "# torch is a module name PyTorch\n",
        "# torch is our main library for making neural network\n",
        "# numpy is very good at handling matrix or n-dim array\n",
        "# You can replace almost everything of numpy with torch\n",
        "import torch\n",
        "import numpy as np # from this namespace, we can call numpy as just np\n",
        "from math import pi"
      ]
    },
    {
      "cell_type": "code",
      "source": [
        "# if you run this code in your local computer, you have to check that torch is installed\n",
        "!pip install torch\n",
        "# But in Google Colab, torch is already installed "
      ],
      "metadata": {
        "id": "bomZsxwfoNGz"
      },
      "execution_count": null,
      "outputs": []
    },
    {
      "cell_type": "code",
      "source": [
        "# make spiral data\n",
        "# https://gist.github.com/45deg/e731d9e7f478de134def5668324c44c5\n",
        "\n",
        "# You don't have to understand this part\n",
        "N = 500\n",
        "theta = np.sqrt(np.random.rand(N))*2*pi # np.linspace(0,2*pi,100)\n",
        "\n",
        "r_a = 2*theta + pi\n",
        "data_a = np.array([np.cos(theta)*r_a, np.sin(theta)*r_a]).T\n",
        "x_a = data_a + np.random.randn(N,2)\n",
        "\n",
        "r_b = -2*theta - pi\n",
        "data_b = np.array([np.cos(theta)*r_b, np.sin(theta)*r_b]).T\n",
        "x_b = data_b + np.random.randn(N,2)\n",
        "\n",
        "res_a = np.append(x_a, np.zeros((N,1)), axis=1)\n",
        "res_b = np.append(x_b, np.ones((N,1)), axis=1)\n",
        "\n",
        "res = np.append(res_a, res_b, axis=0)\n",
        "np.random.shuffle(res)\n",
        "\n",
        "# this makes a numpy Array of spiral data with two different classes\n",
        "# Array is like a matrix, but it can have any dimensional \n",
        "# You can replace np.Array with torch.Tensor "
      ],
      "metadata": {
        "id": "wA2xUxDsoLzE"
      },
      "execution_count": 3,
      "outputs": []
    },
    {
      "cell_type": "code",
      "source": [
        "res\n",
        "\n",
        "# each row represents a single data point\n",
        "# each column represents a different feature of a single data point\n",
        "# feature means characteristics of data in numeric value \n",
        "  # 0th column represetns x position\n",
        "  # 1st column represents y position\n",
        "  # 2nd column represents a category index\n",
        "  # For this specific Array  "
      ],
      "metadata": {
        "id": "b6mGHZJP2e5C",
        "outputId": "e34dd24c-08b5-4326-fbc9-cad1bfbe76c7",
        "colab": {
          "base_uri": "https://localhost:8080/"
        }
      },
      "execution_count": 5,
      "outputs": [
        {
          "output_type": "execute_result",
          "data": {
            "text/plain": [
              "array([[ 15.43847731,  -1.57746553,   0.        ],\n",
              "       [ -5.50845968,  -9.40130395,   0.        ],\n",
              "       [-15.06159921,   1.827937  ,   1.        ],\n",
              "       ...,\n",
              "       [  9.19628481,  -9.49614252,   0.        ],\n",
              "       [ -9.06987306,  -6.91993835,   0.        ],\n",
              "       [ -7.46658868,  -8.68801622,   0.        ]])"
            ]
          },
          "metadata": {},
          "execution_count": 5
        }
      ]
    },
    {
      "cell_type": "code",
      "source": [
        "# shape is an attribute of Array or Tensor\n",
        "# that shows the number of features in each dimension (or axis)\n",
        "res.shape"
      ],
      "metadata": {
        "id": "e5xqQjAO2m5x",
        "outputId": "e3c63037-0cb4-4d50-f77c-3a00e7a9944e",
        "colab": {
          "base_uri": "https://localhost:8080/"
        }
      },
      "execution_count": 6,
      "outputs": [
        {
          "output_type": "execute_result",
          "data": {
            "text/plain": [
              "(1000, 3)"
            ]
          },
          "metadata": {},
          "execution_count": 6
        }
      ]
    },
    {
      "cell_type": "code",
      "source": [
        "# what is the meaning of each axis?\n",
        "print(res[0], res[0].shape) # indexing in 0-th axis"
      ],
      "metadata": {
        "id": "NSAGAL6B214I",
        "outputId": "5a6426cd-0c92-4d74-84e3-2b68f9ac97d0",
        "colab": {
          "base_uri": "https://localhost:8080/"
        }
      },
      "execution_count": 10,
      "outputs": [
        {
          "output_type": "stream",
          "name": "stdout",
          "text": [
            "[15.43847731 -1.57746553  0.        ] (3,)\n"
          ]
        }
      ]
    },
    {
      "cell_type": "code",
      "source": [
        "# what happens if we index by 1st-axis\n",
        "res[:50, 0] # : means entire range \n",
        "# because we are using : in the 0th position of slicing index\n",
        "# (res[a, b]). a means index for 0-th axis, and be means index for 1-st axis \n",
        "# this line select every element in a 0th-axis, and select 0th element in 1st-dimension"
      ],
      "metadata": {
        "id": "O_5MX0EA3SuX",
        "outputId": "93adafb2-15e0-4e79-9865-1a940a22f7d0",
        "colab": {
          "base_uri": "https://localhost:8080/"
        }
      },
      "execution_count": 12,
      "outputs": [
        {
          "output_type": "execute_result",
          "data": {
            "text/plain": [
              "array([ 15.43847731,  -5.50845968, -15.06159921,  -4.23780571,\n",
              "        -8.2382565 ,  16.4561751 ,  15.76867952,   4.84864512,\n",
              "        13.35029581,  -8.06583584,   8.96429724,  -9.13670488,\n",
              "       -10.85576465,   2.88488267,  -1.32155033,   8.64747077,\n",
              "        -6.21642216,   9.78747748,   9.00728495, -10.4860074 ,\n",
              "        -4.14308029,  -1.78364523,   8.20229983,   4.67095082,\n",
              "         4.43680897,   4.91596614,   1.26902714,  14.2763786 ,\n",
              "       -12.57100772,   9.98672799,  14.84442402,  -8.36399529,\n",
              "         7.94834121,   3.44712174,  -9.04511068, -12.88069921,\n",
              "       -11.49728209,  -4.24716195,   2.37048009,  -2.35319585,\n",
              "        -4.01246933,  -6.68415519,  -9.47394311,  -5.09692157,\n",
              "       -14.03845641, -11.3270201 ,   7.1158049 ,  -0.94471088,\n",
              "         6.3024538 ,  -6.59684659])"
            ]
          },
          "metadata": {},
          "execution_count": 12
        }
      ]
    },
    {
      "cell_type": "code",
      "source": [
        "# What should we do to select the last column of every row?\n",
        "res[:, 2] # : means every row, and 2 means 2nd column (last column)"
      ],
      "metadata": {
        "id": "0ind0e1d30Su"
      },
      "execution_count": null,
      "outputs": []
    },
    {
      "cell_type": "code",
      "source": [
        "res[:, -1] # As same as list slicing, you can select idx from the backward"
      ],
      "metadata": {
        "id": "6K672TA45Bvr"
      },
      "execution_count": null,
      "outputs": []
    },
    {
      "cell_type": "code",
      "source": [
        "# How can we select rows that have value 1 for its last column?\n",
        "# How can we select data points of which category value is 1\n",
        "\n",
        "# Let's try to check whether the datapoint's value is 1 or not\n",
        "is_category1 = res[:, -1] == 1\n",
        "# This will returns an Array of Boolean (True or False) value \n",
        "# for each datasample (row) in the dataset (res)"
      ],
      "metadata": {
        "id": "p5BNXQyd48r5"
      },
      "execution_count": 18,
      "outputs": []
    },
    {
      "cell_type": "code",
      "source": [
        "# Then, can we select datasamples that have category value of 1?\n",
        "res[is_category1]"
      ],
      "metadata": {
        "id": "JUuJctOF7XEm",
        "outputId": "c1029ce0-1ea5-48d9-eac0-1825dd16e99c",
        "colab": {
          "base_uri": "https://localhost:8080/"
        }
      },
      "execution_count": 19,
      "outputs": [
        {
          "output_type": "execute_result",
          "data": {
            "text/plain": [
              "array([[-15.06159921,   1.827937  ,   1.        ],\n",
              "       [ -8.2382565 ,   9.23541357,   1.        ],\n",
              "       [  4.84864512,  -4.75083974,   1.        ],\n",
              "       ...,\n",
              "       [  4.57875454,   9.43026788,   1.        ],\n",
              "       [  2.79598029,  -6.66249218,   1.        ],\n",
              "       [  5.8947596 ,  -4.93096887,   1.        ]])"
            ]
          },
          "metadata": {},
          "execution_count": 19
        }
      ]
    },
    {
      "cell_type": "code",
      "source": [
        "# Then, how can we select datasamples that have category value of 0?\n",
        "is_category0 = res[:, -1] == 0\n",
        "res[is_category0]"
      ],
      "metadata": {
        "id": "MwzUJe-k8Rdw",
        "outputId": "43297fbd-ba6a-4e6f-ffb0-66716b6f402b",
        "colab": {
          "base_uri": "https://localhost:8080/"
        }
      },
      "execution_count": 21,
      "outputs": [
        {
          "output_type": "execute_result",
          "data": {
            "text/plain": [
              "array([[15.43847731, -1.57746553,  0.        ],\n",
              "       [-5.50845968, -9.40130395,  0.        ],\n",
              "       [-4.23780571,  4.65019506,  0.        ],\n",
              "       ...,\n",
              "       [ 9.19628481, -9.49614252,  0.        ],\n",
              "       [-9.06987306, -6.91993835,  0.        ],\n",
              "       [-7.46658868, -8.68801622,  0.        ]])"
            ]
          },
          "metadata": {},
          "execution_count": 21
        }
      ]
    },
    {
      "cell_type": "code",
      "source": [
        "# if we know that there are only two categories, \n",
        "# you don't have to compute it again\n",
        "# Because if it is not category1, it is automatically category0\n",
        "print(~is_category1) # ~ means not\n",
        "res[~is_category1] # select datasamples that are not is_category1"
      ],
      "metadata": {
        "id": "AegQz8qL8meE",
        "outputId": "05c8d5a2-13ee-4650-c0ed-4874152a0201",
        "colab": {
          "base_uri": "https://localhost:8080/"
        }
      },
      "execution_count": 25,
      "outputs": [
        {
          "output_type": "stream",
          "name": "stdout",
          "text": [
            "[ True  True False  True False  True  True False  True  True False False\n",
            " False  True False False  True  True False  True  True  True False False\n",
            "  True False  True  True False False  True False  True False  True False\n",
            " False  True False False False False  True  True False False False False\n",
            "  True  True  True  True  True False  True False False  True False False\n",
            "  True  True  True False False False  True  True False  True  True  True\n",
            " False  True False False  True False  True  True  True False False  True\n",
            "  True False  True  True False  True  True False  True  True False False\n",
            "  True False  True  True False False False False  True False False False\n",
            "  True  True False False False  True  True  True  True  True False False\n",
            " False  True  True  True  True False False False False  True False  True\n",
            " False False  True  True  True False False  True  True False False False\n",
            "  True False  True  True  True  True False  True  True  True False  True\n",
            " False  True False False False False False False  True False False  True\n",
            "  True False False  True False False False False False False  True False\n",
            "  True False  True False  True False False False False False False False\n",
            " False False  True False  True False  True  True  True False  True  True\n",
            " False  True  True  True  True  True  True  True  True False False  True\n",
            "  True  True  True False False False  True  True  True  True False False\n",
            " False  True  True  True False False False False False  True False False\n",
            " False  True False False  True False False False  True  True False False\n",
            "  True  True False False  True False  True  True  True False False False\n",
            "  True  True  True False False False  True False False False False False\n",
            "  True  True  True  True False  True False False False False  True False\n",
            " False  True  True False False  True  True False  True False  True  True\n",
            "  True  True  True False  True  True  True False  True False  True  True\n",
            "  True False  True  True  True False False  True False  True  True  True\n",
            " False  True  True False  True False False False  True  True  True  True\n",
            "  True  True  True  True  True False False False  True False  True  True\n",
            "  True  True  True  True  True  True  True False False False False  True\n",
            "  True False  True  True  True False False  True  True  True  True False\n",
            " False False False False False  True  True  True False False False False\n",
            "  True  True False False False False False False False  True  True  True\n",
            " False False  True False False  True  True False False  True False False\n",
            "  True False False False  True False False  True  True  True  True  True\n",
            " False  True False  True  True  True  True  True False  True False False\n",
            "  True False False  True  True  True  True  True  True False False False\n",
            " False False False  True False False False  True False False  True False\n",
            "  True False False False False False  True False  True  True False  True\n",
            "  True  True False  True  True False False  True  True False False  True\n",
            " False  True False  True False False False  True  True False False  True\n",
            "  True  True  True  True  True False  True  True False False  True  True\n",
            " False  True False  True False  True False False  True False  True False\n",
            " False  True False  True False  True  True  True  True False  True False\n",
            "  True  True  True  True False  True False False False False False False\n",
            " False  True  True  True  True False False  True False  True  True False\n",
            "  True  True False  True False False False  True  True  True  True False\n",
            " False False False False False False  True False  True  True False False\n",
            " False  True False  True False False False  True False  True  True False\n",
            " False False False  True  True  True False False  True False False  True\n",
            "  True False False False False False  True False  True  True  True  True\n",
            "  True False  True False False False  True  True False  True False  True\n",
            "  True  True  True  True  True False False  True False  True  True  True\n",
            " False  True  True  True  True False  True  True  True False False False\n",
            " False False False False False  True False False False  True  True False\n",
            " False  True  True  True  True  True  True  True False False False  True\n",
            "  True  True  True False  True False  True  True False  True False False\n",
            "  True False  True False False  True  True  True  True False  True False\n",
            " False  True  True  True  True False  True False False False  True  True\n",
            "  True  True  True False False False False  True  True  True  True False\n",
            " False False  True  True  True  True  True  True False False  True  True\n",
            "  True False False False False False  True  True False False False False\n",
            " False  True False  True  True False False  True False False False False\n",
            "  True False  True  True  True False  True  True  True False False False\n",
            " False  True False  True  True  True False False  True False False False\n",
            " False False  True False  True  True False  True False False False False\n",
            "  True  True False False  True False False  True False  True  True False\n",
            "  True False False  True False  True  True  True  True False False False\n",
            "  True False  True False  True False False  True False  True  True False\n",
            "  True False  True  True False  True  True  True  True False False  True\n",
            " False False  True  True  True  True  True  True  True False  True False\n",
            "  True False False  True False False False  True False  True  True  True\n",
            "  True  True False False  True False False  True  True  True False False\n",
            " False False False False  True  True False  True  True False  True  True\n",
            "  True False  True  True False False False False  True  True  True  True\n",
            " False False  True  True  True  True  True  True  True False False False\n",
            "  True  True False False False  True False False  True  True False False\n",
            " False  True False  True  True False False  True  True False False False\n",
            "  True  True  True  True False  True False  True False  True  True  True\n",
            "  True  True  True  True False  True  True  True False  True  True False\n",
            "  True False False False False  True False False  True False False False\n",
            " False  True False False False  True False False False False False  True\n",
            "  True False False False False False False False False False False False\n",
            " False  True  True  True]\n"
          ]
        },
        {
          "output_type": "execute_result",
          "data": {
            "text/plain": [
              "array([[15.43847731, -1.57746553,  0.        ],\n",
              "       [-5.50845968, -9.40130395,  0.        ],\n",
              "       [-4.23780571,  4.65019506,  0.        ],\n",
              "       ...,\n",
              "       [ 9.19628481, -9.49614252,  0.        ],\n",
              "       [-9.06987306, -6.91993835,  0.        ],\n",
              "       [-7.46658868, -8.68801622,  0.        ]])"
            ]
          },
          "metadata": {},
          "execution_count": 25
        }
      ]
    },
    {
      "cell_type": "code",
      "source": [
        "import matplotlib.pyplot as plt # default library for visualizing in Python\n",
        "plt.scatter(res[:,0], res[:, 1])"
      ],
      "metadata": {
        "id": "nr6CJzH-59j3",
        "outputId": "a4710f91-722a-43b5-cbee-41e7e4151690",
        "colab": {
          "base_uri": "https://localhost:8080/",
          "height": 283
        }
      },
      "execution_count": 16,
      "outputs": [
        {
          "output_type": "execute_result",
          "data": {
            "text/plain": [
              "<matplotlib.collections.PathCollection at 0x7f397fccdd10>"
            ]
          },
          "metadata": {},
          "execution_count": 16
        },
        {
          "output_type": "display_data",
          "data": {
            "text/plain": [
              "<Figure size 432x288 with 1 Axes>"
            ],
            "image/png": "[encoded data removed]"
          },
          "metadata": {
            "needs_background": "light"
          }
        }
      ]
    },
    {
      "cell_type": "code",
      "source": [
        "# this will be plotted with blue\n",
        "plt.scatter(res[is_category1,0], res[is_category1, 1])\n",
        "\n",
        "# this will be plotted with orange\n",
        "plt.scatter(res[~is_category1,0], res[~is_category1, 1])\n",
        "\n",
        "# if you plot several plots in a single figure of plt\n",
        "# it automatically select different colors"
      ],
      "metadata": {
        "id": "3l95AbIE8EVr",
        "outputId": "1954b39c-a0e9-4075-9e90-a447df978ab4",
        "colab": {
          "base_uri": "https://localhost:8080/",
          "height": 283
        }
      },
      "execution_count": 26,
      "outputs": [
        {
          "output_type": "execute_result",
          "data": {
            "text/plain": [
              "<matplotlib.collections.PathCollection at 0x7f3977ee49d0>"
            ]
          },
          "metadata": {},
          "execution_count": 26
        },
        {
          "output_type": "display_data",
          "data": {
            "text/plain": [
              "<Figure size 432x288 with 1 Axes>"
            ],
            "image/png": "[encoded data removed]"
          },
          "metadata": {
            "needs_background": "light"
          }
        }
      ]
    },
    {
      "cell_type": "code",
      "source": [
        "# Get x positions of first 100 samples from res\n",
        "first_100_samples_xpos = res[:100, 0]"
      ],
      "metadata": {
        "id": "EUt1elOo9mV5"
      },
      "execution_count": null,
      "outputs": []
    },
    {
      "cell_type": "code",
      "source": [
        "# Get datasamples of which y position is larger than 0\n",
        "# upper_datas = res[res[:,1]>0, :]\n",
        "# split it as\n",
        "is_upper = res[:, 1] > 0\n",
        "upper_datas = res[is_upper]\n",
        "upper_datas"
      ],
      "metadata": {
        "id": "63laFoPv99_7",
        "outputId": "9642520a-28ce-4790-fe11-a84e69809951",
        "colab": {
          "base_uri": "https://localhost:8080/"
        }
      },
      "execution_count": 34,
      "outputs": [
        {
          "output_type": "execute_result",
          "data": {
            "text/plain": [
              "array([[-15.06159921,   1.827937  ,   1.        ],\n",
              "       [ -4.23780571,   4.65019506,   0.        ],\n",
              "       [ -8.2382565 ,   9.23541357,   1.        ],\n",
              "       ...,\n",
              "       [ 10.05385196,   3.22562757,   1.        ],\n",
              "       [  5.35556216,  10.93862818,   1.        ],\n",
              "       [  4.57875454,   9.43026788,   1.        ]])"
            ]
          },
          "metadata": {},
          "execution_count": 34
        }
      ]
    },
    {
      "cell_type": "code",
      "source": [
        "# Explanation on Scatter\n",
        "# plt scatter takes two inputs (at_least)\n",
        "# 0th input is a list of (or array of) x position\n",
        "# 1st input is a list of (or array of) y position\n",
        "plt.scatter(x=upper_datas[:,0], y=upper_datas[:, 1])\n"
      ],
      "metadata": {
        "id": "KKkSuJt1-flY",
        "outputId": "4e4df5fb-ce04-44f0-bb19-a7606a154578",
        "colab": {
          "base_uri": "https://localhost:8080/",
          "height": 283
        }
      },
      "execution_count": 33,
      "outputs": [
        {
          "output_type": "execute_result",
          "data": {
            "text/plain": [
              "<matplotlib.collections.PathCollection at 0x7f3977399cd0>"
            ]
          },
          "metadata": {},
          "execution_count": 33
        },
        {
          "output_type": "display_data",
          "data": {
            "text/plain": [
              "<Figure size 432x288 with 1 Axes>"
            ],
            "image/png": "[encoded data removed]"
          },
          "metadata": {
            "needs_background": "light"
          }
        }
      ]
    },
    {
      "cell_type": "code",
      "source": [
        "res_t = torch.Tensor(res)"
      ],
      "metadata": {
        "id": "4Y7Ial-E17ZD"
      },
      "execution_count": 27,
      "outputs": []
    },
    {
      "cell_type": "code",
      "source": [
        "res_t[res_t[:,2]==0, :] \n",
        "# Slicing of tensor is exactly same with slicing of Array"
      ],
      "metadata": {
        "id": "5CPxxtrM9bQO",
        "outputId": "865293d0-d49a-49bf-969b-518b771d365e",
        "colab": {
          "base_uri": "https://localhost:8080/"
        }
      },
      "execution_count": 28,
      "outputs": [
        {
          "output_type": "execute_result",
          "data": {
            "text/plain": [
              "tensor([[15.4385, -1.5775,  0.0000],\n",
              "        [-5.5085, -9.4013,  0.0000],\n",
              "        [-4.2378,  4.6502,  0.0000],\n",
              "        ...,\n",
              "        [ 9.1963, -9.4961,  0.0000],\n",
              "        [-9.0699, -6.9199,  0.0000],\n",
              "        [-7.4666, -8.6880,  0.0000]])"
            ]
          },
          "metadata": {},
          "execution_count": 28
        }
      ]
    }
  ]
}