{
  "nbformat": 4,
  "nbformat_minor": 0,
  "metadata": {
    "colab": {
      "provenance": [],
      "authorship_tag": "ABX9TyNf1KH9oslyYsbhgBjzxLN6",
      "include_colab_link": true
    },
    "kernelspec": {
      "name": "python3",
      "display_name": "Python 3"
    },
    "language_info": {
      "name": "python"
    }
  },
  "cells": [
    {
      "cell_type": "markdown",
      "metadata": {
        "id": "view-in-github",
        "colab_type": "text"
      },
      "source": [
        "<a href=\"https://colab.research.google.com/github/jdasam/mas1004-2022/blob/main/notebooks/Data_AI_4th_week_spiral_livecoding.ipynb\" target=\"_parent\"><img src=\"https://colab.research.google.com/assets/colab-badge.svg\" alt=\"Open In Colab\"/></a>"
      ]
    },
    {
      "cell_type": "code",
      "execution_count": 1,
      "metadata": {
        "id": "9O-EojgkoEZC"
      },
      "outputs": [],
      "source": [
        "import torch\n",
        "import numpy as np\n",
        "from math import pi"
      ]
    },
    {
      "cell_type": "code",
      "source": [
        "# if you run this code in your local computer, you have to check that torch is installed\n",
        "!pip install torch\n",
        "# But in Google Colab, torch is already installed "
      ],
      "metadata": {
        "id": "bomZsxwfoNGz"
      },
      "execution_count": null,
      "outputs": []
    },
    {
      "cell_type": "code",
      "source": [
        "# make spiral data\n",
        "# https://gist.github.com/45deg/e731d9e7f478de134def5668324c44c5\n",
        "N = 500\n",
        "theta = np.sqrt(np.random.rand(N))*2*pi # np.linspace(0,2*pi,100)\n",
        "\n",
        "r_a = 2*theta + pi\n",
        "data_a = np.array([np.cos(theta)*r_a, np.sin(theta)*r_a]).T\n",
        "x_a = data_a + np.random.randn(N,2)\n",
        "\n",
        "r_b = -2*theta - pi\n",
        "data_b = np.array([np.cos(theta)*r_b, np.sin(theta)*r_b]).T\n",
        "x_b = data_b + np.random.randn(N,2)\n",
        "\n",
        "res_a = np.append(x_a, np.zeros((N,1)), axis=1)\n",
        "res_b = np.append(x_b, np.ones((N,1)), axis=1)\n",
        "\n",
        "res = np.append(res_a, res_b, axis=0)\n",
        "np.random.shuffle(res)"
      ],
      "metadata": {
        "id": "wA2xUxDsoLzE"
      },
      "execution_count": 2,
      "outputs": []
    },
    {
      "cell_type": "code",
      "source": [
        "import matplotlib.pyplot as plt\n",
        "def visualize_decision_boundary(model, data, label):\n",
        "  x_linspace = torch.linspace(min(data[:,0]), max(data[:,0]), steps=200)\n",
        "  y_linspace = torch.linspace(min(data[:,1]), max(data[:,1]), steps=200)\n",
        "  grid_x, grid_y = torch.meshgrid(x_linspace, y_linspace)\n",
        "  grid_xy = torch.stack([grid_x, grid_y]).permute(1,2,0)\n",
        "  grid_xy = grid_xy.view(-1, 2)\n",
        "  if isinstance(model, torch.nn.Module):\n",
        "    value_by_grid = model(grid_xy)\n",
        "  else:\n",
        "    value_by_grid = run_neuron(model, grid_xy)\n",
        "  value_by_grid = value_by_grid.view(200, 200, 1)\n",
        "  value_by_grid[value_by_grid<=0.5] = 0\n",
        "  value_by_grid[value_by_grid>0.5] = 1\n",
        "\n",
        "  plt.scatter(x=data[label[:,0]==0,0], y=data[label[:,0]==0,1])\n",
        "  plt.scatter(x=data[label[:,0]==1,0], y=data[label[:,0]==1,1])\n",
        "\n",
        "  plt.contourf(grid_x.detach().numpy(), grid_y.detach().numpy(), value_by_grid.detach().numpy().squeeze(), alpha=0.3)"
      ],
      "metadata": {
        "id": "Z-o1l0qPbMZb"
      },
      "execution_count": 3,
      "outputs": []
    },
    {
      "cell_type": "code",
      "source": [
        "# let's convert our data in tensor\n",
        "datas = torch.tensor(res, dtype=torch.float32)\n",
        "# represent each number with 32 bits, instead of 64 bits"
      ],
      "metadata": {
        "id": "7E-Zx8HBjh4A"
      },
      "execution_count": 4,
      "outputs": []
    },
    {
      "cell_type": "code",
      "source": [
        "data_xy = datas[:, :2]\n",
        "data_label= datas[:, -1]"
      ],
      "metadata": {
        "id": "vnUXwvPFlUcD"
      },
      "execution_count": 5,
      "outputs": []
    },
    {
      "cell_type": "code",
      "source": [
        "data_xy.shape"
      ],
      "metadata": {
        "id": "s-wr8necsMc7",
        "outputId": "60df4c12-b080-4153-ae41-b57c03d5c3c7",
        "colab": {
          "base_uri": "https://localhost:8080/"
        }
      },
      "execution_count": 7,
      "outputs": [
        {
          "output_type": "execute_result",
          "data": {
            "text/plain": [
              "torch.Size([1000, 2])"
            ]
          },
          "metadata": {},
          "execution_count": 7
        }
      ]
    },
    {
      "cell_type": "code",
      "source": [
        "# make a layer with torch.nn\n",
        "\n",
        "import torch.nn as nn # import neural net module of PyTorch\n",
        "\n",
        "layer = nn.Linear(in_features=2, out_features=4)\n",
        "\n",
        "# this layer has weight and bias in it\n",
        "layer.weight, layer.bias"
      ],
      "metadata": {
        "id": "n8hyXfBEr9oS",
        "outputId": "3e5ceaf6-64d5-45e1-f0be-c36a743ec782",
        "colab": {
          "base_uri": "https://localhost:8080/"
        }
      },
      "execution_count": 9,
      "outputs": [
        {
          "output_type": "execute_result",
          "data": {
            "text/plain": [
              "(Parameter containing:\n",
              " tensor([[ 0.1892, -0.0387],\n",
              "         [ 0.2839, -0.2467],\n",
              "         [ 0.6738, -0.5305],\n",
              "         [-0.1355, -0.0396]], requires_grad=True), Parameter containing:\n",
              " tensor([ 0.4130, -0.4829, -0.1287, -0.0166], requires_grad=True))"
            ]
          },
          "metadata": {},
          "execution_count": 9
        }
      ]
    },
    {
      "cell_type": "code",
      "source": [
        "# you can run forward propagation by just calling the layer\n",
        "out = layer(data_xy) # something like torch.mm(x, self.weight) + self.bias \n",
        "out.shape\n"
      ],
      "metadata": {
        "id": "zweh5Bb4sbgu",
        "outputId": "d385efca-42ae-4b09-9a63-1e188dd07f7f",
        "colab": {
          "base_uri": "https://localhost:8080/"
        }
      },
      "execution_count": 11,
      "outputs": [
        {
          "output_type": "execute_result",
          "data": {
            "text/plain": [
              "torch.Size([1000, 4])"
            ]
          },
          "metadata": {},
          "execution_count": 11
        }
      ]
    },
    {
      "cell_type": "code",
      "source": [
        "layer2 = nn.Linear(in_features=4, out_features=1)\n",
        "final_out = layer2(out) # this calls the forward function of nn.Linear"
      ],
      "metadata": {
        "id": "vKCy3BJVstwv"
      },
      "execution_count": 13,
      "outputs": []
    },
    {
      "cell_type": "code",
      "source": [
        "# Make an object that includes both layers\n",
        "class MyModel(nn.Module):\n",
        "  def __init__(self):\n",
        "    super().__init__()\n",
        "    self.layer1 = nn.Linear(2, 4) # this is same as in_features=2, out_features=4\n",
        "    self.layer2 = nn.Linear(4, 1)\n",
        "  \n",
        "  def forward(self, input_x): \n",
        "    # forward function is called when you give input to your model\n",
        "    out = self.layer1(input_x)\n",
        "    pred = self.layer2(out.relu())\n",
        "\n",
        "    # this will return the prediction of our model\n",
        "    # which has shape of N, 1. (N is number of data samples in input_x)\n",
        "    return pred\n",
        "  \n",
        "model = MyModel()\n",
        "pred = model(data_xy)"
      ],
      "metadata": {
        "id": "cyqa24-ns2vz"
      },
      "execution_count": 16,
      "outputs": []
    },
    {
      "cell_type": "code",
      "source": [
        "print(pred.shape, data_label.shape)\n",
        "# we have to make the shape same\n",
        "print(pred[:, 0].shape, data_label.shape) \n",
        "# selecting a single index from a specific dimension deletes the selected dim"
      ],
      "metadata": {
        "id": "xIZFNn-xuYLu",
        "outputId": "f7ea56b0-414e-4c97-f65d-92799e458550",
        "colab": {
          "base_uri": "https://localhost:8080/"
        }
      },
      "execution_count": 19,
      "outputs": [
        {
          "output_type": "stream",
          "name": "stdout",
          "text": [
            "torch.Size([1000, 1]) torch.Size([1000])\n",
            "torch.Size([1000]) torch.Size([1000])\n"
          ]
        }
      ]
    },
    {
      "cell_type": "code",
      "source": [
        "model.layer1.weight.grad # before backpropagation our parameter has no gradient"
      ],
      "metadata": {
        "id": "E9AX1nEvvAK5"
      },
      "execution_count": 22,
      "outputs": []
    },
    {
      "cell_type": "code",
      "source": [
        "# nn.Module has method called parameters()\n",
        "# this will make generator of every parameters in the model\n",
        "for param in model.parameters():\n",
        "  print(param)"
      ],
      "metadata": {
        "id": "S43bpX-avbCV",
        "outputId": "57e1e97d-7281-476b-be7a-5fc3c150e2ac",
        "colab": {
          "base_uri": "https://localhost:8080/"
        }
      },
      "execution_count": 25,
      "outputs": [
        {
          "output_type": "stream",
          "name": "stdout",
          "text": [
            "Parameter containing:\n",
            "tensor([[-0.2739, -0.1448],\n",
            "        [-0.2201, -0.4339],\n",
            "        [-0.5915, -0.4206],\n",
            "        [ 0.7052,  0.5824]], requires_grad=True)\n",
            "Parameter containing:\n",
            "tensor([ 0.6930, -0.1668, -0.2358, -0.1119], requires_grad=True)\n",
            "Parameter containing:\n",
            "tensor([[-0.0599, -0.4758,  0.0980,  0.3200]], requires_grad=True)\n",
            "Parameter containing:\n",
            "tensor([-0.4574], requires_grad=True)\n"
          ]
        }
      ]
    },
    {
      "cell_type": "code",
      "source": [
        "model = MyModel()\n",
        "num_iteration = 100\n",
        "lr = 1e-3 # 0.001\n",
        "\n",
        "# save the loss record so that we can plot it\n",
        "loss_record = []\n",
        "\n",
        "# let's train our model for a given number of steps\n",
        "for i in range(num_iteration):\n",
        "  # get the prediction of model for the data\n",
        "  pred = model(data_xy)\n",
        "  loss = torch.abs(pred[:,0]-data_label)\n",
        "  # loss shape would be [N] (1000)\n",
        "  # each data sample has its own loss\n",
        "  # we will only use the mean of those loss \n",
        "  mean_loss = loss.mean()\n",
        "  mean_loss.backward() # this will add gradient for every parameters\n",
        "  # that are connected to the mean loss\n",
        "\n",
        "  # We have to update model's parameter by its gradient\n",
        "  for param in model.parameters():\n",
        "    # do something\n",
        "    # update parameters by its gradient and learning rate\n",
        "    param.data -= param.grad * lr\n",
        "    param.grad = None # reset the gradient value to None\n",
        "    # because the calculated gradient now became old\n",
        "  \n",
        "  # print(mean_loss)\n",
        "  # if you want to only get the float value of a scalar tensor,\n",
        "  # you can call atensor.item()\n",
        "  # print(mean_loss.item())\n",
        "\n",
        "  loss_record.append(mean_loss.item())"
      ],
      "metadata": {
        "id": "qW10TPVAt6Dz"
      },
      "execution_count": 30,
      "outputs": []
    },
    {
      "cell_type": "code",
      "source": [
        "import matplotlib.pyplot as plt\n",
        "\n",
        "plt.plot(loss_record)"
      ],
      "metadata": {
        "id": "0f7qaUy0wbLw",
        "outputId": "4e509555-0243-4178-d72b-1ca4a00566ee",
        "colab": {
          "base_uri": "https://localhost:8080/",
          "height": 283
        }
      },
      "execution_count": 31,
      "outputs": [
        {
          "output_type": "execute_result",
          "data": {
            "text/plain": [
              "[<matplotlib.lines.Line2D at 0x7f50d30520d0>]"
            ]
          },
          "metadata": {},
          "execution_count": 31
        },
        {
          "output_type": "display_data",
          "data": {
            "text/plain": [
              "<Figure size 432x288 with 1 Axes>"
            ],
            "image/png": "[encoded data removed]"
          },
          "metadata": {
            "needs_background": "light"
          }
        }
      ]
    },
    {
      "cell_type": "code",
      "source": [
        "model.layer1.weight.grad"
      ],
      "metadata": {
        "id": "zMx1-1mwvHS5",
        "outputId": "95c7bc3d-5857-49dc-e4df-68102c30eb49",
        "colab": {
          "base_uri": "https://localhost:8080/"
        }
      },
      "execution_count": 24,
      "outputs": [
        {
          "output_type": "execute_result",
          "data": {
            "text/plain": [
              "tensor([[-0.1798, -0.0766],\n",
              "        [-0.7708, -1.3129],\n",
              "        [ 0.2760,  0.1626],\n",
              "        [ 0.7259,  0.4172]])"
            ]
          },
          "metadata": {},
          "execution_count": 24
        }
      ]
    },
    {
      "cell_type": "code",
      "source": [
        "# Let's do the same things with torch.optim.Optimizer\n",
        "\n",
        "model = MyModel()\n",
        "num_iteration = 300\n",
        "lr = 1e-3 # 0.001\n",
        "optimizer = torch.optim.Adam(model.parameters(), lr=lr)\n",
        "# tell optimizer to optimize every parameters in the model\n",
        "\n",
        "# save the loss record so that we can plot it\n",
        "loss_record = []\n",
        "\n",
        "# let's train our model for a given number of steps\n",
        "for i in range(num_iteration):\n",
        "  pred = model(data_xy) # make prediction \n",
        "  loss = torch.abs(pred[:,0]-data_label) # calculate loss for each sample\n",
        "  mean_loss = loss.mean() # take average of loss of each sample\n",
        "  # make backpropagation of loss\n",
        "  mean_loss.backward() # this will add gradient for every parameters\n",
        "  optimizer.step() # this will update every parameters in the optimizer (in the model)\n",
        "  optimizer.zero_grad() # reset the gradient of every parameters in the optimizer\n",
        "\n",
        "  # that are connected to the mean loss\n",
        "\n",
        "\n",
        "  # # We have to update model's parameter by its gradient\n",
        "  # for param in model.parameters():\n",
        "  #   # do something\n",
        "  #   # update parameters by its gradient and learning rate\n",
        "  #   param.data -= param.grad * lr\n",
        "  #   param.grad = None # reset the gradient value to None\n",
        "  #   # because the calculated gradient now became old\n",
        "  \n",
        "  # print(mean_loss)\n",
        "  # if you want to only get the float value of a scalar tensor,\n",
        "  # you can call atensor.item()\n",
        "  # print(mean_loss.item())\n",
        "\n",
        "  loss_record.append(mean_loss.item())"
      ],
      "metadata": {
        "id": "mx5GnBBiwjsl"
      },
      "execution_count": 34,
      "outputs": []
    },
    {
      "cell_type": "code",
      "source": [
        "plt.plot(loss_record)"
      ],
      "metadata": {
        "id": "wka6ZfHlxSsu",
        "outputId": "ce8665b5-08b7-47d7-8cb2-99d46c3f3d8f",
        "colab": {
          "base_uri": "https://localhost:8080/",
          "height": 285
        }
      },
      "execution_count": 35,
      "outputs": [
        {
          "output_type": "execute_result",
          "data": {
            "text/plain": [
              "[<matplotlib.lines.Line2D at 0x7f50d2899ad0>]"
            ]
          },
          "metadata": {},
          "execution_count": 35
        },
        {
          "output_type": "display_data",
          "data": {
            "text/plain": [
              "<Figure size 432x288 with 1 Axes>"
            ],
            "image/png": "[encoded data removed]"
          },
          "metadata": {
            "needs_background": "light"
          }
        }
      ]
    },
    {
      "cell_type": "code",
      "source": [
        "visualize_decision_boundary(model, data_xy, data_label.unsqueeze(1))"
      ],
      "metadata": {
        "id": "ye9nSb-Rxktq",
        "outputId": "2092db36-bc5e-4c5b-8d17-7aee962a9fc6",
        "colab": {
          "base_uri": "https://localhost:8080/",
          "height": 265
        }
      },
      "execution_count": 37,
      "outputs": [
        {
          "output_type": "display_data",
          "data": {
            "text/plain": [
              "<Figure size 432x288 with 1 Axes>"
            ],
            "image/png": "[encoded data removed]"
          },
          "metadata": {
            "needs_background": "light"
          }
        }
      ]
    },
    {
      "cell_type": "code",
      "source": [
        "class MyModel(nn.Module):\n",
        "  def __init__(self, hidden_size=32):\n",
        "    super().__init__()\n",
        "    self.layer = nn.Sequential(\n",
        "        nn.Linear(2, hidden_size),\n",
        "        nn.ReLU(),\n",
        "        nn.Linear(hidden_size, hidden_size),\n",
        "        nn.ReLU(),\n",
        "        nn.Linear(hidden_size, 1)\n",
        "    )\n",
        "    # self.layer1 = nn.Linear(2, hidden_size) # this is same as in_features=2, out_features=4\n",
        "    # self.layer2 = nn.Linear(hidden_size, hidden_size)\n",
        "    # self.layer3 = nn.Linear(hidden_size, 1)\n",
        "\n",
        "  def forward(self, input_x): \n",
        "    # forward function is called when you give input to your model\n",
        "    # out = self.layer1(input_x)\n",
        "    # pred = self.layer3(self.layer2(out.relu()).relu())\n",
        "\n",
        "    # this will return the prediction of our model\n",
        "    # which has shape of N, 1. (N is number of data samples in input_x)\n",
        "    pred = self.layer(input_x)\n",
        "    return pred\n",
        "  \n",
        "model = MyModel()\n",
        "\n",
        "# Let's do the same things with torch.optim.Optimizer\n",
        "\n",
        "model = MyModel()\n",
        "num_iteration = 1000\n",
        "lr = 1e-3 # 0.001\n",
        "optimizer = torch.optim.Adam(model.parameters(), lr=lr)\n",
        "# tell optimizer to optimize every parameters in the model\n",
        "\n",
        "# save the loss record so that we can plot it\n",
        "loss_record = []\n",
        "\n",
        "# let's train our model for a given number of steps\n",
        "for i in range(num_iteration):\n",
        "  pred = model(data_xy) # make prediction \n",
        "  loss = torch.abs(pred[:,0]-data_label) # calculate loss for each sample\n",
        "  mean_loss = loss.mean() # take average of loss of each sample\n",
        "  # make backpropagation of loss\n",
        "  mean_loss.backward() # this will add gradient for every parameters\n",
        "  optimizer.step() # this will update every parameters in the optimizer (in the model)\n",
        "  optimizer.zero_grad() # reset the gradient of every parameters in the optimizer\n",
        "\n",
        "  # that are connected to the mean loss\n",
        "\n",
        "\n",
        "  # # We have to update model's parameter by its gradient\n",
        "  # for param in model.parameters():\n",
        "  #   # do something\n",
        "  #   # update parameters by its gradient and learning rate\n",
        "  #   param.data -= param.grad * lr\n",
        "  #   param.grad = None # reset the gradient value to None\n",
        "  #   # because the calculated gradient now became old\n",
        "  \n",
        "  # print(mean_loss)\n",
        "  # if you want to only get the float value of a scalar tensor,\n",
        "  # you can call atensor.item()\n",
        "  # print(mean_loss.item())\n",
        "\n",
        "  loss_record.append(mean_loss.item())\n",
        "\n",
        "visualize_decision_boundary(model, data_xy, data_label.unsqueeze(1))"
      ],
      "metadata": {
        "id": "VGG62jBex-i4",
        "outputId": "f119780b-c150-4500-f691-8be6d03cfdc9",
        "colab": {
          "base_uri": "https://localhost:8080/",
          "height": 265
        }
      },
      "execution_count": 49,
      "outputs": [
        {
          "output_type": "display_data",
          "data": {
            "text/plain": [
              "<Figure size 432x288 with 1 Axes>"
            ],
            "image/png": "[encoded data removed]"
          },
          "metadata": {
            "needs_background": "light"
          }
        }
      ]
    }
  ]
}