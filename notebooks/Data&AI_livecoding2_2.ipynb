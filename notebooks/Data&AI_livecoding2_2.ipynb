{
  "nbformat": 4,
  "nbformat_minor": 0,
  "metadata": {
    "colab": {
      "provenance": [],
      "authorship_tag": "ABX9TyM5i3G4mnFgtAHFOEKNJSPi",
      "include_colab_link": true
    },
    "kernelspec": {
      "name": "python3",
      "display_name": "Python 3"
    },
    "language_info": {
      "name": "python"
    }
  },
  "cells": [
    {
      "cell_type": "markdown",
      "metadata": {
        "id": "view-in-github",
        "colab_type": "text"
      },
      "source": [
        "<a href=\"https://colab.research.google.com/github/jdasam/mas1004-2022/blob/main/notebooks/Data%26AI_livecoding2_2.ipynb\" target=\"_parent\"><img src=\"https://colab.research.google.com/assets/colab-badge.svg\" alt=\"Open In Colab\"/></a>"
      ]
    },
    {
      "cell_type": "code",
      "execution_count": 1,
      "metadata": {
        "id": "LNyiwfPmmngm"
      },
      "outputs": [],
      "source": [
        "input_vec = [0.5, -0.4, 1.2]"
      ]
    },
    {
      "cell_type": "code",
      "source": [
        "neuron_weights = [-1, 0.5, 0.8]"
      ],
      "metadata": {
        "id": "tDyy8Xa2m3a2"
      },
      "execution_count": 2,
      "outputs": []
    },
    {
      "cell_type": "code",
      "source": [
        "def get_weighted_sum(in_vec, weights):\n",
        "  out = 0\n",
        "  # for i in range(len(in_vec)):\n",
        "  #   i_th_input = in_vec[i]\n",
        "  #   i_th_weight = weights[i]\n",
        "  #   multiplication = i_th_input * i_th_weight\n",
        "  #   out += multiplication\n",
        "  \n",
        "  for inp, weight in zip(in_vec, weights):\n",
        "    out += inp * weight\n",
        "\n",
        "\n",
        "  return out\n",
        "\n",
        "get_weighted_sum(input_vec, neuron_weights)"
      ],
      "metadata": {
        "colab": {
          "base_uri": "https://localhost:8080/"
        },
        "id": "K7dcBQ4YnAaT",
        "outputId": "8b7a55fe-1b5b-499c-bc4d-358360778aec"
      },
      "execution_count": 8,
      "outputs": [
        {
          "output_type": "execute_result",
          "data": {
            "text/plain": [
              "0.26"
            ]
          },
          "metadata": {},
          "execution_count": 8
        }
      ]
    },
    {
      "cell_type": "code",
      "source": [
        "for inp in input_vec:\n",
        "  print(inp)"
      ],
      "metadata": {
        "colab": {
          "base_uri": "https://localhost:8080/"
        },
        "id": "RjSnw1t5n2bM",
        "outputId": "c6ddf055-72ba-4d95-97c7-362588426e3d"
      },
      "execution_count": 7,
      "outputs": [
        {
          "output_type": "stream",
          "name": "stdout",
          "text": [
            "0.5\n",
            "-0.4\n",
            "1.2\n"
          ]
        }
      ]
    },
    {
      "cell_type": "code",
      "source": [
        "for inp, weight in zip(input_vec, neuron_weights):\n",
        "  print(inp, weight)"
      ],
      "metadata": {
        "colab": {
          "base_uri": "https://localhost:8080/"
        },
        "id": "Ul0eO1qYm_tI",
        "outputId": "6a0b16a0-93a5-4ba0-ce1f-fa75218828ce"
      },
      "execution_count": 6,
      "outputs": [
        {
          "output_type": "stream",
          "name": "stdout",
          "text": [
            "0.5 -1\n",
            "-0.4 0.5\n",
            "1.2 0.8\n"
          ]
        }
      ]
    },
    {
      "cell_type": "code",
      "source": [
        "# let's try list comprehension\n",
        "sum([inp * weight for inp, weight in zip(input_vec, neuron_weights)])\n"
      ],
      "metadata": {
        "colab": {
          "base_uri": "https://localhost:8080/"
        },
        "id": "zORuEGmsoItA",
        "outputId": "6942a9b7-37ef-4587-dd45-610080e86376"
      },
      "execution_count": 10,
      "outputs": [
        {
          "output_type": "execute_result",
          "data": {
            "text/plain": [
              "0.26"
            ]
          },
          "metadata": {},
          "execution_count": 10
        }
      ]
    },
    {
      "cell_type": "code",
      "source": [
        "neuron_bias = -0.3"
      ],
      "metadata": {
        "id": "Y5nXHevQoaHI"
      },
      "execution_count": 11,
      "outputs": []
    },
    {
      "cell_type": "code",
      "source": [
        "# get the neuron's output for a given input\n",
        "\n",
        "weighted_sum = get_weighted_sum(input_vec, neuron_weights)\n",
        "neuron_out = weighted_sum + neuron_bias\n",
        "neuron_out"
      ],
      "metadata": {
        "colab": {
          "base_uri": "https://localhost:8080/"
        },
        "id": "dVULsvSNogGq",
        "outputId": "46ec315a-12d3-435e-8d8e-91eadbfe15f3"
      },
      "execution_count": 13,
      "outputs": [
        {
          "output_type": "execute_result",
          "data": {
            "text/plain": [
              "-0.03999999999999998"
            ]
          },
          "metadata": {},
          "execution_count": 13
        }
      ]
    },
    {
      "cell_type": "code",
      "source": [
        "# define activation function\n",
        "# let's implement relu\n",
        "# relu returns the same value with input if input is equal or larger than 0\n",
        "# else returns 0\n",
        "def activation(x):\n",
        "  if x >= 0:\n",
        "    return x\n",
        "  else:  \n",
        "    return 0\n",
        "\n",
        "activation(neuron_out)"
      ],
      "metadata": {
        "colab": {
          "base_uri": "https://localhost:8080/"
        },
        "id": "c9u-jsRKo_ih",
        "outputId": "f6f5a2f5-824c-42eb-8408-d9c3d8da1208"
      },
      "execution_count": 15,
      "outputs": [
        {
          "output_type": "execute_result",
          "data": {
            "text/plain": [
              "0"
            ]
          },
          "metadata": {},
          "execution_count": 15
        }
      ]
    },
    {
      "cell_type": "code",
      "source": [
        "import matplotlib.pyplot as plt\n",
        "\n",
        "alist_of_numbers = list(range(-10, 11, 1))\n",
        "print(alist_of_numbers)\n",
        "plt.plot([activation(x) for x in alist_of_numbers])"
      ],
      "metadata": {
        "colab": {
          "base_uri": "https://localhost:8080/",
          "height": 301
        },
        "id": "931KDlqQq1ts",
        "outputId": "cfcec36f-e34c-4767-f1c7-7ce6de4447b5"
      },
      "execution_count": 20,
      "outputs": [
        {
          "output_type": "stream",
          "name": "stdout",
          "text": [
            "[-10, -9, -8, -7, -6, -5, -4, -3, -2, -1, 0, 1, 2, 3, 4, 5, 6, 7, 8, 9, 10]\n"
          ]
        },
        {
          "output_type": "execute_result",
          "data": {
            "text/plain": [
              "[<matplotlib.lines.Line2D at 0x7fe2d45c8150>]"
            ]
          },
          "metadata": {},
          "execution_count": 20
        },
        {
          "output_type": "display_data",
          "data": {
            "text/plain": [
              "<Figure size 432x288 with 1 Axes>"
            ],
            "image/png": "[encoded data removed]"
          },
          "metadata": {
            "needs_background": "light"
          }
        }
      ]
    },
    {
      "cell_type": "code",
      "source": [
        "class Neuron:\n",
        "  def __init__(self, weight, bias, activation):\n",
        "    self.weight = weight\n",
        "    self.bias = bias\n",
        "    self.activation = activation\n",
        "  \n",
        "  def __call__(self, input_vec):\n",
        "    weighted_sum = get_weighted_sum(input_vec, self.weight)\n",
        "    neuron_out = weighted_sum + self.bias\n",
        "    activation_out = self.activation(neuron_out)\n",
        "    return activation_out\n",
        "\n",
        "neuron = Neuron([0.5, 0.2, -1.5], 2.0, activation)\n",
        "neuron(input_vec)\n"
      ],
      "metadata": {
        "colab": {
          "base_uri": "https://localhost:8080/"
        },
        "id": "D47_ho-PrjB9",
        "outputId": "7f60aeff-6718-4b36-b0d7-d7296eef54f0"
      },
      "execution_count": 24,
      "outputs": [
        {
          "output_type": "execute_result",
          "data": {
            "text/plain": [
              "0.3700000000000001"
            ]
          },
          "metadata": {},
          "execution_count": 24
        }
      ]
    },
    {
      "cell_type": "code",
      "source": [
        "neuron2 = Neuron([-0.5, 0.7, 1.2], 0.5, activation)\n",
        "neuron2(input_vec)"
      ],
      "metadata": {
        "colab": {
          "base_uri": "https://localhost:8080/"
        },
        "id": "quLKjo5zsP4e",
        "outputId": "795578c0-fac3-43c7-c1a9-f585c5e64741"
      },
      "execution_count": 25,
      "outputs": [
        {
          "output_type": "execute_result",
          "data": {
            "text/plain": [
              "1.41"
            ]
          },
          "metadata": {},
          "execution_count": 25
        }
      ]
    },
    {
      "cell_type": "code",
      "source": [
        "# pass to the activation fucntion"
      ],
      "metadata": {
        "id": "XQXdaEvgo49u"
      },
      "execution_count": null,
      "outputs": []
    }
  ]
}