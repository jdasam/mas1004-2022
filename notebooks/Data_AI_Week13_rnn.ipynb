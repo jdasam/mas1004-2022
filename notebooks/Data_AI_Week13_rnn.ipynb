{
  "cells": [
    {
      "cell_type": "markdown",
      "metadata": {},
      "source": [
        "<a href=\"https://colab.research.google.com/github/jdasam/mas1004-2022/blob/main/notebooks/Data_AI_Week13_rnn.ipynb\" target=\"_parent\"><img src=\"https://colab.research.google.com/assets/colab-badge.svg\" alt=\"Open In Colab\"/></a>"
      ]
    },
    {
      "cell_type": "markdown",
      "metadata": {
        "id": "LJJ9LZpfE4oT"
      },
      "source": [
        "# RNN Tutorial\n",
        "### With Names from Different Countries"
      ]
    },
    {
      "cell_type": "code",
      "execution_count": null,
      "metadata": {
        "id": "r8eGTgQTCDTb"
      },
      "outputs": [],
      "source": [
        "import torch\n",
        "import torch.nn as nn\n",
        "from pathlib import Path\n",
        "import matplotlib.pyplot as plt\n",
        "\n",
        "import random\n",
        "from tqdm.auto import tqdm\n",
        "\n",
        "DEV= 'cuda'"
      ]
    },
    {
      "cell_type": "markdown",
      "metadata": {
        "id": "g0-Z5Z45E_R2"
      },
      "source": [
        "## 0. Get Dataset"
      ]
    },
    {
      "cell_type": "code",
      "execution_count": null,
      "metadata": {
        "colab": {
          "base_uri": "https://localhost:8080/"
        },
        "id": "KWXOlsBNCOLa",
        "outputId": "cdf0b0e8-b139-4e78-dd34-91d898e0d8eb"
      },
      "outputs": [],
      "source": [
        "!wget https://download.pytorch.org/tutorial/data.zip\n",
        "!unzip data.zip"
      ]
    },
    {
      "cell_type": "code",
      "execution_count": null,
      "metadata": {
        "colab": {
          "base_uri": "https://localhost:8080/"
        },
        "id": "iLOF4_owCIDE",
        "outputId": "5c62de24-ef69-4d01-bc42-23ee60ce8c8d"
      },
      "outputs": [],
      "source": [
        "data_dir = Path('data/names')\n",
        "txt_fns = data_dir.glob(\"*.txt\")\n",
        "\n",
        "names_in_dict = {}\n",
        "for txt_fn in txt_fns:\n",
        "  with open(txt_fn) as f:\n",
        "    name_of_countries = f.readlines()\n",
        "    print(f\"Category: {txt_fn.stem}\")\n",
        "    names_in_dict[txt_fn.stem] = name_of_countries"
      ]
    },
    {
      "cell_type": "code",
      "execution_count": null,
      "metadata": {
        "colab": {
          "base_uri": "https://localhost:8080/"
        },
        "id": "_-KrIqGtWe-a",
        "outputId": "d00773fb-d0d6-43d6-8b5d-89d721342701"
      },
      "outputs": [],
      "source": [
        "for key in names_in_dict:\n",
        "  print(f\"{key}: {names_in_dict[key][0][:-2]}, {len(names_in_dict[key])}\")"
      ]
    },
    {
      "cell_type": "markdown",
      "metadata": {
        "id": "lVQQqEDKumxs"
      },
      "source": [
        "## 1. Define Dataset"
      ]
    },
    {
      "cell_type": "code",
      "execution_count": null,
      "metadata": {},
      "outputs": [],
      "source": [
        "def normalize_name(name):\n",
        "  return name.replace('\\n', '').replace(u'\\xa0', u' ').lower()\n"
      ]
    },
    {
      "cell_type": "markdown",
      "metadata": {
        "id": "BlP0TRDLux3x"
      },
      "source": [
        "### 1-1 Add zero-padding \n",
        "- Each name in the dataset has a different length\n",
        "- Therefore, you have to add zero padding so that each data sample in a batch has same length\n",
        "  - If you use zero-padding, it is better to not use index 0 for input category\n",
        "  - For example, if you represent `\"a\"` as a categorical index 0 and then use zero padding, you cannot figure out whether `[0, 0, 0, 0]` is just padded zeros or `[a, a, a, a]`"
      ]
    },
    {
      "cell_type": "markdown",
      "metadata": {
        "id": "qOao1eu7wBrR"
      },
      "source": [
        "## 2. Make RNN Model\n",
        "### 2-1. See how RNN works\n",
        "- Since our input is a categorical index, we will use nn.Embedding\n",
        "- ![Diagram](https://datascience-enthusiast.com/figures/rnn_step_forward.png)"
      ]
    },
    {
      "cell_type": "markdown",
      "metadata": {
        "id": "leov1l4q2lnB"
      },
      "source": [
        "## 2.2 Make Name Classification Model\n",
        "- Input: Sequence of characters, in categorical indices\n",
        "  - Length of the input sequence is arbitrary \n",
        "- Output: Probability of the corresponding nationality for a given name in a sequence of characters\n",
        "  - Regardless of input length, the output is a single vector\n",
        "  - Softmax output of each class"
      ]
    },
    {
      "cell_type": "code",
      "execution_count": null,
      "metadata": {
        "id": "3Sw0eF9hhh_X"
      },
      "outputs": [],
      "source": []
    },
    {
      "cell_type": "markdown",
      "metadata": {},
      "source": [
        "## 2.3 Complete Trainer"
      ]
    },
    {
      "cell_type": "code",
      "execution_count": 4,
      "metadata": {},
      "outputs": [],
      "source": [
        "class Trainer:\n",
        "  def __init__(self, model, train_loader, valid_loader, model_name='resnet'):\n",
        "    self.model = model\n",
        "    self.train_loader = train_loader\n",
        "    self.valid_loader = valid_loader\n",
        "    self.device = torch.device(\"cuda:0\" if torch.cuda.is_available() else \"cpu\")\n",
        "    self.model.to(self.device)\n",
        "    self.criterion = nn.NLLLoss()\n",
        "    self.optimizer = optim.Adam(self.model.parameters(), lr=1e-3)\n",
        "    self.best_loss = np.inf\n",
        "    self.best_acc = 0.0\n",
        "    self.train_losses = []\n",
        "    self.valid_losses = []\n",
        "    self.train_accs = []\n",
        "    self.valid_accs = []\n",
        "    self.model_name = model_name\n",
        "\n",
        "  def validation(self):\n",
        "    self.model.eval() # change the model from train mode to evaluation mode\n",
        "    # Some models work in different ways based on whtehter it is on training step\n",
        "    # or on inference step\n",
        "\n",
        "    # In validation step, you don't have to calculate the gradient\n",
        "    # with torch.no_grad():\n",
        "\n",
        "    current_loss = 0\n",
        "    num_total_correct_pred = 0\n",
        "    with torch.inference_mode(): # every torch computation under this indent\n",
        "    # will be run without calculating the gradient or computation history\n",
        "      for batch in self.valid_loader:\n",
        "        images, labels = batch\n",
        "        images, labels = images.to(self.device), labels.to(self.device)\n",
        "        outputs = self.model(images)\n",
        "        probs = torch.softmax(outputs, dim=-1)\n",
        "        log_probs = torch.log(probs)\n",
        "\n",
        "        loss = self.criterion(log_probs, labels)\n",
        "        predicted_classes = torch.argmax(outputs, dim=-1)\n",
        "        num_acc_pred = (predicted_classes == labels.to(self.device)).sum()\n",
        "        #num_acc_pred is on self.device\n",
        "        num_total_correct_pred += num_acc_pred.item()\n",
        "        # in validation stage, we don't care about single batch's loss\n",
        "        # we want to see the result for total images of validation set\n",
        "\n",
        "        current_loss += loss.item() * len(labels)\n",
        "        # instead of adding the mean loss, we add sum of loss\n",
        "        # because the batch size can be different\n",
        "    mean_loss = current_loss / len(self.valid_loader.dataset)\n",
        "    mean_acc = num_total_correct_pred / len(self.valid_loader.dataset) # number of total datasample in the validation loader\n",
        "    return mean_loss, mean_acc\n",
        "    # return {'loss': mean_loss, 'acc': mean_acc}\n",
        "\n",
        "\n",
        "\n",
        "  def train_by_number_of_epochs(self, num_epochs):\n",
        "    for epoch in tqdm(range(num_epochs)):\n",
        "      self.model.train()\n",
        "      for batch in tqdm(self.train_loader, leave=False):\n",
        "        images, labels = batch\n",
        "        images, labels = images.to(self.device), labels.to(self.device)\n",
        "        self.optimizer.zero_grad()\n",
        "        outputs = self.model(images) # this is logits\n",
        "        probs = torch.softmax(outputs, dim=-1)\n",
        "        log_probs = torch.log(probs)\n",
        "        loss = self.criterion(log_probs, labels) # you have to feed log_probs\n",
        "\n",
        "        acc = (torch.argmax(outputs, dim=-1) == labels.to(self.device)).sum() / len(labels)\n",
        "        # for torch.nn.NLLLoss\n",
        "        loss.backward()\n",
        "        self.optimizer.step()\n",
        "\n",
        "        self.train_losses.append(loss.item())\n",
        "        self.train_accs.append(acc.item())\n",
        "        # don't try self.train_losses.append(loss)\n",
        "      # training step has ended\n",
        "      # we want to test our model on the validation set\n",
        "      valid_loss, valid_acc = self.validation()\n",
        "\n",
        "      # is this model the best? \n",
        "      # let's decide it based on valid_acc\n",
        "      if valid_acc > self.best_acc:\n",
        "        self.best_acc = valid_acc\n",
        "\n",
        "        # If it is the best model, save the model's weight'\n",
        "        models_parameters = self.model.state_dict()\n",
        "        print(f\"Saving best model at epoch {len(self.valid_accs)}, acc: {valid_acc}\")\n",
        "        torch.save(models_parameters, f'{self.model_name}_best.pt')\n",
        "\n",
        "      self.valid_losses.append(valid_loss)\n",
        "      self.valid_accs.append(valid_acc)\n",
        "\n",
        "    # Plot Accuracy curve\n",
        "    plt.plot(self.train_accs)\n",
        "    plt.plot(range(len(self.train_loader)-1, len(self.train_accs), len(self.train_loader)) ,self.valid_accs)\n",
        "    plt.title(\"Accuracy\")"
      ]
    }
  ],
  "metadata": {
    "accelerator": "GPU",
    "colab": {
      "provenance": []
    },
    "kernelspec": {
      "display_name": "Python 3.8.10 64-bit",
      "language": "python",
      "name": "python3"
    },
    "language_info": {
      "codemirror_mode": {
        "name": "ipython",
        "version": 3
      },
      "file_extension": ".py",
      "mimetype": "text/x-python",
      "name": "python",
      "nbconvert_exporter": "python",
      "pygments_lexer": "ipython3",
      "version": "3.8.10"
    },
    "vscode": {
      "interpreter": {
        "hash": "31f2aee4e71d21fbe5cf8b01ff0e069b9275f58929596ceb00d14d90e3e16cd6"
      }
    }
  },
  "nbformat": 4,
  "nbformat_minor": 0
}
