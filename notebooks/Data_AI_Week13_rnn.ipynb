{
  "cells": [
    {
      "cell_type": "markdown",
      "metadata": {
        "id": "rcCxE3qQ5ML6"
      },
      "source": [
        "<a href=\"https://colab.research.google.com/github/jdasam/mas1004-2022/blob/main/notebooks/Data_AI_Week13_rnn.ipynb\" target=\"_parent\"><img src=\"https://colab.research.google.com/assets/colab-badge.svg\" alt=\"Open In Colab\"/></a>"
      ]
    },
    {
      "cell_type": "markdown",
      "metadata": {
        "id": "LJJ9LZpfE4oT"
      },
      "source": [
        "# RNN Tutorial\n",
        "### With Names from Different Countries"
      ]
    },
    {
      "cell_type": "code",
      "execution_count": 1,
      "metadata": {
        "id": "r8eGTgQTCDTb"
      },
      "outputs": [],
      "source": [
        "import torch\n",
        "import torch.nn as nn\n",
        "from pathlib import Path\n",
        "import matplotlib.pyplot as plt\n",
        "\n",
        "import random\n",
        "from tqdm.auto import tqdm\n",
        "\n",
        "DEV= 'cuda'"
      ]
    },
    {
      "cell_type": "markdown",
      "metadata": {
        "id": "g0-Z5Z45E_R2"
      },
      "source": [
        "## 0. Get Dataset"
      ]
    },
    {
      "cell_type": "code",
      "execution_count": 2,
      "metadata": {
        "colab": {
          "base_uri": "https://localhost:8080/"
        },
        "id": "KWXOlsBNCOLa",
        "outputId": "1787a622-07ea-47fc-ed96-a37f9efe608d"
      },
      "outputs": [
        {
          "output_type": "stream",
          "name": "stdout",
          "text": [
            "--2022-11-22 06:58:32--  https://download.pytorch.org/tutorial/data.zip\n",
            "Resolving download.pytorch.org (download.pytorch.org)... 18.65.229.70, 18.65.229.105, 18.65.229.67, ...\n",
            "Connecting to download.pytorch.org (download.pytorch.org)|18.65.229.70|:443... connected.\n",
            "HTTP request sent, awaiting response... 200 OK\n",
            "Length: 2882130 (2.7M) [application/zip]\n",
            "Saving to: ‘data.zip’\n",
            "\n",
            "data.zip            100%[===================>]   2.75M  --.-KB/s    in 0.1s    \n",
            "\n",
            "2022-11-22 06:58:32 (22.4 MB/s) - ‘data.zip’ saved [2882130/2882130]\n",
            "\n",
            "Archive:  data.zip\n",
            "   creating: data/\n",
            "  inflating: data/eng-fra.txt        \n",
            "   creating: data/names/\n",
            "  inflating: data/names/Arabic.txt   \n",
            "  inflating: data/names/Chinese.txt  \n",
            "  inflating: data/names/Czech.txt    \n",
            "  inflating: data/names/Dutch.txt    \n",
            "  inflating: data/names/English.txt  \n",
            "  inflating: data/names/French.txt   \n",
            "  inflating: data/names/German.txt   \n",
            "  inflating: data/names/Greek.txt    \n",
            "  inflating: data/names/Irish.txt    \n",
            "  inflating: data/names/Italian.txt  \n",
            "  inflating: data/names/Japanese.txt  \n",
            "  inflating: data/names/Korean.txt   \n",
            "  inflating: data/names/Polish.txt   \n",
            "  inflating: data/names/Portuguese.txt  \n",
            "  inflating: data/names/Russian.txt  \n",
            "  inflating: data/names/Scottish.txt  \n",
            "  inflating: data/names/Spanish.txt  \n",
            "  inflating: data/names/Vietnamese.txt  \n"
          ]
        }
      ],
      "source": [
        "!wget https://download.pytorch.org/tutorial/data.zip\n",
        "!unzip data.zip"
      ]
    },
    {
      "cell_type": "code",
      "execution_count": 3,
      "metadata": {
        "colab": {
          "base_uri": "https://localhost:8080/"
        },
        "id": "iLOF4_owCIDE",
        "outputId": "9657bcb0-a55e-40ab-90de-8ec8c7f1a45d"
      },
      "outputs": [
        {
          "output_type": "stream",
          "name": "stdout",
          "text": [
            "Category: Japanese\n",
            "Category: Portuguese\n",
            "Category: Irish\n",
            "Category: Polish\n",
            "Category: Italian\n",
            "Category: Dutch\n",
            "Category: Scottish\n",
            "Category: Spanish\n",
            "Category: Vietnamese\n",
            "Category: Russian\n",
            "Category: French\n",
            "Category: Greek\n",
            "Category: Korean\n",
            "Category: German\n",
            "Category: Chinese\n",
            "Category: English\n",
            "Category: Arabic\n",
            "Category: Czech\n"
          ]
        }
      ],
      "source": [
        "data_dir = Path('data/names')\n",
        "txt_fns = data_dir.glob(\"*.txt\")\n",
        "\n",
        "names_in_dict = {}\n",
        "for txt_fn in txt_fns:\n",
        "  with open(txt_fn) as f:\n",
        "    name_of_countries = f.readlines()\n",
        "    print(f\"Category: {txt_fn.stem}\")\n",
        "    names_in_dict[txt_fn.stem] = name_of_countries"
      ]
    },
    {
      "cell_type": "code",
      "execution_count": null,
      "metadata": {
        "id": "_-KrIqGtWe-a"
      },
      "outputs": [],
      "source": [
        "for key in names_in_dict:\n",
        "  print(f\"{key}: {names_in_dict[key][0][:-2]}, {len(names_in_dict[key])}\")"
      ]
    },
    {
      "cell_type": "markdown",
      "metadata": {
        "id": "lVQQqEDKumxs"
      },
      "source": [
        "## 1. Define Dataset"
      ]
    },
    {
      "cell_type": "code",
      "execution_count": null,
      "metadata": {
        "id": "aZSaZU_75ML-"
      },
      "outputs": [],
      "source": [
        "def normalize_name(name):\n",
        "  return name.replace('\\n', '').replace(u'\\xa0', u' ').lower()\n"
      ]
    },
    {
      "cell_type": "markdown",
      "metadata": {
        "id": "BlP0TRDLux3x"
      },
      "source": [
        "### 1-1 Add zero-padding \n",
        "- Each name in the dataset has a different length\n",
        "- Therefore, you have to add zero padding so that each data sample in a batch has same length\n",
        "  - If you use zero-padding, it is better to not use index 0 for input category\n",
        "  - For example, if you represent `\"a\"` as a categorical index 0 and then use zero padding, you cannot figure out whether `[0, 0, 0, 0]` is just padded zeros or `[a, a, a, a]`"
      ]
    },
    {
      "cell_type": "markdown",
      "metadata": {
        "id": "qOao1eu7wBrR"
      },
      "source": [
        "## 2. Make RNN Model\n",
        "### 2-1. See how RNN works\n",
        "- Since our input is a categorical index, we will use nn.Embedding\n",
        "- ![Diagram](https://datascience-enthusiast.com/figures/rnn_step_forward.png)"
      ]
    },
    {
      "cell_type": "code",
      "source": [
        "torch.manual_seed(0)\n",
        "test_input = torch.randn([11, 4])\n",
        "test_input[7] = torch.zeros(4) # let's just change the 7th input\n",
        "\n",
        "input_to_hidden_layer = nn.Linear(4, out_features=5)\n",
        "hidden_to_hidden_layer = nn.Linear(5, 5)\n",
        "\n",
        "initial_hidden_state = torch.zeros(5)\n",
        "initial_hidden_state\n",
        "prev_hidden_state = initial_hidden_state\n",
        "\n",
        "time_step = 0\n",
        "\n",
        "hidden_outputs = []\n",
        "\n",
        "for time_step in range(len(test_input)):\n",
        "  current_input = test_input[time_step]\n",
        "  current_input_to_hidden = input_to_hidden_layer(current_input)\n",
        "  print(current_input_to_hidden)\n",
        "  current_hidden_to_hidden = hidden_to_hidden_layer(prev_hidden_state)\n",
        "  print(current_hidden_to_hidden)\n",
        "  current_hidden_state = current_input_to_hidden + current_hidden_to_hidden\n",
        "  print(current_hidden_state)\n",
        "  prev_hidden_state = current_hidden_state\n",
        "  hidden_outputs.append(current_hidden_state)\n",
        "hidden_outputs = torch.stack(hidden_outputs, dim=0)"
      ],
      "metadata": {
        "id": "8S1myOb_ImnZ",
        "outputId": "82fb6f23-c8ae-4ea8-b935-f1e4e3f14d07",
        "colab": {
          "base_uri": "https://localhost:8080/"
        }
      },
      "execution_count": 22,
      "outputs": [
        {
          "output_type": "stream",
          "name": "stdout",
          "text": [
            "tensor([-0.9437,  0.1529, -0.3462, -1.4978,  0.6068], grad_fn=<AddBackward0>)\n",
            "tensor([-0.1831,  0.2654, -0.2721,  0.4058,  0.3065], grad_fn=<AddBackward0>)\n",
            "tensor([-1.1269,  0.4183, -0.6184, -1.0920,  0.9133], grad_fn=<AddBackward0>)\n",
            "tensor([-0.3607,  0.3824,  1.4850, -1.1160,  0.5243], grad_fn=<AddBackward0>)\n",
            "tensor([-0.4322, -0.6096,  0.2361, -0.0878,  0.4762], grad_fn=<AddBackward0>)\n",
            "tensor([-0.7929, -0.2272,  1.7211, -1.2038,  1.0005], grad_fn=<AddBackward0>)\n",
            "tensor([-0.7042,  0.6548, -0.3177, -0.6706,  0.5947], grad_fn=<AddBackward0>)\n",
            "tensor([-0.9311, -0.0091,  0.2306, -0.6226, -0.1075], grad_fn=<AddBackward0>)\n",
            "tensor([-1.6353,  0.6457, -0.0871, -1.2932,  0.4871], grad_fn=<AddBackward0>)\n",
            "tensor([-0.5581,  0.3917,  0.6266,  0.4143, -0.3039], grad_fn=<AddBackward0>)\n",
            "tensor([-0.4411, -0.3164,  0.6640, -0.1326,  0.1968], grad_fn=<AddBackward0>)\n",
            "tensor([-0.9992,  0.0753,  1.2905,  0.2817, -0.1071], grad_fn=<AddBackward0>)\n",
            "tensor([-1.1610,  0.2827, -1.2173, -0.8705,  0.4742], grad_fn=<AddBackward0>)\n",
            "tensor([-0.3008,  0.6263,  0.0846, -0.2296, -0.1702], grad_fn=<AddBackward0>)\n",
            "tensor([-1.4618,  0.9090, -1.1327, -1.1002,  0.3041], grad_fn=<AddBackward0>)\n",
            "tensor([-0.2622,  0.9149, -0.3887, -0.3563,  0.2340], grad_fn=<AddBackward0>)\n",
            "tensor([-0.1778, -0.4499,  0.5544,  0.2799,  0.4504], grad_fn=<AddBackward0>)\n",
            "tensor([-0.4400,  0.4650,  0.1657, -0.0765,  0.6844], grad_fn=<AddBackward0>)\n",
            "tensor([-0.3349,  0.7051,  0.3650, -0.5884,  0.3574], grad_fn=<AddBackward0>)\n",
            "tensor([-0.4126,  0.0358, -0.1747,  0.0456,  0.1441], grad_fn=<AddBackward0>)\n",
            "tensor([-0.7475,  0.7408,  0.1903, -0.5428,  0.5015], grad_fn=<AddBackward0>)\n",
            "tensor([-0.4660,  0.4442,  0.3802, -0.4988,  0.0936], grad_fn=<AddBackward0>)\n",
            "tensor([-0.4465,  0.0585,  0.1882,  0.1249,  0.0444], grad_fn=<AddBackward0>)\n",
            "tensor([-0.9125,  0.5028,  0.5683, -0.3739,  0.1380], grad_fn=<AddBackward0>)\n",
            "tensor([-0.7285,  0.2452,  0.1512,  0.2682, -0.3600], grad_fn=<AddBackward0>)\n",
            "tensor([-0.3686,  0.2878,  0.2529,  0.0459, -0.0331], grad_fn=<AddBackward0>)\n",
            "tensor([-1.0971,  0.5330,  0.4041,  0.3141, -0.3931], grad_fn=<AddBackward0>)\n",
            "tensor([ 0.0812,  0.4889,  0.3687, -0.6626, -0.4312], grad_fn=<AddBackward0>)\n",
            "tensor([-0.0643,  0.5619,  0.1946,  0.1581, -0.0378], grad_fn=<AddBackward0>)\n",
            "tensor([ 0.0169,  1.0509,  0.5633, -0.5044, -0.4689], grad_fn=<AddBackward0>)\n",
            "tensor([-0.3526,  0.6990, -0.6120,  1.8882, -1.2712], grad_fn=<AddBackward0>)\n",
            "tensor([-0.3396,  0.8093,  0.3071,  0.8763, -0.2609], grad_fn=<AddBackward0>)\n",
            "tensor([-0.6922,  1.5083, -0.3049,  2.7645, -1.5321], grad_fn=<AddBackward0>)\n"
          ]
        }
      ]
    },
    {
      "cell_type": "code",
      "source": [
        "# hidden_outputs = torch.stack(hidden_outputs, dim=0)\n",
        "print(hidden_outputs.shape)\n",
        "print(hidden_outputs)"
      ],
      "metadata": {
        "id": "8ZQ8PtB2LYl2",
        "outputId": "2af1b088-b4a0-4f1f-a1f2-9a140d7624dc",
        "colab": {
          "base_uri": "https://localhost:8080/"
        }
      },
      "execution_count": 21,
      "outputs": [
        {
          "output_type": "stream",
          "name": "stdout",
          "text": [
            "torch.Size([11, 5])\n",
            "tensor([[-1.1269,  0.4183, -0.6184, -1.0920,  0.9133],\n",
            "        [-0.7929, -0.2272,  1.7211, -1.2038,  1.0005],\n",
            "        [-1.6353,  0.6457, -0.0871, -1.2932,  0.4871],\n",
            "        [-0.9992,  0.0753,  1.2905,  0.2817, -0.1071],\n",
            "        [-1.4618,  0.9090, -1.1327, -1.1002,  0.3041],\n",
            "        [-0.4400,  0.4650,  0.1657, -0.0765,  0.6844],\n",
            "        [-0.7475,  0.7408,  0.1903, -0.5428,  0.5015],\n",
            "        [-1.2924,  0.5724, -0.2626, -0.0653,  0.3060],\n",
            "        [-0.8949,  0.1977,  0.3012,  0.2309, -0.1231],\n",
            "        [-0.0384,  0.8418,  0.3796, -0.6060, -0.3019],\n",
            "        [-0.6968,  1.3023, -0.3603,  2.6543, -1.3842]],\n",
            "       grad_fn=<StackBackward0>)\n"
          ]
        }
      ]
    },
    {
      "cell_type": "code",
      "source": [
        "print(hidden_outputs.shape)\n",
        "print(hidden_outputs)"
      ],
      "metadata": {
        "id": "Mq4bami2L6Pz",
        "outputId": "529fb2f6-afab-4ea1-b66b-6c08f0f2cd77",
        "colab": {
          "base_uri": "https://localhost:8080/"
        }
      },
      "execution_count": 23,
      "outputs": [
        {
          "output_type": "stream",
          "name": "stdout",
          "text": [
            "torch.Size([11, 5])\n",
            "tensor([[-1.1269,  0.4183, -0.6184, -1.0920,  0.9133],\n",
            "        [-0.7929, -0.2272,  1.7211, -1.2038,  1.0005],\n",
            "        [-1.6353,  0.6457, -0.0871, -1.2932,  0.4871],\n",
            "        [-0.9992,  0.0753,  1.2905,  0.2817, -0.1071],\n",
            "        [-1.4618,  0.9090, -1.1327, -1.1002,  0.3041],\n",
            "        [-0.4400,  0.4650,  0.1657, -0.0765,  0.6844],\n",
            "        [-0.7475,  0.7408,  0.1903, -0.5428,  0.5015],\n",
            "        [-0.9125,  0.5028,  0.5683, -0.3739,  0.1380],\n",
            "        [-1.0971,  0.5330,  0.4041,  0.3141, -0.3931],\n",
            "        [ 0.0169,  1.0509,  0.5633, -0.5044, -0.4689],\n",
            "        [-0.6922,  1.5083, -0.3049,  2.7645, -1.5321]],\n",
            "       grad_fn=<StackBackward0>)\n"
          ]
        }
      ]
    },
    {
      "cell_type": "markdown",
      "metadata": {
        "id": "leov1l4q2lnB"
      },
      "source": [
        "## 2.2 Make Name Classification Model\n",
        "- Input: Sequence of characters, in categorical indices\n",
        "  - Length of the input sequence is arbitrary \n",
        "- Output: Probability of the corresponding nationality for a given name in a sequence of characters\n",
        "  - Regardless of input length, the output is a single vector\n",
        "  - Softmax output of each class"
      ]
    },
    {
      "cell_type": "code",
      "execution_count": null,
      "metadata": {
        "id": "3Sw0eF9hhh_X"
      },
      "outputs": [],
      "source": []
    },
    {
      "cell_type": "markdown",
      "metadata": {
        "id": "jhtnSdv55ML_"
      },
      "source": [
        "## 2.3 Complete Trainer"
      ]
    },
    {
      "cell_type": "code",
      "execution_count": null,
      "metadata": {
        "id": "Q_eHqOmH5ML_"
      },
      "outputs": [],
      "source": [
        "class Trainer:\n",
        "  def __init__(self, model, train_loader, valid_loader, model_name='resnet'):\n",
        "    self.model = model\n",
        "    self.train_loader = train_loader\n",
        "    self.valid_loader = valid_loader\n",
        "    self.device = torch.device(\"cuda:0\" if torch.cuda.is_available() else \"cpu\")\n",
        "    self.model.to(self.device)\n",
        "    self.criterion = nn.NLLLoss()\n",
        "    self.optimizer = optim.Adam(self.model.parameters(), lr=1e-3)\n",
        "    self.best_loss = np.inf\n",
        "    self.best_acc = 0.0\n",
        "    self.train_losses = []\n",
        "    self.valid_losses = []\n",
        "    self.train_accs = []\n",
        "    self.valid_accs = []\n",
        "    self.model_name = model_name\n",
        "\n",
        "  def validation(self):\n",
        "    self.model.eval() # change the model from train mode to evaluation mode\n",
        "    # Some models work in different ways based on whtehter it is on training step\n",
        "    # or on inference step\n",
        "\n",
        "    # In validation step, you don't have to calculate the gradient\n",
        "    # with torch.no_grad():\n",
        "\n",
        "    current_loss = 0\n",
        "    num_total_correct_pred = 0\n",
        "    with torch.inference_mode(): # every torch computation under this indent\n",
        "    # will be run without calculating the gradient or computation history\n",
        "      for batch in self.valid_loader:\n",
        "        images, labels = batch\n",
        "        images, labels = images.to(self.device), labels.to(self.device)\n",
        "        outputs = self.model(images)\n",
        "        probs = torch.softmax(outputs, dim=-1)\n",
        "        log_probs = torch.log(probs)\n",
        "\n",
        "        loss = self.criterion(log_probs, labels)\n",
        "        predicted_classes = torch.argmax(outputs, dim=-1)\n",
        "        num_acc_pred = (predicted_classes == labels.to(self.device)).sum()\n",
        "        #num_acc_pred is on self.device\n",
        "        num_total_correct_pred += num_acc_pred.item()\n",
        "        # in validation stage, we don't care about single batch's loss\n",
        "        # we want to see the result for total images of validation set\n",
        "\n",
        "        current_loss += loss.item() * len(labels)\n",
        "        # instead of adding the mean loss, we add sum of loss\n",
        "        # because the batch size can be different\n",
        "    mean_loss = current_loss / len(self.valid_loader.dataset)\n",
        "    mean_acc = num_total_correct_pred / len(self.valid_loader.dataset) # number of total datasample in the validation loader\n",
        "    return mean_loss, mean_acc\n",
        "    # return {'loss': mean_loss, 'acc': mean_acc}\n",
        "\n",
        "\n",
        "\n",
        "  def train_by_number_of_epochs(self, num_epochs):\n",
        "    for epoch in tqdm(range(num_epochs)):\n",
        "      self.model.train()\n",
        "      for batch in tqdm(self.train_loader, leave=False):\n",
        "        images, labels = batch\n",
        "        images, labels = images.to(self.device), labels.to(self.device)\n",
        "        self.optimizer.zero_grad()\n",
        "        outputs = self.model(images) # this is logits\n",
        "        probs = torch.softmax(outputs, dim=-1)\n",
        "        log_probs = torch.log(probs)\n",
        "        loss = self.criterion(log_probs, labels) # you have to feed log_probs\n",
        "\n",
        "        acc = (torch.argmax(outputs, dim=-1) == labels.to(self.device)).sum() / len(labels)\n",
        "        # for torch.nn.NLLLoss\n",
        "        loss.backward()\n",
        "        self.optimizer.step()\n",
        "\n",
        "        self.train_losses.append(loss.item())\n",
        "        self.train_accs.append(acc.item())\n",
        "        # don't try self.train_losses.append(loss)\n",
        "      # training step has ended\n",
        "      # we want to test our model on the validation set\n",
        "      valid_loss, valid_acc = self.validation()\n",
        "\n",
        "      # is this model the best? \n",
        "      # let's decide it based on valid_acc\n",
        "      if valid_acc > self.best_acc:\n",
        "        self.best_acc = valid_acc\n",
        "\n",
        "        # If it is the best model, save the model's weight'\n",
        "        models_parameters = self.model.state_dict()\n",
        "        print(f\"Saving best model at epoch {len(self.valid_accs)}, acc: {valid_acc}\")\n",
        "        torch.save(models_parameters, f'{self.model_name}_best.pt')\n",
        "\n",
        "      self.valid_losses.append(valid_loss)\n",
        "      self.valid_accs.append(valid_acc)\n",
        "\n",
        "    # Plot Accuracy curve\n",
        "    plt.plot(self.train_accs)\n",
        "    plt.plot(range(len(self.train_loader)-1, len(self.train_accs), len(self.train_loader)) ,self.valid_accs)\n",
        "    plt.title(\"Accuracy\")"
      ]
    }
  ],
  "metadata": {
    "accelerator": "GPU",
    "colab": {
      "provenance": []
    },
    "kernelspec": {
      "display_name": "Python 3.8.10 64-bit",
      "language": "python",
      "name": "python3"
    },
    "language_info": {
      "codemirror_mode": {
        "name": "ipython",
        "version": 3
      },
      "file_extension": ".py",
      "mimetype": "text/x-python",
      "name": "python",
      "nbconvert_exporter": "python",
      "pygments_lexer": "ipython3",
      "version": "3.8.10"
    },
    "vscode": {
      "interpreter": {
        "hash": "31f2aee4e71d21fbe5cf8b01ff0e069b9275f58929596ceb00d14d90e3e16cd6"
      }
    }
  },
  "nbformat": 4,
  "nbformat_minor": 0
}