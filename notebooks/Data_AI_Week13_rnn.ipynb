{
  "cells": [
    {
      "cell_type": "markdown",
      "metadata": {},
      "source": [
        "<a href=\"https://colab.research.google.com/github/jdasam/mas1004-2022/blob/main/notebooks/Data_AI_Week13_rnn.ipynb\" target=\"_parent\"><img src=\"https://colab.research.google.com/assets/colab-badge.svg\" alt=\"Open In Colab\"/></a>"
      ]
    },
    {
      "cell_type": "markdown",
      "metadata": {
        "id": "LJJ9LZpfE4oT"
      },
      "source": [
        "# RNN Tutorial\n",
        "### With Names from Different Countries"
      ]
    },
    {
      "cell_type": "code",
      "execution_count": null,
      "metadata": {
        "id": "r8eGTgQTCDTb"
      },
      "outputs": [],
      "source": [
        "import torch\n",
        "import torch.nn as nn\n",
        "from pathlib import Path\n",
        "import matplotlib.pyplot as plt\n",
        "\n",
        "import random\n",
        "from tqdm.auto import tqdm\n",
        "\n",
        "DEV= 'cuda'"
      ]
    },
    {
      "cell_type": "markdown",
      "metadata": {
        "id": "g0-Z5Z45E_R2"
      },
      "source": [
        "## 0. Get Dataset"
      ]
    },
    {
      "cell_type": "code",
      "execution_count": null,
      "metadata": {
        "colab": {
          "base_uri": "https://localhost:8080/"
        },
        "id": "KWXOlsBNCOLa",
        "outputId": "cdf0b0e8-b139-4e78-dd34-91d898e0d8eb"
      },
      "outputs": [],
      "source": [
        "!wget https://download.pytorch.org/tutorial/data.zip\n",
        "!unzip data.zip"
      ]
    },
    {
      "cell_type": "code",
      "execution_count": null,
      "metadata": {
        "colab": {
          "base_uri": "https://localhost:8080/"
        },
        "id": "iLOF4_owCIDE",
        "outputId": "5c62de24-ef69-4d01-bc42-23ee60ce8c8d"
      },
      "outputs": [],
      "source": [
        "data_dir = Path('data/names')\n",
        "txt_fns = data_dir.glob(\"*.txt\")\n",
        "\n",
        "names_in_dict = {}\n",
        "for txt_fn in txt_fns:\n",
        "  with open(txt_fn) as f:\n",
        "    name_of_countries = f.readlines()\n",
        "    print(f\"Category: {txt_fn.stem}\")\n",
        "    names_in_dict[txt_fn.stem] = name_of_countries"
      ]
    },
    {
      "cell_type": "code",
      "execution_count": null,
      "metadata": {
        "colab": {
          "base_uri": "https://localhost:8080/"
        },
        "id": "_-KrIqGtWe-a",
        "outputId": "d00773fb-d0d6-43d6-8b5d-89d721342701"
      },
      "outputs": [],
      "source": [
        "for key in names_in_dict:\n",
        "  print(f\"{key}: {names_in_dict[key][0][:-2]}, {len(names_in_dict[key])}\")"
      ]
    },
    {
      "cell_type": "markdown",
      "metadata": {
        "id": "lVQQqEDKumxs"
      },
      "source": [
        "## 1. Define Dataset"
      ]
    },
    {
      "cell_type": "code",
      "execution_count": null,
      "metadata": {},
      "outputs": [],
      "source": [
        "def normalize_name(name):\n",
        "  return name.replace('\\n', '').replace(u'\\xa0', u' ').lower()\n"
      ]
    },
    {
      "cell_type": "markdown",
      "metadata": {
        "id": "BlP0TRDLux3x"
      },
      "source": [
        "### 1-1 Add zero-padding \n",
        "- Each name in the dataset has a different length\n",
        "- Therefore, you have to add zero padding so that each data sample in a batch has same length\n",
        "  - If you use zero-padding, it is better to not use index 0 for input category\n",
        "  - For example, if you represent `\"a\"` as a categorical index 0 and then use zero padding, you cannot figure out whether `[0, 0, 0, 0]` is just padded zeros or `[a, a, a, a]`"
      ]
    },
    {
      "cell_type": "markdown",
      "metadata": {
        "id": "qOao1eu7wBrR"
      },
      "source": [
        "## 2. Make RNN Model\n",
        "### 2-1. See how RNN works\n",
        "- Since our input is a categorical index, we will use nn.Embedding\n",
        "- ![Diagram](https://datascience-enthusiast.com/figures/rnn_step_forward.png)"
      ]
    },
    {
      "cell_type": "markdown",
      "metadata": {
        "id": "leov1l4q2lnB"
      },
      "source": [
        "## 2.2 Make Name Classification Model\n",
        "- Input: Sequence of characters, in categorical indices\n",
        "  - Length of the input sequence is arbitrary \n",
        "- Output: Probability of the corresponding nationality for a given name in a sequence of characters\n",
        "  - Regardless of input length, the output is a single vector\n",
        "  - Softmax output of each class"
      ]
    },
    {
      "cell_type": "code",
      "execution_count": null,
      "metadata": {
        "id": "3Sw0eF9hhh_X"
      },
      "outputs": [],
      "source": []
    }
  ],
  "metadata": {
    "accelerator": "GPU",
    "colab": {
      "provenance": []
    },
    "kernelspec": {
      "display_name": "Python 3.8.10 64-bit",
      "language": "python",
      "name": "python3"
    },
    "language_info": {
      "codemirror_mode": {
        "name": "ipython",
        "version": 3
      },
      "file_extension": ".py",
      "mimetype": "text/x-python",
      "name": "python",
      "nbconvert_exporter": "python",
      "pygments_lexer": "ipython3",
      "version": "3.8.10"
    },
    "vscode": {
      "interpreter": {
        "hash": "31f2aee4e71d21fbe5cf8b01ff0e069b9275f58929596ceb00d14d90e3e16cd6"
      }
    }
  },
  "nbformat": 4,
  "nbformat_minor": 0
}
