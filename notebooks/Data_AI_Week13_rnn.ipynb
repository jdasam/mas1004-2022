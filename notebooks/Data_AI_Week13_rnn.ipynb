{
  "cells": [
    {
      "cell_type": "markdown",
      "metadata": {
        "id": "rcCxE3qQ5ML6"
      },
      "source": [
        "<a href=\"https://colab.research.google.com/github/jdasam/mas1004-2022/blob/main/notebooks/Data_AI_Week13_rnn.ipynb\" target=\"_parent\"><img src=\"https://colab.research.google.com/assets/colab-badge.svg\" alt=\"Open In Colab\"/></a>"
      ]
    },
    {
      "cell_type": "markdown",
      "metadata": {
        "id": "LJJ9LZpfE4oT"
      },
      "source": [
        "# RNN Tutorial\n",
        "### With Names from Different Countries"
      ]
    },
    {
      "cell_type": "code",
      "execution_count": 1,
      "metadata": {
        "id": "r8eGTgQTCDTb"
      },
      "outputs": [],
      "source": [
        "import torch\n",
        "import torch.nn as nn\n",
        "from pathlib import Path\n",
        "import matplotlib.pyplot as plt\n",
        "\n",
        "import random\n",
        "from tqdm.auto import tqdm\n",
        "\n",
        "DEV= 'cuda'"
      ]
    },
    {
      "cell_type": "markdown",
      "metadata": {
        "id": "g0-Z5Z45E_R2"
      },
      "source": [
        "## 0. Get Dataset"
      ]
    },
    {
      "cell_type": "code",
      "execution_count": 2,
      "metadata": {
        "colab": {
          "base_uri": "https://localhost:8080/"
        },
        "id": "KWXOlsBNCOLa",
        "outputId": "f1801231-e2b8-4507-ee8f-c44f23c70e55"
      },
      "outputs": [
        {
          "output_type": "stream",
          "name": "stdout",
          "text": [
            "--2022-12-01 06:08:10--  https://download.pytorch.org/tutorial/data.zip\n",
            "Resolving download.pytorch.org (download.pytorch.org)... 13.249.85.7, 13.249.85.10, 13.249.85.72, ...\n",
            "Connecting to download.pytorch.org (download.pytorch.org)|13.249.85.7|:443... connected.\n",
            "HTTP request sent, awaiting response... 200 OK\n",
            "Length: 2882130 (2.7M) [application/zip]\n",
            "Saving to: ‘data.zip’\n",
            "\n",
            "data.zip            100%[===================>]   2.75M  --.-KB/s    in 0.07s   \n",
            "\n",
            "2022-12-01 06:08:11 (38.2 MB/s) - ‘data.zip’ saved [2882130/2882130]\n",
            "\n",
            "Archive:  data.zip\n",
            "   creating: data/\n",
            "  inflating: data/eng-fra.txt        \n",
            "   creating: data/names/\n",
            "  inflating: data/names/Arabic.txt   \n",
            "  inflating: data/names/Chinese.txt  \n",
            "  inflating: data/names/Czech.txt    \n",
            "  inflating: data/names/Dutch.txt    \n",
            "  inflating: data/names/English.txt  \n",
            "  inflating: data/names/French.txt   \n",
            "  inflating: data/names/German.txt   \n",
            "  inflating: data/names/Greek.txt    \n",
            "  inflating: data/names/Irish.txt    \n",
            "  inflating: data/names/Italian.txt  \n",
            "  inflating: data/names/Japanese.txt  \n",
            "  inflating: data/names/Korean.txt   \n",
            "  inflating: data/names/Polish.txt   \n",
            "  inflating: data/names/Portuguese.txt  \n",
            "  inflating: data/names/Russian.txt  \n",
            "  inflating: data/names/Scottish.txt  \n",
            "  inflating: data/names/Spanish.txt  \n",
            "  inflating: data/names/Vietnamese.txt  \n"
          ]
        }
      ],
      "source": [
        "!wget https://download.pytorch.org/tutorial/data.zip\n",
        "!unzip data.zip"
      ]
    },
    {
      "cell_type": "code",
      "execution_count": 3,
      "metadata": {
        "colab": {
          "base_uri": "https://localhost:8080/"
        },
        "id": "iLOF4_owCIDE",
        "outputId": "f6979369-a662-4ca2-db27-91751e5f7a7e"
      },
      "outputs": [
        {
          "output_type": "stream",
          "name": "stdout",
          "text": [
            "Category: Spanish\n",
            "Category: French\n",
            "Category: English\n",
            "Category: Dutch\n",
            "Category: Scottish\n",
            "Category: Czech\n",
            "Category: Italian\n",
            "Category: Arabic\n",
            "Category: Irish\n",
            "Category: Korean\n",
            "Category: Japanese\n",
            "Category: Vietnamese\n",
            "Category: Greek\n",
            "Category: Polish\n",
            "Category: Chinese\n",
            "Category: Portuguese\n",
            "Category: German\n",
            "Category: Russian\n"
          ]
        }
      ],
      "source": [
        "data_dir = Path('data/names')\n",
        "txt_fns = data_dir.glob(\"*.txt\")\n",
        "\n",
        "names_in_dict = {}\n",
        "for txt_fn in txt_fns:\n",
        "  with open(txt_fn) as f:\n",
        "    name_of_countries = f.readlines()\n",
        "    print(f\"Category: {txt_fn.stem}\")\n",
        "    names_in_dict[txt_fn.stem] = name_of_countries"
      ]
    },
    {
      "cell_type": "code",
      "execution_count": 4,
      "metadata": {
        "colab": {
          "base_uri": "https://localhost:8080/"
        },
        "id": "_-KrIqGtWe-a",
        "outputId": "db83d944-f61b-4d42-de18-f22ca82dfead"
      },
      "outputs": [
        {
          "output_type": "stream",
          "name": "stdout",
          "text": [
            "Spanish: Aban, 298\n",
            "French: Abe, 277\n",
            "English: Abba, 3668\n",
            "Dutch: Aalsbur, 297\n",
            "Scottish: Smit, 100\n",
            "Czech: Ab, 519\n",
            "Italian: Abandonat, 709\n",
            "Arabic: Khour, 2000\n",
            "Irish: Ada, 232\n",
            "Korean: Ah, 94\n",
            "Japanese: Ab, 991\n",
            "Vietnamese: Nguye, 73\n",
            "Greek: Adamidi, 203\n",
            "Polish: Adamcza, 139\n",
            "Chinese: An, 268\n",
            "Portuguese: Abre, 74\n",
            "German: Abbin, 724\n",
            "Russian: Ababk, 9408\n"
          ]
        }
      ],
      "source": [
        "for key in names_in_dict:\n",
        "  print(f\"{key}: {names_in_dict[key][0][:-2]}, {len(names_in_dict[key])}\")"
      ]
    },
    {
      "cell_type": "markdown",
      "metadata": {
        "id": "lVQQqEDKumxs"
      },
      "source": [
        "## 1. Define Dataset"
      ]
    },
    {
      "cell_type": "code",
      "execution_count": 5,
      "metadata": {
        "id": "aZSaZU_75ML-"
      },
      "outputs": [],
      "source": [
        "def normalize_name(name):\n",
        "  return name.replace('\\n', '').replace(u'\\xa0', u' ').lower()\n"
      ]
    },
    {
      "cell_type": "code",
      "source": [
        "class NameSet:\n",
        "  def __init__(self, data_dir='data/names'):\n",
        "    self.dir = Path(data_dir)\n",
        "    txt_fns = list(self.dir.glob('*.txt'))\n",
        "\n",
        "    total_names = [] \n",
        "    for txt_fn in txt_fns:\n",
        "      with open(txt_fn, 'r') as f:\n",
        "        names = f.readlines()\n",
        "      origin = txt_fn.stem.lower()\n",
        "      names = [(normalize_name(name), origin) for name in names]\n",
        "      # print(names)\n",
        "      total_names += names\n",
        "    # print(total_names)\n",
        "    self.data = total_names\n",
        "    self.unique_characters = ['<pad>'] + self.get_unique_characters_of_dataset()\n",
        "    self.char2idx = {character: idx for idx, character in enumerate(self.unique_characters)}\n",
        "    self.origin_vocab = self.get_unique_origin_of_dataset()\n",
        "    self.origin2idx = {origin:idx for idx, origin in enumerate(self.origin_vocab)}\n",
        "\n",
        "  def get_unique_characters_of_dataset(self):\n",
        "    # first, get name of every datasample\n",
        "    names = [name_origin[0] for name_origin in self.data]\n",
        "    characters = [character for name in names for character in name]\n",
        "    return sorted(list(set(characters)))\n",
        "    # characters = []\n",
        "    # for name in names:\n",
        "    #   # name: \"kim\"\n",
        "    #   for character in name:\n",
        "    #     # character: \"k\", \"i\", \"m\"\n",
        "    #     characters.append(character)\n",
        "\n",
        "  def get_unique_origin_of_dataset(self):\n",
        "    origins = [name_origin[1] for name_origin in self.data]\n",
        "    return sorted(list(set(origins)))\n",
        "\n",
        "  def __len__(self):\n",
        "    return len(self.data)\n",
        "\n",
        "  def __getitem__(self, idx):\n",
        "    name, origin = self.data[idx]\n",
        "    name_in_indices = [self.char2idx[char]  for char in name]\n",
        "    origin_in_indices = self.origin2idx[origin]\n",
        "    return torch.tensor(name_in_indices), origin_in_indices\n",
        "\n",
        "dataset = NameSet()\n",
        "print(dataset.unique_characters)\n",
        "print(len(dataset.unique_characters))\n",
        "\n",
        "dataset[0]\n",
        "# for idx, char in enumerate(dataset.unique_characters):\n",
        "#   print(idx, char)"
      ],
      "metadata": {
        "colab": {
          "base_uri": "https://localhost:8080/"
        },
        "id": "k2cIDaMeXYqz",
        "outputId": "b747b58a-9487-45af-bf74-138233ba8eb5"
      },
      "execution_count": 57,
      "outputs": [
        {
          "output_type": "stream",
          "name": "stdout",
          "text": [
            "['<pad>', ' ', \"'\", ',', '-', '/', '1', ':', 'a', 'b', 'c', 'd', 'e', 'f', 'g', 'h', 'i', 'j', 'k', 'l', 'm', 'n', 'o', 'p', 'q', 'r', 's', 't', 'u', 'v', 'w', 'x', 'y', 'z', 'ß', 'à', 'á', 'ã', 'ä', 'ç', 'è', 'é', 'ê', 'ì', 'í', 'ñ', 'ò', 'ó', 'õ', 'ö', 'ù', 'ú', 'ü', 'ą', 'ł', 'ń', 'ś', 'ż']\n",
            "58\n"
          ]
        },
        {
          "output_type": "execute_result",
          "data": {
            "text/plain": [
              "(tensor([ 8,  9,  8, 21,  8]), 16)"
            ]
          },
          "metadata": {},
          "execution_count": 57
        }
      ]
    },
    {
      "cell_type": "code",
      "source": [
        "dataset.origin2idx['korean']"
      ],
      "metadata": {
        "colab": {
          "base_uri": "https://localhost:8080/"
        },
        "id": "UBjih24lb322",
        "outputId": "beedbdfe-0b22-4791-fa62-7fa32a3edb7f"
      },
      "execution_count": 7,
      "outputs": [
        {
          "output_type": "execute_result",
          "data": {
            "text/plain": [
              "11"
            ]
          },
          "metadata": {},
          "execution_count": 7
        }
      ]
    },
    {
      "cell_type": "code",
      "source": [
        "[dataset.unique_characters[char]  for char in [7, 8, 7, 20, 7]] "
      ],
      "metadata": {
        "id": "S8S090eQTYfH",
        "outputId": "95ef2b87-ea36-49ef-e706-43a0a3bae269",
        "colab": {
          "base_uri": "https://localhost:8080/"
        }
      },
      "execution_count": 8,
      "outputs": [
        {
          "output_type": "execute_result",
          "data": {
            "text/plain": [
              "['a', 'b', 'a', 'n', 'a']"
            ]
          },
          "metadata": {},
          "execution_count": 8
        }
      ]
    },
    {
      "cell_type": "markdown",
      "metadata": {
        "id": "BlP0TRDLux3x"
      },
      "source": [
        "### 1-1 Add zero-padding \n",
        "- Each name in the dataset has a different length\n",
        "- Therefore, you have to add zero padding so that each data sample in a batch has same length\n",
        "  - If you use zero-padding, it is better to not use index 0 for input category\n",
        "  - For example, if you represent `\"a\"` as a categorical index 0 and then use zero padding, you cannot figure out whether `[0, 0, 0, 0]` is just padded zeros or `[a, a, a, a]`"
      ]
    },
    {
      "cell_type": "code",
      "source": [
        "def pad_collate(raw_batch):\n",
        "  print(raw_batch)\n",
        "  # get maximum length of sequence in the batch\n",
        "  names = [x[0] for x in raw_batch]\n",
        "  origins = [x[1] for x in raw_batch]\n",
        "\n",
        "  len_of_names = [len(name) for name in names]\n",
        "  max_len = max(len_of_names)\n",
        "\n",
        "  padded_name = torch.zeros(len(names), max_len, dtype=torch.long)\n",
        "  # print(names)\n",
        "  # print(len_of_names)\n",
        "  # print(padded_name)\n",
        "  for i, name in enumerate(names):\n",
        "    padded_name[i, 0:len(name)] = name\n",
        "  # print(padded_name)\n",
        "\n",
        "  return padded_name, torch.tensor(origins, dtype=torch.long) \n",
        "\n",
        "dataloader = torch.utils.data.DataLoader(dataset, batch_size=4, shuffle=True, collate_fn=pad_collate)\n",
        "\n",
        "batch = next(iter(dataloader))\n",
        "batch"
      ],
      "metadata": {
        "id": "hjc-TST8bZS-",
        "outputId": "7b45614d-b86f-490c-dda7-3bc0483341fa",
        "colab": {
          "base_uri": "https://localhost:8080/"
        }
      },
      "execution_count": 58,
      "outputs": [
        {
          "output_type": "stream",
          "name": "stdout",
          "text": [
            "[(tensor([26,  8, 25, 11, 12, 19, 16, 26]), 7), (tensor([17,  8, 29, 22, 25, 22, 21, 18, 22, 29]), 14), (tensor([14, 15,  8, 21, 12, 20]), 0), (tensor([10, 15, 28, 29,  8, 26, 15, 22, 29]), 14)]\n"
          ]
        },
        {
          "output_type": "execute_result",
          "data": {
            "text/plain": [
              "(tensor([[26,  8, 25, 11, 12, 19, 16, 26,  0,  0],\n",
              "         [17,  8, 29, 22, 25, 22, 21, 18, 22, 29],\n",
              "         [14, 15,  8, 21, 12, 20,  0,  0,  0,  0],\n",
              "         [10, 15, 28, 29,  8, 26, 15, 22, 29,  0]]), tensor([ 7, 14,  0, 14]))"
            ]
          },
          "metadata": {},
          "execution_count": 58
        }
      ]
    },
    {
      "cell_type": "code",
      "source": [
        "# example of raw_batch\n",
        "[dataset[0], dataset[1]]"
      ],
      "metadata": {
        "id": "W0tUpiTVb0g6",
        "outputId": "8a4f4ede-005c-4aff-aa6e-ee9b7d007812",
        "colab": {
          "base_uri": "https://localhost:8080/"
        }
      },
      "execution_count": 48,
      "outputs": [
        {
          "output_type": "execute_result",
          "data": {
            "text/plain": [
              "[(tensor([ 7,  8,  7, 20,  7]), 16), (tensor([ 7,  8,  7, 20, 21]), 16)]"
            ]
          },
          "metadata": {},
          "execution_count": 48
        }
      ]
    },
    {
      "cell_type": "code",
      "source": [
        "dataloader = torch.utils.data.DataLoader(dataset, batch_size=1, shuffle=True)\n",
        "\n",
        "batch = next(iter(dataloader))\n",
        "name, origin = batch"
      ],
      "metadata": {
        "id": "ejvK6TD8dKXR"
      },
      "execution_count": 9,
      "outputs": []
    },
    {
      "cell_type": "code",
      "source": [
        "emb_dim = 9\n",
        "char_emb = nn.Embedding(len(dataset.unique_characters), emb_dim)\n",
        "\n",
        "print(name)\n",
        "embedding_output = char_emb(name)\n",
        "print(embedding_output.shape)\n",
        "print(embedding_output)"
      ],
      "metadata": {
        "colab": {
          "base_uri": "https://localhost:8080/"
        },
        "id": "tA-IZFgWd8PG",
        "outputId": "288c1bc8-6409-442d-a1a2-9c4ab6f253e9"
      },
      "execution_count": 14,
      "outputs": [
        {
          "output_type": "stream",
          "name": "stdout",
          "text": [
            "tensor([[11, 24, 20, 11, 25, 26]])\n",
            "torch.Size([1, 6, 9])\n",
            "tensor([[[ 1.1540,  1.0368,  2.2881, -0.4761, -0.2839, -1.0220, -0.9013,\n",
            "          -1.2717, -1.9320],\n",
            "         [ 1.2905,  0.5848, -1.0608,  1.0251,  0.3588, -1.0298,  0.1126,\n",
            "          -0.9964,  0.7366],\n",
            "         [ 1.4476, -0.1589, -0.0471,  0.4494,  1.4020, -0.4257, -1.4666,\n",
            "           0.0299,  1.1522],\n",
            "         [ 1.1540,  1.0368,  2.2881, -0.4761, -0.2839, -1.0220, -0.9013,\n",
            "          -1.2717, -1.9320],\n",
            "         [-1.8705, -0.4139,  0.9510, -1.2738,  0.2722,  0.0699,  1.5257,\n",
            "          -0.9634, -0.8841],\n",
            "         [-1.0268, -1.9292,  0.2116, -1.3874, -0.7819, -1.3972, -1.9147,\n",
            "          -1.9806,  0.4860]]], grad_fn=<EmbeddingBackward0>)\n"
          ]
        }
      ]
    },
    {
      "cell_type": "code",
      "source": [
        "rnn_layer = nn.RNN(input_size=emb_dim, hidden_size=17, batch_first=True)\n",
        "# batch_first True means that the layer will handle the input \n",
        "# as Batch x Time x Hidden\n",
        "# if batch_first is False, the laywer will handle the input as\n",
        "# Time x Batch x Hidden \n",
        "print(embedding_output.shape)\n",
        "rnn_output, rnn_final_hidden = rnn_layer(embedding_output)\n",
        "print(rnn_output)\n",
        "print(rnn_final_hidden)\n",
        "print(rnn_output.shape, rnn_final_hidden.shape)"
      ],
      "metadata": {
        "colab": {
          "base_uri": "https://localhost:8080/"
        },
        "id": "5FX6-3Jqeyea",
        "outputId": "5aa7e41c-f107-4ed9-dae1-e39b388adfc9"
      },
      "execution_count": 20,
      "outputs": [
        {
          "output_type": "stream",
          "name": "stdout",
          "text": [
            "torch.Size([1, 6, 9])\n",
            "tensor([[[ 0.5732,  0.5040, -0.4716,  0.3047,  0.8236,  0.4933,  0.0151,\n",
            "          -0.1172, -0.0868,  0.5150, -0.8261,  0.5427, -0.6894,  0.5543,\n",
            "           0.5910, -0.5796, -0.1716],\n",
            "         [-0.0103, -0.1954,  0.3754,  0.1054,  0.1507,  0.0994, -0.4464,\n",
            "           0.0714, -0.5411,  0.1264,  0.6758,  0.1798, -0.7359,  0.0593,\n",
            "          -0.5565, -0.2707,  0.1376],\n",
            "         [-0.2830, -0.3521,  0.1986, -0.1865,  0.5912, -0.2174, -0.2612,\n",
            "          -0.2752, -0.0190,  0.2996,  0.5237,  0.4835, -0.0698, -0.4818,\n",
            "          -0.4917, -0.2126,  0.5026],\n",
            "         [ 0.5708,  0.4756, -0.6242,  0.0846,  0.8551,  0.4885, -0.0071,\n",
            "          -0.2137, -0.2512,  0.4301, -0.7565,  0.3872, -0.6542,  0.6941,\n",
            "           0.7734, -0.7493, -0.2683],\n",
            "         [ 0.7715,  0.6399,  0.2627,  0.0443,  0.2192,  0.3618,  0.0891,\n",
            "          -0.8545, -0.3568, -0.0761, -0.5859,  0.0714,  0.0108, -0.0753,\n",
            "           0.0702,  0.4608, -0.0946],\n",
            "         [ 0.6353,  0.7664,  0.8629, -0.4369,  0.7028, -0.4826, -0.0487,\n",
            "          -0.8922,  0.5687,  0.5394, -0.7460,  0.7432, -0.3897, -0.3506,\n",
            "           0.5701, -0.0076, -0.0536]]], grad_fn=<TransposeBackward1>)\n",
            "tensor([[[ 0.6353,  0.7664,  0.8629, -0.4369,  0.7028, -0.4826, -0.0487,\n",
            "          -0.8922,  0.5687,  0.5394, -0.7460,  0.7432, -0.3897, -0.3506,\n",
            "           0.5701, -0.0076, -0.0536]]], grad_fn=<StackBackward0>)\n",
            "torch.Size([1, 6, 17]) torch.Size([1, 1, 17])\n"
          ]
        }
      ]
    },
    {
      "cell_type": "markdown",
      "metadata": {
        "id": "qOao1eu7wBrR"
      },
      "source": [
        "## 2. Make RNN Model\n",
        "### 2-1. See how RNN works\n",
        "- Since our input is a categorical index, we will use nn.Embedding\n",
        "- ![Diagram](https://datascience-enthusiast.com/figures/rnn_step_forward.png)"
      ]
    },
    {
      "cell_type": "code",
      "source": [
        "torch.manual_seed(0)\n",
        "test_input = torch.randn([11, 4])\n",
        "test_input[7] = torch.zeros(4) # let's just change the 7th input\n",
        "\n",
        "input_to_hidden_layer = nn.Linear(4, out_features=5)\n",
        "hidden_to_hidden_layer = nn.Linear(5, 5)\n",
        "\n",
        "initial_hidden_state = torch.zeros(5)\n",
        "initial_hidden_state\n",
        "prev_hidden_state = initial_hidden_state\n",
        "\n",
        "time_step = 0\n",
        "\n",
        "hidden_outputs = []\n",
        "\n",
        "for time_step in range(len(test_input)):\n",
        "  current_input = test_input[time_step]\n",
        "  current_input_to_hidden = input_to_hidden_layer(current_input)\n",
        "  print(current_input_to_hidden)\n",
        "  current_hidden_to_hidden = hidden_to_hidden_layer(prev_hidden_state)\n",
        "  print(current_hidden_to_hidden)\n",
        "  current_hidden_state = current_input_to_hidden + current_hidden_to_hidden\n",
        "  current_hidden_state = torch.tanh(current_hidden_state)\n",
        "  print(current_hidden_state)\n",
        "  prev_hidden_state = current_hidden_state\n",
        "  hidden_outputs.append(current_hidden_state)\n",
        "hidden_outputs = torch.stack(hidden_outputs, dim=0)"
      ],
      "metadata": {
        "colab": {
          "base_uri": "https://localhost:8080/"
        },
        "id": "8S1myOb_ImnZ",
        "outputId": "82fb6f23-c8ae-4ea8-b935-f1e4e3f14d07"
      },
      "execution_count": 22,
      "outputs": [
        {
          "output_type": "stream",
          "name": "stdout",
          "text": [
            "tensor([-0.9437,  0.1529, -0.3462, -1.4978,  0.6068], grad_fn=<AddBackward0>)\n",
            "tensor([-0.1831,  0.2654, -0.2721,  0.4058,  0.3065], grad_fn=<AddBackward0>)\n",
            "tensor([-1.1269,  0.4183, -0.6184, -1.0920,  0.9133], grad_fn=<AddBackward0>)\n",
            "tensor([-0.3607,  0.3824,  1.4850, -1.1160,  0.5243], grad_fn=<AddBackward0>)\n",
            "tensor([-0.4322, -0.6096,  0.2361, -0.0878,  0.4762], grad_fn=<AddBackward0>)\n",
            "tensor([-0.7929, -0.2272,  1.7211, -1.2038,  1.0005], grad_fn=<AddBackward0>)\n",
            "tensor([-0.7042,  0.6548, -0.3177, -0.6706,  0.5947], grad_fn=<AddBackward0>)\n",
            "tensor([-0.9311, -0.0091,  0.2306, -0.6226, -0.1075], grad_fn=<AddBackward0>)\n",
            "tensor([-1.6353,  0.6457, -0.0871, -1.2932,  0.4871], grad_fn=<AddBackward0>)\n",
            "tensor([-0.5581,  0.3917,  0.6266,  0.4143, -0.3039], grad_fn=<AddBackward0>)\n",
            "tensor([-0.4411, -0.3164,  0.6640, -0.1326,  0.1968], grad_fn=<AddBackward0>)\n",
            "tensor([-0.9992,  0.0753,  1.2905,  0.2817, -0.1071], grad_fn=<AddBackward0>)\n",
            "tensor([-1.1610,  0.2827, -1.2173, -0.8705,  0.4742], grad_fn=<AddBackward0>)\n",
            "tensor([-0.3008,  0.6263,  0.0846, -0.2296, -0.1702], grad_fn=<AddBackward0>)\n",
            "tensor([-1.4618,  0.9090, -1.1327, -1.1002,  0.3041], grad_fn=<AddBackward0>)\n",
            "tensor([-0.2622,  0.9149, -0.3887, -0.3563,  0.2340], grad_fn=<AddBackward0>)\n",
            "tensor([-0.1778, -0.4499,  0.5544,  0.2799,  0.4504], grad_fn=<AddBackward0>)\n",
            "tensor([-0.4400,  0.4650,  0.1657, -0.0765,  0.6844], grad_fn=<AddBackward0>)\n",
            "tensor([-0.3349,  0.7051,  0.3650, -0.5884,  0.3574], grad_fn=<AddBackward0>)\n",
            "tensor([-0.4126,  0.0358, -0.1747,  0.0456,  0.1441], grad_fn=<AddBackward0>)\n",
            "tensor([-0.7475,  0.7408,  0.1903, -0.5428,  0.5015], grad_fn=<AddBackward0>)\n",
            "tensor([-0.4660,  0.4442,  0.3802, -0.4988,  0.0936], grad_fn=<AddBackward0>)\n",
            "tensor([-0.4465,  0.0585,  0.1882,  0.1249,  0.0444], grad_fn=<AddBackward0>)\n",
            "tensor([-0.9125,  0.5028,  0.5683, -0.3739,  0.1380], grad_fn=<AddBackward0>)\n",
            "tensor([-0.7285,  0.2452,  0.1512,  0.2682, -0.3600], grad_fn=<AddBackward0>)\n",
            "tensor([-0.3686,  0.2878,  0.2529,  0.0459, -0.0331], grad_fn=<AddBackward0>)\n",
            "tensor([-1.0971,  0.5330,  0.4041,  0.3141, -0.3931], grad_fn=<AddBackward0>)\n",
            "tensor([ 0.0812,  0.4889,  0.3687, -0.6626, -0.4312], grad_fn=<AddBackward0>)\n",
            "tensor([-0.0643,  0.5619,  0.1946,  0.1581, -0.0378], grad_fn=<AddBackward0>)\n",
            "tensor([ 0.0169,  1.0509,  0.5633, -0.5044, -0.4689], grad_fn=<AddBackward0>)\n",
            "tensor([-0.3526,  0.6990, -0.6120,  1.8882, -1.2712], grad_fn=<AddBackward0>)\n",
            "tensor([-0.3396,  0.8093,  0.3071,  0.8763, -0.2609], grad_fn=<AddBackward0>)\n",
            "tensor([-0.6922,  1.5083, -0.3049,  2.7645, -1.5321], grad_fn=<AddBackward0>)\n"
          ]
        }
      ]
    },
    {
      "cell_type": "code",
      "source": [
        "# hidden_outputs = torch.stack(hidden_outputs, dim=0)\n",
        "print(hidden_outputs.shape)\n",
        "print(hidden_outputs)"
      ],
      "metadata": {
        "colab": {
          "base_uri": "https://localhost:8080/"
        },
        "id": "8ZQ8PtB2LYl2",
        "outputId": "2af1b088-b4a0-4f1f-a1f2-9a140d7624dc"
      },
      "execution_count": 21,
      "outputs": [
        {
          "output_type": "stream",
          "name": "stdout",
          "text": [
            "torch.Size([11, 5])\n",
            "tensor([[-1.1269,  0.4183, -0.6184, -1.0920,  0.9133],\n",
            "        [-0.7929, -0.2272,  1.7211, -1.2038,  1.0005],\n",
            "        [-1.6353,  0.6457, -0.0871, -1.2932,  0.4871],\n",
            "        [-0.9992,  0.0753,  1.2905,  0.2817, -0.1071],\n",
            "        [-1.4618,  0.9090, -1.1327, -1.1002,  0.3041],\n",
            "        [-0.4400,  0.4650,  0.1657, -0.0765,  0.6844],\n",
            "        [-0.7475,  0.7408,  0.1903, -0.5428,  0.5015],\n",
            "        [-1.2924,  0.5724, -0.2626, -0.0653,  0.3060],\n",
            "        [-0.8949,  0.1977,  0.3012,  0.2309, -0.1231],\n",
            "        [-0.0384,  0.8418,  0.3796, -0.6060, -0.3019],\n",
            "        [-0.6968,  1.3023, -0.3603,  2.6543, -1.3842]],\n",
            "       grad_fn=<StackBackward0>)\n"
          ]
        }
      ]
    },
    {
      "cell_type": "code",
      "source": [
        "print(hidden_outputs.shape)\n",
        "print(hidden_outputs)"
      ],
      "metadata": {
        "colab": {
          "base_uri": "https://localhost:8080/"
        },
        "id": "Mq4bami2L6Pz",
        "outputId": "529fb2f6-afab-4ea1-b66b-6c08f0f2cd77"
      },
      "execution_count": 23,
      "outputs": [
        {
          "output_type": "stream",
          "name": "stdout",
          "text": [
            "torch.Size([11, 5])\n",
            "tensor([[-1.1269,  0.4183, -0.6184, -1.0920,  0.9133],\n",
            "        [-0.7929, -0.2272,  1.7211, -1.2038,  1.0005],\n",
            "        [-1.6353,  0.6457, -0.0871, -1.2932,  0.4871],\n",
            "        [-0.9992,  0.0753,  1.2905,  0.2817, -0.1071],\n",
            "        [-1.4618,  0.9090, -1.1327, -1.1002,  0.3041],\n",
            "        [-0.4400,  0.4650,  0.1657, -0.0765,  0.6844],\n",
            "        [-0.7475,  0.7408,  0.1903, -0.5428,  0.5015],\n",
            "        [-0.9125,  0.5028,  0.5683, -0.3739,  0.1380],\n",
            "        [-1.0971,  0.5330,  0.4041,  0.3141, -0.3931],\n",
            "        [ 0.0169,  1.0509,  0.5633, -0.5044, -0.4689],\n",
            "        [-0.6922,  1.5083, -0.3049,  2.7645, -1.5321]],\n",
            "       grad_fn=<StackBackward0>)\n"
          ]
        }
      ]
    },
    {
      "cell_type": "markdown",
      "metadata": {
        "id": "leov1l4q2lnB"
      },
      "source": [
        "## 2.2 Make Name Classification Model\n",
        "- Input: Sequence of characters, in categorical indices\n",
        "  - Length of the input sequence is arbitrary \n",
        "- Output: Probability of the corresponding nationality for a given name in a sequence of characters\n",
        "  - Regardless of input length, the output is a single vector\n",
        "  - Softmax output of each class"
      ]
    },
    {
      "cell_type": "code",
      "execution_count": 38,
      "metadata": {
        "id": "3Sw0eF9hhh_X",
        "colab": {
          "base_uri": "https://localhost:8080/"
        },
        "outputId": "8cbacb15-250d-4de4-c8b7-3b4aa2543a91"
      },
      "outputs": [
        {
          "output_type": "execute_result",
          "data": {
            "text/plain": [
              "NameClassifier(\n",
              "  (embedding): Embedding(57, 32)\n",
              "  (rnn): RNN(32, 32, batch_first=True)\n",
              "  (projection_layer): Linear(in_features=32, out_features=18, bias=True)\n",
              ")"
            ]
          },
          "metadata": {},
          "execution_count": 38
        }
      ],
      "source": [
        "class NameClassifier(nn.Module):\n",
        "  def __init__(self, hidden_size, num_vocab, num_outputs):\n",
        "    super().__init__()\n",
        "    self.embedding = nn.Embedding(num_vocab, hidden_size)\n",
        "    self.rnn = nn.RNN(input_size=hidden_size, hidden_size=hidden_size, batch_first=True)\n",
        "    self.projection_layer = nn.Linear(hidden_size, num_outputs)\n",
        "  \n",
        "  def forward(self, x):\n",
        "    emb = self.embedding(x)\n",
        "    rnn_output, rnn_final_hidden = self.rnn(emb)\n",
        "    rnn_final_hidden_flatten = rnn_final_hidden.permute(1,0,2).reshape(x.shape[0], -1)\n",
        "    logit = self.projection_layer(rnn_final_hidden_flatten)\n",
        "\n",
        "    return logit\n",
        "\n",
        "hidden_size = 32\n",
        "num_vocab = len(dataset.unique_characters)\n",
        "num_outputs = len(dataset.origin_vocab)\n",
        "model = NameClassifier(hidden_size, num_vocab, num_outputs)\n",
        "\n",
        "model"
      ]
    },
    {
      "cell_type": "code",
      "source": [
        "num_outputs"
      ],
      "metadata": {
        "id": "Klqn8y6kYwGu",
        "outputId": "a205dbdb-f35d-4a40-a471-6c92ad4de929",
        "colab": {
          "base_uri": "https://localhost:8080/"
        }
      },
      "execution_count": 28,
      "outputs": [
        {
          "output_type": "execute_result",
          "data": {
            "text/plain": [
              "18"
            ]
          },
          "metadata": {},
          "execution_count": 28
        }
      ]
    },
    {
      "cell_type": "code",
      "source": [
        "batch = next(iter(dataloader))\n",
        "name, origin = batch\n",
        "\n",
        "model(name).softmax(dim=-1)"
      ],
      "metadata": {
        "id": "75QLj6_kYn4l",
        "outputId": "3e7c7e05-ad75-4ed8-d78e-7ae792d1c7ec",
        "colab": {
          "base_uri": "https://localhost:8080/"
        }
      },
      "execution_count": 40,
      "outputs": [
        {
          "output_type": "execute_result",
          "data": {
            "text/plain": [
              "tensor([[0.0661, 0.0339, 0.0343, 0.0458, 0.0438, 0.0584, 0.0613, 0.0469, 0.0746,\n",
              "         0.0430, 0.0519, 0.0729, 0.0427, 0.0797, 0.0413, 0.0749, 0.0804, 0.0481]],\n",
              "       grad_fn=<SoftmaxBackward0>)"
            ]
          },
          "metadata": {},
          "execution_count": 40
        }
      ]
    },
    {
      "cell_type": "markdown",
      "metadata": {
        "id": "jhtnSdv55ML_"
      },
      "source": [
        "## 2.3 Complete Trainer"
      ]
    },
    {
      "cell_type": "code",
      "execution_count": 42,
      "metadata": {
        "id": "Q_eHqOmH5ML_"
      },
      "outputs": [],
      "source": [
        "class Trainer:\n",
        "  def __init__(self, model, train_loader, valid_loader, model_name='resnet'):\n",
        "    self.model = model\n",
        "    self.train_loader = train_loader\n",
        "    self.valid_loader = valid_loader\n",
        "    self.device = torch.device(\"cuda:0\" if torch.cuda.is_available() else \"cpu\")\n",
        "    self.model.to(self.device)\n",
        "    self.criterion = nn.NLLLoss()\n",
        "    self.optimizer = torch.optim.Adam(self.model.parameters(), lr=1e-3)\n",
        "    self.best_loss = torch.inf\n",
        "    self.best_acc = 0.0\n",
        "    self.train_losses = []\n",
        "    self.valid_losses = []\n",
        "    self.train_accs = []\n",
        "    self.valid_accs = []\n",
        "    self.model_name = model_name\n",
        "\n",
        "  def validation(self):\n",
        "    self.model.eval() # change the model from train mode to evaluation mode\n",
        "    # Some models work in different ways based on whtehter it is on training step\n",
        "    # or on inference step\n",
        "\n",
        "    # In validation step, you don't have to calculate the gradient\n",
        "    # with torch.no_grad():\n",
        "\n",
        "    current_loss = 0\n",
        "    num_total_correct_pred = 0\n",
        "    with torch.inference_mode(): # every torch computation under this indent\n",
        "    # will be run without calculating the gradient or computation history\n",
        "      for batch in self.valid_loader:\n",
        "        images, labels = batch\n",
        "        images, labels = images.to(self.device), labels.to(self.device)\n",
        "        outputs = self.model(images)\n",
        "        probs = torch.softmax(outputs, dim=-1)\n",
        "        log_probs = torch.log(probs)\n",
        "\n",
        "        loss = self.criterion(log_probs, labels)\n",
        "        predicted_classes = torch.argmax(outputs, dim=-1)\n",
        "        num_acc_pred = (predicted_classes == labels.to(self.device)).sum()\n",
        "        #num_acc_pred is on self.device\n",
        "        num_total_correct_pred += num_acc_pred.item()\n",
        "        # in validation stage, we don't care about single batch's loss\n",
        "        # we want to see the result for total images of validation set\n",
        "\n",
        "        current_loss += loss.item() * len(labels)\n",
        "        # instead of adding the mean loss, we add sum of loss\n",
        "        # because the batch size can be different\n",
        "    mean_loss = current_loss / len(self.valid_loader.dataset)\n",
        "    mean_acc = num_total_correct_pred / len(self.valid_loader.dataset) # number of total datasample in the validation loader\n",
        "    return mean_loss, mean_acc\n",
        "    # return {'loss': mean_loss, 'acc': mean_acc}\n",
        "\n",
        "\n",
        "\n",
        "  def train_by_number_of_epochs(self, num_epochs):\n",
        "    for epoch in tqdm(range(num_epochs)):\n",
        "      self.model.train()\n",
        "      for batch in tqdm(self.train_loader, leave=False):\n",
        "        images, labels = batch\n",
        "        images, labels = images.to(self.device), labels.to(self.device)\n",
        "        self.optimizer.zero_grad()\n",
        "        outputs = self.model(images) # this is logits\n",
        "        probs = torch.softmax(outputs, dim=-1)\n",
        "        log_probs = torch.log(probs)\n",
        "        # print(f\"Debug log probs: {log_probs.shape} / {labels.shape}\")\n",
        "        loss = self.criterion(log_probs, labels) # you have to feed log_probs\n",
        "\n",
        "        acc = (torch.argmax(outputs, dim=-1) == labels.to(self.device)).sum() / len(labels)\n",
        "        # for torch.nn.NLLLoss\n",
        "        loss.backward()\n",
        "        self.optimizer.step()\n",
        "\n",
        "        self.train_losses.append(loss.item())\n",
        "        self.train_accs.append(acc.item())\n",
        "        # don't try self.train_losses.append(loss)\n",
        "      # training step has ended\n",
        "      # we want to test our model on the validation set\n",
        "      valid_loss, valid_acc = self.validation()\n",
        "\n",
        "      # is this model the best? \n",
        "      # let's decide it based on valid_acc\n",
        "      if valid_acc > self.best_acc:\n",
        "        self.best_acc = valid_acc\n",
        "\n",
        "        # If it is the best model, save the model's weight'\n",
        "        models_parameters = self.model.state_dict()\n",
        "        print(f\"Saving best model at epoch {len(self.valid_accs)}, acc: {valid_acc}\")\n",
        "        torch.save(models_parameters, f'{self.model_name}_best.pt')\n",
        "\n",
        "      self.valid_losses.append(valid_loss)\n",
        "      self.valid_accs.append(valid_acc)\n",
        "\n",
        "    # Plot Accuracy curve\n",
        "    plt.plot(self.train_accs)\n",
        "    plt.plot(range(len(self.train_loader)-1, len(self.train_accs), len(self.train_loader)) ,self.valid_accs)\n",
        "    plt.title(\"Accuracy\")\n",
        "\n",
        "\n",
        "num_train = int(len(dataset)*0.7)\n",
        "num_valid = int(len(dataset)*0.15)\n",
        "num_test = len(dataset) - num_train - num_valid\n",
        "train_set, valid_set, test_set = torch.utils.data.random_split(dataset, \n",
        "                                              [num_train, num_valid, num_test],\n",
        "                                               generator=torch.Generator().manual_seed(0))\n",
        "train_loader = torch.utils.data.DataLoader(train_set, batch_size=1, shuffle=True)\n",
        "valid_loader = torch.utils.data.DataLoader(valid_set, batch_size=1, shuffle=False)\n",
        "test_loader = torch.utils.data.DataLoader(test_set, batch_size=1, shuffle=False)\n",
        "\n",
        "trainer = Trainer(model, train_loader, valid_loader)"
      ]
    },
    {
      "cell_type": "code",
      "source": [
        "trainer.train_by_number_of_epochs(3)"
      ],
      "metadata": {
        "id": "jQiQxZd0ZyHg",
        "outputId": "9114ec19-e987-43c9-87a8-3bdf37fd658e",
        "colab": {
          "base_uri": "https://localhost:8080/",
          "height": 367,
          "referenced_widgets": [
            "badb24224bb24da3b2b7df1caf1afd7b",
            "21ab88f171fe4390ab6ca78faf4c5ade",
            "e62e6a6d93c74e8ca22098a643c7e331",
            "3cc400f7d6c7492db70282136c600e93",
            "f75aea689c48419abb30e14339e1515f",
            "4b2432f98bbc4ed29068e2713c7dcabe",
            "2aa5154014f34a06a410ad7eb7a3c7a6",
            "644eac6842544702bc48e692876dce81",
            "3abbccb8667a409aa1240add2b68b8e4",
            "e5ab6ea0d96d48be93a3b6309214b726",
            "0b5801ffb6794d6dbe09137e9cc89e60",
            "9cee7b4a17394545aa05ad9bdde868ff",
            "92ad4c1e02a8420ab00fc82c32056d2b",
            "f0077c48796048d7b81f29864cd414d0",
            "4a5ba0165c7843c9900811f144d32307",
            "4ab1e127aab04c6684f64ea21e1b29ce",
            "1724dde46562465eb22b988d4a1114ad",
            "e94f8bde1c8c44e5b16c3ff19e45ff32",
            "80f8a9cf3f2d4ce3896bc7a41dbac53c",
            "d664fedf529b46d2a90c33b7a27b0738",
            "1ae385ee63a84dd3aed86d70b0018aa7",
            "b23e093c0c6c46118a251fe48f67eaea",
            "3a8966e61bd0473c8f76829c9eb94486",
            "22c21f0e19e94ed4a091038fbe95e0d4",
            "fc9b08fb558b4dda8ab21ad6c3b287fa",
            "ef238368a2e4473c8c13b81b48066311",
            "497678dab7e34801a197daed8d7246db",
            "4983bbe9c1d1428fbcc6d36beeb9eeed",
            "0d7a5f41fdd34cb2b469e74e445b3dd3",
            "42a6badf8fe24538883a0cd4d6d3b835",
            "ae7fdcd9c6e842c3b6bbb18b51963314",
            "1a81a40393094586af9f88e78c8fe8ec",
            "99d2c504d6b54602b3a22883f67027b6",
            "4a92f6af80154dcd95efde34d967325d",
            "96e5d60bfe0b4678a74880cd57141915",
            "d10b941ccb2d4419b04a935b4cd0b78a",
            "be7594f8d1fc42c5b79696e91d4fe434",
            "b55d9bce10c144889827201c7ef76a12",
            "d9d5a56fde5941e1bdfd883bb4bd8280",
            "a97852699cb3406ea0442990bfe5d16f",
            "3496fa075c41434fa06fdf6faaed11dc",
            "fc695f2d0f3b4cfe8dc8c55033c13049",
            "60ced8ba98904c3fb48b63d6d68c9353",
            "746053b6356242b095b8f5b8e66daf74"
          ]
        }
      },
      "execution_count": 43,
      "outputs": [
        {
          "output_type": "display_data",
          "data": {
            "text/plain": [
              "  0%|          | 0/3 [00:00<?, ?it/s]"
            ],
            "application/vnd.jupyter.widget-view+json": {
              "version_major": 2,
              "version_minor": 0,
              "model_id": "badb24224bb24da3b2b7df1caf1afd7b"
            }
          },
          "metadata": {}
        },
        {
          "output_type": "display_data",
          "data": {
            "text/plain": [
              "  0%|          | 0/14051 [00:00<?, ?it/s]"
            ],
            "application/vnd.jupyter.widget-view+json": {
              "version_major": 2,
              "version_minor": 0,
              "model_id": "9cee7b4a17394545aa05ad9bdde868ff"
            }
          },
          "metadata": {}
        },
        {
          "output_type": "stream",
          "name": "stdout",
          "text": [
            "Saving best model at epoch 0, acc: 0.7143806044503487\n"
          ]
        },
        {
          "output_type": "display_data",
          "data": {
            "text/plain": [
              "  0%|          | 0/14051 [00:00<?, ?it/s]"
            ],
            "application/vnd.jupyter.widget-view+json": {
              "version_major": 2,
              "version_minor": 0,
              "model_id": "3a8966e61bd0473c8f76829c9eb94486"
            }
          },
          "metadata": {}
        },
        {
          "output_type": "stream",
          "name": "stdout",
          "text": [
            "Saving best model at epoch 1, acc: 0.7455994686150781\n"
          ]
        },
        {
          "output_type": "display_data",
          "data": {
            "text/plain": [
              "  0%|          | 0/14051 [00:00<?, ?it/s]"
            ],
            "application/vnd.jupyter.widget-view+json": {
              "version_major": 2,
              "version_minor": 0,
              "model_id": "4a92f6af80154dcd95efde34d967325d"
            }
          },
          "metadata": {}
        },
        {
          "output_type": "stream",
          "name": "stdout",
          "text": [
            "Saving best model at epoch 2, acc: 0.7482563932248423\n"
          ]
        },
        {
          "output_type": "display_data",
          "data": {
            "text/plain": [
              "<Figure size 432x288 with 1 Axes>"
            ],
            "image/png": "[encoded data removed]"
          },
          "metadata": {
            "needs_background": "light"
          }
        }
      ]
    },
    {
      "cell_type": "code",
      "source": [
        "plt.plot(trainer.train_losses)"
      ],
      "metadata": {
        "id": "2slg2qzEbMyS",
        "outputId": "3f92c2ef-643b-430d-dd3e-4dc916337979",
        "colab": {
          "base_uri": "https://localhost:8080/",
          "height": 283
        }
      },
      "execution_count": 44,
      "outputs": [
        {
          "output_type": "execute_result",
          "data": {
            "text/plain": [
              "[<matplotlib.lines.Line2D at 0x7f27db868810>]"
            ]
          },
          "metadata": {},
          "execution_count": 44
        },
        {
          "output_type": "display_data",
          "data": {
            "text/plain": [
              "<Figure size 432x288 with 1 Axes>"
            ],
            "image/png": "[encoded data removed]"
          },
          "metadata": {
            "needs_background": "light"
          }
        }
      ]
    }
  ],
  "metadata": {
    "accelerator": "GPU",
    "colab": {
      "provenance": []
    },
    "kernelspec": {
      "display_name": "Python 3.8.10 64-bit",
      "language": "python",
      "name": "python3"
    },
    "language_info": {
      "codemirror_mode": {
        "name": "ipython",
        "version": 3
      },
      "file_extension": ".py",
      "mimetype": "text/x-python",
      "name": "python",
      "nbconvert_exporter": "python",
      "pygments_lexer": "ipython3",
      "version": "3.8.10"
    },
    "vscode": {
      "interpreter": {
        "hash": "31f2aee4e71d21fbe5cf8b01ff0e069b9275f58929596ceb00d14d90e3e16cd6"
      }
    },
    "widgets": {
      "application/vnd.jupyter.widget-state+json": {
        "badb24224bb24da3b2b7df1caf1afd7b": {
          "model_module": "@jupyter-widgets/controls",
          "model_name": "HBoxModel",
          "model_module_version": "1.5.0",
          "state": {
            "_dom_classes": [],
            "_model_module": "@jupyter-widgets/controls",
            "_model_module_version": "1.5.0",
            "_model_name": "HBoxModel",
            "_view_count": null,
            "_view_module": "@jupyter-widgets/controls",
            "_view_module_version": "1.5.0",
            "_view_name": "HBoxView",
            "box_style": "",
            "children": [
              "IPY_MODEL_21ab88f171fe4390ab6ca78faf4c5ade",
              "IPY_MODEL_e62e6a6d93c74e8ca22098a643c7e331",
              "IPY_MODEL_3cc400f7d6c7492db70282136c600e93"
            ],
            "layout": "IPY_MODEL_f75aea689c48419abb30e14339e1515f"
          }
        },
        "21ab88f171fe4390ab6ca78faf4c5ade": {
          "model_module": "@jupyter-widgets/controls",
          "model_name": "HTMLModel",
          "model_module_version": "1.5.0",
          "state": {
            "_dom_classes": [],
            "_model_module": "@jupyter-widgets/controls",
            "_model_module_version": "1.5.0",
            "_model_name": "HTMLModel",
            "_view_count": null,
            "_view_module": "@jupyter-widgets/controls",
            "_view_module_version": "1.5.0",
            "_view_name": "HTMLView",
            "description": "",
            "description_tooltip": null,
            "layout": "IPY_MODEL_4b2432f98bbc4ed29068e2713c7dcabe",
            "placeholder": "​",
            "style": "IPY_MODEL_2aa5154014f34a06a410ad7eb7a3c7a6",
            "value": "100%"
          }
        },
        "e62e6a6d93c74e8ca22098a643c7e331": {
          "model_module": "@jupyter-widgets/controls",
          "model_name": "FloatProgressModel",
          "model_module_version": "1.5.0",
          "state": {
            "_dom_classes": [],
            "_model_module": "@jupyter-widgets/controls",
            "_model_module_version": "1.5.0",
            "_model_name": "FloatProgressModel",
            "_view_count": null,
            "_view_module": "@jupyter-widgets/controls",
            "_view_module_version": "1.5.0",
            "_view_name": "ProgressView",
            "bar_style": "success",
            "description": "",
            "description_tooltip": null,
            "layout": "IPY_MODEL_644eac6842544702bc48e692876dce81",
            "max": 3,
            "min": 0,
            "orientation": "horizontal",
            "style": "IPY_MODEL_3abbccb8667a409aa1240add2b68b8e4",
            "value": 3
          }
        },
        "3cc400f7d6c7492db70282136c600e93": {
          "model_module": "@jupyter-widgets/controls",
          "model_name": "HTMLModel",
          "model_module_version": "1.5.0",
          "state": {
            "_dom_classes": [],
            "_model_module": "@jupyter-widgets/controls",
            "_model_module_version": "1.5.0",
            "_model_name": "HTMLModel",
            "_view_count": null,
            "_view_module": "@jupyter-widgets/controls",
            "_view_module_version": "1.5.0",
            "_view_name": "HTMLView",
            "description": "",
            "description_tooltip": null,
            "layout": "IPY_MODEL_e5ab6ea0d96d48be93a3b6309214b726",
            "placeholder": "​",
            "style": "IPY_MODEL_0b5801ffb6794d6dbe09137e9cc89e60",
            "value": " 3/3 [01:38&lt;00:00, 32.77s/it]"
          }
        },
        "f75aea689c48419abb30e14339e1515f": {
          "model_module": "@jupyter-widgets/base",
          "model_name": "LayoutModel",
          "model_module_version": "1.2.0",
          "state": {
            "_model_module": "@jupyter-widgets/base",
            "_model_module_version": "1.2.0",
            "_model_name": "LayoutModel",
            "_view_count": null,
            "_view_module": "@jupyter-widgets/base",
            "_view_module_version": "1.2.0",
            "_view_name": "LayoutView",
            "align_content": null,
            "align_items": null,
            "align_self": null,
            "border": null,
            "bottom": null,
            "display": null,
            "flex": null,
            "flex_flow": null,
            "grid_area": null,
            "grid_auto_columns": null,
            "grid_auto_flow": null,
            "grid_auto_rows": null,
            "grid_column": null,
            "grid_gap": null,
            "grid_row": null,
            "grid_template_areas": null,
            "grid_template_columns": null,
            "grid_template_rows": null,
            "height": null,
            "justify_content": null,
            "justify_items": null,
            "left": null,
            "margin": null,
            "max_height": null,
            "max_width": null,
            "min_height": null,
            "min_width": null,
            "object_fit": null,
            "object_position": null,
            "order": null,
            "overflow": null,
            "overflow_x": null,
            "overflow_y": null,
            "padding": null,
            "right": null,
            "top": null,
            "visibility": null,
            "width": null
          }
        },
        "4b2432f98bbc4ed29068e2713c7dcabe": {
          "model_module": "@jupyter-widgets/base",
          "model_name": "LayoutModel",
          "model_module_version": "1.2.0",
          "state": {
            "_model_module": "@jupyter-widgets/base",
            "_model_module_version": "1.2.0",
            "_model_name": "LayoutModel",
            "_view_count": null,
            "_view_module": "@jupyter-widgets/base",
            "_view_module_version": "1.2.0",
            "_view_name": "LayoutView",
            "align_content": null,
            "align_items": null,
            "align_self": null,
            "border": null,
            "bottom": null,
            "display": null,
            "flex": null,
            "flex_flow": null,
            "grid_area": null,
            "grid_auto_columns": null,
            "grid_auto_flow": null,
            "grid_auto_rows": null,
            "grid_column": null,
            "grid_gap": null,
            "grid_row": null,
            "grid_template_areas": null,
            "grid_template_columns": null,
            "grid_template_rows": null,
            "height": null,
            "justify_content": null,
            "justify_items": null,
            "left": null,
            "margin": null,
            "max_height": null,
            "max_width": null,
            "min_height": null,
            "min_width": null,
            "object_fit": null,
            "object_position": null,
            "order": null,
            "overflow": null,
            "overflow_x": null,
            "overflow_y": null,
            "padding": null,
            "right": null,
            "top": null,
            "visibility": null,
            "width": null
          }
        },
        "2aa5154014f34a06a410ad7eb7a3c7a6": {
          "model_module": "@jupyter-widgets/controls",
          "model_name": "DescriptionStyleModel",
          "model_module_version": "1.5.0",
          "state": {
            "_model_module": "@jupyter-widgets/controls",
            "_model_module_version": "1.5.0",
            "_model_name": "DescriptionStyleModel",
            "_view_count": null,
            "_view_module": "@jupyter-widgets/base",
            "_view_module_version": "1.2.0",
            "_view_name": "StyleView",
            "description_width": ""
          }
        },
        "644eac6842544702bc48e692876dce81": {
          "model_module": "@jupyter-widgets/base",
          "model_name": "LayoutModel",
          "model_module_version": "1.2.0",
          "state": {
            "_model_module": "@jupyter-widgets/base",
            "_model_module_version": "1.2.0",
            "_model_name": "LayoutModel",
            "_view_count": null,
            "_view_module": "@jupyter-widgets/base",
            "_view_module_version": "1.2.0",
            "_view_name": "LayoutView",
            "align_content": null,
            "align_items": null,
            "align_self": null,
            "border": null,
            "bottom": null,
            "display": null,
            "flex": null,
            "flex_flow": null,
            "grid_area": null,
            "grid_auto_columns": null,
            "grid_auto_flow": null,
            "grid_auto_rows": null,
            "grid_column": null,
            "grid_gap": null,
            "grid_row": null,
            "grid_template_areas": null,
            "grid_template_columns": null,
            "grid_template_rows": null,
            "height": null,
            "justify_content": null,
            "justify_items": null,
            "left": null,
            "margin": null,
            "max_height": null,
            "max_width": null,
            "min_height": null,
            "min_width": null,
            "object_fit": null,
            "object_position": null,
            "order": null,
            "overflow": null,
            "overflow_x": null,
            "overflow_y": null,
            "padding": null,
            "right": null,
            "top": null,
            "visibility": null,
            "width": null
          }
        },
        "3abbccb8667a409aa1240add2b68b8e4": {
          "model_module": "@jupyter-widgets/controls",
          "model_name": "ProgressStyleModel",
          "model_module_version": "1.5.0",
          "state": {
            "_model_module": "@jupyter-widgets/controls",
            "_model_module_version": "1.5.0",
            "_model_name": "ProgressStyleModel",
            "_view_count": null,
            "_view_module": "@jupyter-widgets/base",
            "_view_module_version": "1.2.0",
            "_view_name": "StyleView",
            "bar_color": null,
            "description_width": ""
          }
        },
        "e5ab6ea0d96d48be93a3b6309214b726": {
          "model_module": "@jupyter-widgets/base",
          "model_name": "LayoutModel",
          "model_module_version": "1.2.0",
          "state": {
            "_model_module": "@jupyter-widgets/base",
            "_model_module_version": "1.2.0",
            "_model_name": "LayoutModel",
            "_view_count": null,
            "_view_module": "@jupyter-widgets/base",
            "_view_module_version": "1.2.0",
            "_view_name": "LayoutView",
            "align_content": null,
            "align_items": null,
            "align_self": null,
            "border": null,
            "bottom": null,
            "display": null,
            "flex": null,
            "flex_flow": null,
            "grid_area": null,
            "grid_auto_columns": null,
            "grid_auto_flow": null,
            "grid_auto_rows": null,
            "grid_column": null,
            "grid_gap": null,
            "grid_row": null,
            "grid_template_areas": null,
            "grid_template_columns": null,
            "grid_template_rows": null,
            "height": null,
            "justify_content": null,
            "justify_items": null,
            "left": null,
            "margin": null,
            "max_height": null,
            "max_width": null,
            "min_height": null,
            "min_width": null,
            "object_fit": null,
            "object_position": null,
            "order": null,
            "overflow": null,
            "overflow_x": null,
            "overflow_y": null,
            "padding": null,
            "right": null,
            "top": null,
            "visibility": null,
            "width": null
          }
        },
        "0b5801ffb6794d6dbe09137e9cc89e60": {
          "model_module": "@jupyter-widgets/controls",
          "model_name": "DescriptionStyleModel",
          "model_module_version": "1.5.0",
          "state": {
            "_model_module": "@jupyter-widgets/controls",
            "_model_module_version": "1.5.0",
            "_model_name": "DescriptionStyleModel",
            "_view_count": null,
            "_view_module": "@jupyter-widgets/base",
            "_view_module_version": "1.2.0",
            "_view_name": "StyleView",
            "description_width": ""
          }
        },
        "9cee7b4a17394545aa05ad9bdde868ff": {
          "model_module": "@jupyter-widgets/controls",
          "model_name": "HBoxModel",
          "model_module_version": "1.5.0",
          "state": {
            "_dom_classes": [],
            "_model_module": "@jupyter-widgets/controls",
            "_model_module_version": "1.5.0",
            "_model_name": "HBoxModel",
            "_view_count": null,
            "_view_module": "@jupyter-widgets/controls",
            "_view_module_version": "1.5.0",
            "_view_name": "HBoxView",
            "box_style": "",
            "children": [
              "IPY_MODEL_92ad4c1e02a8420ab00fc82c32056d2b",
              "IPY_MODEL_f0077c48796048d7b81f29864cd414d0",
              "IPY_MODEL_4a5ba0165c7843c9900811f144d32307"
            ],
            "layout": "IPY_MODEL_4ab1e127aab04c6684f64ea21e1b29ce"
          }
        },
        "92ad4c1e02a8420ab00fc82c32056d2b": {
          "model_module": "@jupyter-widgets/controls",
          "model_name": "HTMLModel",
          "model_module_version": "1.5.0",
          "state": {
            "_dom_classes": [],
            "_model_module": "@jupyter-widgets/controls",
            "_model_module_version": "1.5.0",
            "_model_name": "HTMLModel",
            "_view_count": null,
            "_view_module": "@jupyter-widgets/controls",
            "_view_module_version": "1.5.0",
            "_view_name": "HTMLView",
            "description": "",
            "description_tooltip": null,
            "layout": "IPY_MODEL_1724dde46562465eb22b988d4a1114ad",
            "placeholder": "​",
            "style": "IPY_MODEL_e94f8bde1c8c44e5b16c3ff19e45ff32",
            "value": "100%"
          }
        },
        "f0077c48796048d7b81f29864cd414d0": {
          "model_module": "@jupyter-widgets/controls",
          "model_name": "FloatProgressModel",
          "model_module_version": "1.5.0",
          "state": {
            "_dom_classes": [],
            "_model_module": "@jupyter-widgets/controls",
            "_model_module_version": "1.5.0",
            "_model_name": "FloatProgressModel",
            "_view_count": null,
            "_view_module": "@jupyter-widgets/controls",
            "_view_module_version": "1.5.0",
            "_view_name": "ProgressView",
            "bar_style": "",
            "description": "",
            "description_tooltip": null,
            "layout": "IPY_MODEL_80f8a9cf3f2d4ce3896bc7a41dbac53c",
            "max": 14051,
            "min": 0,
            "orientation": "horizontal",
            "style": "IPY_MODEL_d664fedf529b46d2a90c33b7a27b0738",
            "value": 14051
          }
        },
        "4a5ba0165c7843c9900811f144d32307": {
          "model_module": "@jupyter-widgets/controls",
          "model_name": "HTMLModel",
          "model_module_version": "1.5.0",
          "state": {
            "_dom_classes": [],
            "_model_module": "@jupyter-widgets/controls",
            "_model_module_version": "1.5.0",
            "_model_name": "HTMLModel",
            "_view_count": null,
            "_view_module": "@jupyter-widgets/controls",
            "_view_module_version": "1.5.0",
            "_view_name": "HTMLView",
            "description": "",
            "description_tooltip": null,
            "layout": "IPY_MODEL_1ae385ee63a84dd3aed86d70b0018aa7",
            "placeholder": "​",
            "style": "IPY_MODEL_b23e093c0c6c46118a251fe48f67eaea",
            "value": " 14051/14051 [00:31&lt;00:00, 454.79it/s]"
          }
        },
        "4ab1e127aab04c6684f64ea21e1b29ce": {
          "model_module": "@jupyter-widgets/base",
          "model_name": "LayoutModel",
          "model_module_version": "1.2.0",
          "state": {
            "_model_module": "@jupyter-widgets/base",
            "_model_module_version": "1.2.0",
            "_model_name": "LayoutModel",
            "_view_count": null,
            "_view_module": "@jupyter-widgets/base",
            "_view_module_version": "1.2.0",
            "_view_name": "LayoutView",
            "align_content": null,
            "align_items": null,
            "align_self": null,
            "border": null,
            "bottom": null,
            "display": null,
            "flex": null,
            "flex_flow": null,
            "grid_area": null,
            "grid_auto_columns": null,
            "grid_auto_flow": null,
            "grid_auto_rows": null,
            "grid_column": null,
            "grid_gap": null,
            "grid_row": null,
            "grid_template_areas": null,
            "grid_template_columns": null,
            "grid_template_rows": null,
            "height": null,
            "justify_content": null,
            "justify_items": null,
            "left": null,
            "margin": null,
            "max_height": null,
            "max_width": null,
            "min_height": null,
            "min_width": null,
            "object_fit": null,
            "object_position": null,
            "order": null,
            "overflow": null,
            "overflow_x": null,
            "overflow_y": null,
            "padding": null,
            "right": null,
            "top": null,
            "visibility": "hidden",
            "width": null
          }
        },
        "1724dde46562465eb22b988d4a1114ad": {
          "model_module": "@jupyter-widgets/base",
          "model_name": "LayoutModel",
          "model_module_version": "1.2.0",
          "state": {
            "_model_module": "@jupyter-widgets/base",
            "_model_module_version": "1.2.0",
            "_model_name": "LayoutModel",
            "_view_count": null,
            "_view_module": "@jupyter-widgets/base",
            "_view_module_version": "1.2.0",
            "_view_name": "LayoutView",
            "align_content": null,
            "align_items": null,
            "align_self": null,
            "border": null,
            "bottom": null,
            "display": null,
            "flex": null,
            "flex_flow": null,
            "grid_area": null,
            "grid_auto_columns": null,
            "grid_auto_flow": null,
            "grid_auto_rows": null,
            "grid_column": null,
            "grid_gap": null,
            "grid_row": null,
            "grid_template_areas": null,
            "grid_template_columns": null,
            "grid_template_rows": null,
            "height": null,
            "justify_content": null,
            "justify_items": null,
            "left": null,
            "margin": null,
            "max_height": null,
            "max_width": null,
            "min_height": null,
            "min_width": null,
            "object_fit": null,
            "object_position": null,
            "order": null,
            "overflow": null,
            "overflow_x": null,
            "overflow_y": null,
            "padding": null,
            "right": null,
            "top": null,
            "visibility": null,
            "width": null
          }
        },
        "e94f8bde1c8c44e5b16c3ff19e45ff32": {
          "model_module": "@jupyter-widgets/controls",
          "model_name": "DescriptionStyleModel",
          "model_module_version": "1.5.0",
          "state": {
            "_model_module": "@jupyter-widgets/controls",
            "_model_module_version": "1.5.0",
            "_model_name": "DescriptionStyleModel",
            "_view_count": null,
            "_view_module": "@jupyter-widgets/base",
            "_view_module_version": "1.2.0",
            "_view_name": "StyleView",
            "description_width": ""
          }
        },
        "80f8a9cf3f2d4ce3896bc7a41dbac53c": {
          "model_module": "@jupyter-widgets/base",
          "model_name": "LayoutModel",
          "model_module_version": "1.2.0",
          "state": {
            "_model_module": "@jupyter-widgets/base",
            "_model_module_version": "1.2.0",
            "_model_name": "LayoutModel",
            "_view_count": null,
            "_view_module": "@jupyter-widgets/base",
            "_view_module_version": "1.2.0",
            "_view_name": "LayoutView",
            "align_content": null,
            "align_items": null,
            "align_self": null,
            "border": null,
            "bottom": null,
            "display": null,
            "flex": null,
            "flex_flow": null,
            "grid_area": null,
            "grid_auto_columns": null,
            "grid_auto_flow": null,
            "grid_auto_rows": null,
            "grid_column": null,
            "grid_gap": null,
            "grid_row": null,
            "grid_template_areas": null,
            "grid_template_columns": null,
            "grid_template_rows": null,
            "height": null,
            "justify_content": null,
            "justify_items": null,
            "left": null,
            "margin": null,
            "max_height": null,
            "max_width": null,
            "min_height": null,
            "min_width": null,
            "object_fit": null,
            "object_position": null,
            "order": null,
            "overflow": null,
            "overflow_x": null,
            "overflow_y": null,
            "padding": null,
            "right": null,
            "top": null,
            "visibility": null,
            "width": null
          }
        },
        "d664fedf529b46d2a90c33b7a27b0738": {
          "model_module": "@jupyter-widgets/controls",
          "model_name": "ProgressStyleModel",
          "model_module_version": "1.5.0",
          "state": {
            "_model_module": "@jupyter-widgets/controls",
            "_model_module_version": "1.5.0",
            "_model_name": "ProgressStyleModel",
            "_view_count": null,
            "_view_module": "@jupyter-widgets/base",
            "_view_module_version": "1.2.0",
            "_view_name": "StyleView",
            "bar_color": null,
            "description_width": ""
          }
        },
        "1ae385ee63a84dd3aed86d70b0018aa7": {
          "model_module": "@jupyter-widgets/base",
          "model_name": "LayoutModel",
          "model_module_version": "1.2.0",
          "state": {
            "_model_module": "@jupyter-widgets/base",
            "_model_module_version": "1.2.0",
            "_model_name": "LayoutModel",
            "_view_count": null,
            "_view_module": "@jupyter-widgets/base",
            "_view_module_version": "1.2.0",
            "_view_name": "LayoutView",
            "align_content": null,
            "align_items": null,
            "align_self": null,
            "border": null,
            "bottom": null,
            "display": null,
            "flex": null,
            "flex_flow": null,
            "grid_area": null,
            "grid_auto_columns": null,
            "grid_auto_flow": null,
            "grid_auto_rows": null,
            "grid_column": null,
            "grid_gap": null,
            "grid_row": null,
            "grid_template_areas": null,
            "grid_template_columns": null,
            "grid_template_rows": null,
            "height": null,
            "justify_content": null,
            "justify_items": null,
            "left": null,
            "margin": null,
            "max_height": null,
            "max_width": null,
            "min_height": null,
            "min_width": null,
            "object_fit": null,
            "object_position": null,
            "order": null,
            "overflow": null,
            "overflow_x": null,
            "overflow_y": null,
            "padding": null,
            "right": null,
            "top": null,
            "visibility": null,
            "width": null
          }
        },
        "b23e093c0c6c46118a251fe48f67eaea": {
          "model_module": "@jupyter-widgets/controls",
          "model_name": "DescriptionStyleModel",
          "model_module_version": "1.5.0",
          "state": {
            "_model_module": "@jupyter-widgets/controls",
            "_model_module_version": "1.5.0",
            "_model_name": "DescriptionStyleModel",
            "_view_count": null,
            "_view_module": "@jupyter-widgets/base",
            "_view_module_version": "1.2.0",
            "_view_name": "StyleView",
            "description_width": ""
          }
        },
        "3a8966e61bd0473c8f76829c9eb94486": {
          "model_module": "@jupyter-widgets/controls",
          "model_name": "HBoxModel",
          "model_module_version": "1.5.0",
          "state": {
            "_dom_classes": [],
            "_model_module": "@jupyter-widgets/controls",
            "_model_module_version": "1.5.0",
            "_model_name": "HBoxModel",
            "_view_count": null,
            "_view_module": "@jupyter-widgets/controls",
            "_view_module_version": "1.5.0",
            "_view_name": "HBoxView",
            "box_style": "",
            "children": [
              "IPY_MODEL_22c21f0e19e94ed4a091038fbe95e0d4",
              "IPY_MODEL_fc9b08fb558b4dda8ab21ad6c3b287fa",
              "IPY_MODEL_ef238368a2e4473c8c13b81b48066311"
            ],
            "layout": "IPY_MODEL_497678dab7e34801a197daed8d7246db"
          }
        },
        "22c21f0e19e94ed4a091038fbe95e0d4": {
          "model_module": "@jupyter-widgets/controls",
          "model_name": "HTMLModel",
          "model_module_version": "1.5.0",
          "state": {
            "_dom_classes": [],
            "_model_module": "@jupyter-widgets/controls",
            "_model_module_version": "1.5.0",
            "_model_name": "HTMLModel",
            "_view_count": null,
            "_view_module": "@jupyter-widgets/controls",
            "_view_module_version": "1.5.0",
            "_view_name": "HTMLView",
            "description": "",
            "description_tooltip": null,
            "layout": "IPY_MODEL_4983bbe9c1d1428fbcc6d36beeb9eeed",
            "placeholder": "​",
            "style": "IPY_MODEL_0d7a5f41fdd34cb2b469e74e445b3dd3",
            "value": "100%"
          }
        },
        "fc9b08fb558b4dda8ab21ad6c3b287fa": {
          "model_module": "@jupyter-widgets/controls",
          "model_name": "FloatProgressModel",
          "model_module_version": "1.5.0",
          "state": {
            "_dom_classes": [],
            "_model_module": "@jupyter-widgets/controls",
            "_model_module_version": "1.5.0",
            "_model_name": "FloatProgressModel",
            "_view_count": null,
            "_view_module": "@jupyter-widgets/controls",
            "_view_module_version": "1.5.0",
            "_view_name": "ProgressView",
            "bar_style": "",
            "description": "",
            "description_tooltip": null,
            "layout": "IPY_MODEL_42a6badf8fe24538883a0cd4d6d3b835",
            "max": 14051,
            "min": 0,
            "orientation": "horizontal",
            "style": "IPY_MODEL_ae7fdcd9c6e842c3b6bbb18b51963314",
            "value": 14051
          }
        },
        "ef238368a2e4473c8c13b81b48066311": {
          "model_module": "@jupyter-widgets/controls",
          "model_name": "HTMLModel",
          "model_module_version": "1.5.0",
          "state": {
            "_dom_classes": [],
            "_model_module": "@jupyter-widgets/controls",
            "_model_module_version": "1.5.0",
            "_model_name": "HTMLModel",
            "_view_count": null,
            "_view_module": "@jupyter-widgets/controls",
            "_view_module_version": "1.5.0",
            "_view_name": "HTMLView",
            "description": "",
            "description_tooltip": null,
            "layout": "IPY_MODEL_1a81a40393094586af9f88e78c8fe8ec",
            "placeholder": "​",
            "style": "IPY_MODEL_99d2c504d6b54602b3a22883f67027b6",
            "value": " 14043/14051 [00:30&lt;00:00, 434.78it/s]"
          }
        },
        "497678dab7e34801a197daed8d7246db": {
          "model_module": "@jupyter-widgets/base",
          "model_name": "LayoutModel",
          "model_module_version": "1.2.0",
          "state": {
            "_model_module": "@jupyter-widgets/base",
            "_model_module_version": "1.2.0",
            "_model_name": "LayoutModel",
            "_view_count": null,
            "_view_module": "@jupyter-widgets/base",
            "_view_module_version": "1.2.0",
            "_view_name": "LayoutView",
            "align_content": null,
            "align_items": null,
            "align_self": null,
            "border": null,
            "bottom": null,
            "display": null,
            "flex": null,
            "flex_flow": null,
            "grid_area": null,
            "grid_auto_columns": null,
            "grid_auto_flow": null,
            "grid_auto_rows": null,
            "grid_column": null,
            "grid_gap": null,
            "grid_row": null,
            "grid_template_areas": null,
            "grid_template_columns": null,
            "grid_template_rows": null,
            "height": null,
            "justify_content": null,
            "justify_items": null,
            "left": null,
            "margin": null,
            "max_height": null,
            "max_width": null,
            "min_height": null,
            "min_width": null,
            "object_fit": null,
            "object_position": null,
            "order": null,
            "overflow": null,
            "overflow_x": null,
            "overflow_y": null,
            "padding": null,
            "right": null,
            "top": null,
            "visibility": "hidden",
            "width": null
          }
        },
        "4983bbe9c1d1428fbcc6d36beeb9eeed": {
          "model_module": "@jupyter-widgets/base",
          "model_name": "LayoutModel",
          "model_module_version": "1.2.0",
          "state": {
            "_model_module": "@jupyter-widgets/base",
            "_model_module_version": "1.2.0",
            "_model_name": "LayoutModel",
            "_view_count": null,
            "_view_module": "@jupyter-widgets/base",
            "_view_module_version": "1.2.0",
            "_view_name": "LayoutView",
            "align_content": null,
            "align_items": null,
            "align_self": null,
            "border": null,
            "bottom": null,
            "display": null,
            "flex": null,
            "flex_flow": null,
            "grid_area": null,
            "grid_auto_columns": null,
            "grid_auto_flow": null,
            "grid_auto_rows": null,
            "grid_column": null,
            "grid_gap": null,
            "grid_row": null,
            "grid_template_areas": null,
            "grid_template_columns": null,
            "grid_template_rows": null,
            "height": null,
            "justify_content": null,
            "justify_items": null,
            "left": null,
            "margin": null,
            "max_height": null,
            "max_width": null,
            "min_height": null,
            "min_width": null,
            "object_fit": null,
            "object_position": null,
            "order": null,
            "overflow": null,
            "overflow_x": null,
            "overflow_y": null,
            "padding": null,
            "right": null,
            "top": null,
            "visibility": null,
            "width": null
          }
        },
        "0d7a5f41fdd34cb2b469e74e445b3dd3": {
          "model_module": "@jupyter-widgets/controls",
          "model_name": "DescriptionStyleModel",
          "model_module_version": "1.5.0",
          "state": {
            "_model_module": "@jupyter-widgets/controls",
            "_model_module_version": "1.5.0",
            "_model_name": "DescriptionStyleModel",
            "_view_count": null,
            "_view_module": "@jupyter-widgets/base",
            "_view_module_version": "1.2.0",
            "_view_name": "StyleView",
            "description_width": ""
          }
        },
        "42a6badf8fe24538883a0cd4d6d3b835": {
          "model_module": "@jupyter-widgets/base",
          "model_name": "LayoutModel",
          "model_module_version": "1.2.0",
          "state": {
            "_model_module": "@jupyter-widgets/base",
            "_model_module_version": "1.2.0",
            "_model_name": "LayoutModel",
            "_view_count": null,
            "_view_module": "@jupyter-widgets/base",
            "_view_module_version": "1.2.0",
            "_view_name": "LayoutView",
            "align_content": null,
            "align_items": null,
            "align_self": null,
            "border": null,
            "bottom": null,
            "display": null,
            "flex": null,
            "flex_flow": null,
            "grid_area": null,
            "grid_auto_columns": null,
            "grid_auto_flow": null,
            "grid_auto_rows": null,
            "grid_column": null,
            "grid_gap": null,
            "grid_row": null,
            "grid_template_areas": null,
            "grid_template_columns": null,
            "grid_template_rows": null,
            "height": null,
            "justify_content": null,
            "justify_items": null,
            "left": null,
            "margin": null,
            "max_height": null,
            "max_width": null,
            "min_height": null,
            "min_width": null,
            "object_fit": null,
            "object_position": null,
            "order": null,
            "overflow": null,
            "overflow_x": null,
            "overflow_y": null,
            "padding": null,
            "right": null,
            "top": null,
            "visibility": null,
            "width": null
          }
        },
        "ae7fdcd9c6e842c3b6bbb18b51963314": {
          "model_module": "@jupyter-widgets/controls",
          "model_name": "ProgressStyleModel",
          "model_module_version": "1.5.0",
          "state": {
            "_model_module": "@jupyter-widgets/controls",
            "_model_module_version": "1.5.0",
            "_model_name": "ProgressStyleModel",
            "_view_count": null,
            "_view_module": "@jupyter-widgets/base",
            "_view_module_version": "1.2.0",
            "_view_name": "StyleView",
            "bar_color": null,
            "description_width": ""
          }
        },
        "1a81a40393094586af9f88e78c8fe8ec": {
          "model_module": "@jupyter-widgets/base",
          "model_name": "LayoutModel",
          "model_module_version": "1.2.0",
          "state": {
            "_model_module": "@jupyter-widgets/base",
            "_model_module_version": "1.2.0",
            "_model_name": "LayoutModel",
            "_view_count": null,
            "_view_module": "@jupyter-widgets/base",
            "_view_module_version": "1.2.0",
            "_view_name": "LayoutView",
            "align_content": null,
            "align_items": null,
            "align_self": null,
            "border": null,
            "bottom": null,
            "display": null,
            "flex": null,
            "flex_flow": null,
            "grid_area": null,
            "grid_auto_columns": null,
            "grid_auto_flow": null,
            "grid_auto_rows": null,
            "grid_column": null,
            "grid_gap": null,
            "grid_row": null,
            "grid_template_areas": null,
            "grid_template_columns": null,
            "grid_template_rows": null,
            "height": null,
            "justify_content": null,
            "justify_items": null,
            "left": null,
            "margin": null,
            "max_height": null,
            "max_width": null,
            "min_height": null,
            "min_width": null,
            "object_fit": null,
            "object_position": null,
            "order": null,
            "overflow": null,
            "overflow_x": null,
            "overflow_y": null,
            "padding": null,
            "right": null,
            "top": null,
            "visibility": null,
            "width": null
          }
        },
        "99d2c504d6b54602b3a22883f67027b6": {
          "model_module": "@jupyter-widgets/controls",
          "model_name": "DescriptionStyleModel",
          "model_module_version": "1.5.0",
          "state": {
            "_model_module": "@jupyter-widgets/controls",
            "_model_module_version": "1.5.0",
            "_model_name": "DescriptionStyleModel",
            "_view_count": null,
            "_view_module": "@jupyter-widgets/base",
            "_view_module_version": "1.2.0",
            "_view_name": "StyleView",
            "description_width": ""
          }
        },
        "4a92f6af80154dcd95efde34d967325d": {
          "model_module": "@jupyter-widgets/controls",
          "model_name": "HBoxModel",
          "model_module_version": "1.5.0",
          "state": {
            "_dom_classes": [],
            "_model_module": "@jupyter-widgets/controls",
            "_model_module_version": "1.5.0",
            "_model_name": "HBoxModel",
            "_view_count": null,
            "_view_module": "@jupyter-widgets/controls",
            "_view_module_version": "1.5.0",
            "_view_name": "HBoxView",
            "box_style": "",
            "children": [
              "IPY_MODEL_96e5d60bfe0b4678a74880cd57141915",
              "IPY_MODEL_d10b941ccb2d4419b04a935b4cd0b78a",
              "IPY_MODEL_be7594f8d1fc42c5b79696e91d4fe434"
            ],
            "layout": "IPY_MODEL_b55d9bce10c144889827201c7ef76a12"
          }
        },
        "96e5d60bfe0b4678a74880cd57141915": {
          "model_module": "@jupyter-widgets/controls",
          "model_name": "HTMLModel",
          "model_module_version": "1.5.0",
          "state": {
            "_dom_classes": [],
            "_model_module": "@jupyter-widgets/controls",
            "_model_module_version": "1.5.0",
            "_model_name": "HTMLModel",
            "_view_count": null,
            "_view_module": "@jupyter-widgets/controls",
            "_view_module_version": "1.5.0",
            "_view_name": "HTMLView",
            "description": "",
            "description_tooltip": null,
            "layout": "IPY_MODEL_d9d5a56fde5941e1bdfd883bb4bd8280",
            "placeholder": "​",
            "style": "IPY_MODEL_a97852699cb3406ea0442990bfe5d16f",
            "value": "100%"
          }
        },
        "d10b941ccb2d4419b04a935b4cd0b78a": {
          "model_module": "@jupyter-widgets/controls",
          "model_name": "FloatProgressModel",
          "model_module_version": "1.5.0",
          "state": {
            "_dom_classes": [],
            "_model_module": "@jupyter-widgets/controls",
            "_model_module_version": "1.5.0",
            "_model_name": "FloatProgressModel",
            "_view_count": null,
            "_view_module": "@jupyter-widgets/controls",
            "_view_module_version": "1.5.0",
            "_view_name": "ProgressView",
            "bar_style": "",
            "description": "",
            "description_tooltip": null,
            "layout": "IPY_MODEL_3496fa075c41434fa06fdf6faaed11dc",
            "max": 14051,
            "min": 0,
            "orientation": "horizontal",
            "style": "IPY_MODEL_fc695f2d0f3b4cfe8dc8c55033c13049",
            "value": 14051
          }
        },
        "be7594f8d1fc42c5b79696e91d4fe434": {
          "model_module": "@jupyter-widgets/controls",
          "model_name": "HTMLModel",
          "model_module_version": "1.5.0",
          "state": {
            "_dom_classes": [],
            "_model_module": "@jupyter-widgets/controls",
            "_model_module_version": "1.5.0",
            "_model_name": "HTMLModel",
            "_view_count": null,
            "_view_module": "@jupyter-widgets/controls",
            "_view_module_version": "1.5.0",
            "_view_name": "HTMLView",
            "description": "",
            "description_tooltip": null,
            "layout": "IPY_MODEL_60ced8ba98904c3fb48b63d6d68c9353",
            "placeholder": "​",
            "style": "IPY_MODEL_746053b6356242b095b8f5b8e66daf74",
            "value": " 14015/14051 [00:31&lt;00:00, 452.36it/s]"
          }
        },
        "b55d9bce10c144889827201c7ef76a12": {
          "model_module": "@jupyter-widgets/base",
          "model_name": "LayoutModel",
          "model_module_version": "1.2.0",
          "state": {
            "_model_module": "@jupyter-widgets/base",
            "_model_module_version": "1.2.0",
            "_model_name": "LayoutModel",
            "_view_count": null,
            "_view_module": "@jupyter-widgets/base",
            "_view_module_version": "1.2.0",
            "_view_name": "LayoutView",
            "align_content": null,
            "align_items": null,
            "align_self": null,
            "border": null,
            "bottom": null,
            "display": null,
            "flex": null,
            "flex_flow": null,
            "grid_area": null,
            "grid_auto_columns": null,
            "grid_auto_flow": null,
            "grid_auto_rows": null,
            "grid_column": null,
            "grid_gap": null,
            "grid_row": null,
            "grid_template_areas": null,
            "grid_template_columns": null,
            "grid_template_rows": null,
            "height": null,
            "justify_content": null,
            "justify_items": null,
            "left": null,
            "margin": null,
            "max_height": null,
            "max_width": null,
            "min_height": null,
            "min_width": null,
            "object_fit": null,
            "object_position": null,
            "order": null,
            "overflow": null,
            "overflow_x": null,
            "overflow_y": null,
            "padding": null,
            "right": null,
            "top": null,
            "visibility": "hidden",
            "width": null
          }
        },
        "d9d5a56fde5941e1bdfd883bb4bd8280": {
          "model_module": "@jupyter-widgets/base",
          "model_name": "LayoutModel",
          "model_module_version": "1.2.0",
          "state": {
            "_model_module": "@jupyter-widgets/base",
            "_model_module_version": "1.2.0",
            "_model_name": "LayoutModel",
            "_view_count": null,
            "_view_module": "@jupyter-widgets/base",
            "_view_module_version": "1.2.0",
            "_view_name": "LayoutView",
            "align_content": null,
            "align_items": null,
            "align_self": null,
            "border": null,
            "bottom": null,
            "display": null,
            "flex": null,
            "flex_flow": null,
            "grid_area": null,
            "grid_auto_columns": null,
            "grid_auto_flow": null,
            "grid_auto_rows": null,
            "grid_column": null,
            "grid_gap": null,
            "grid_row": null,
            "grid_template_areas": null,
            "grid_template_columns": null,
            "grid_template_rows": null,
            "height": null,
            "justify_content": null,
            "justify_items": null,
            "left": null,
            "margin": null,
            "max_height": null,
            "max_width": null,
            "min_height": null,
            "min_width": null,
            "object_fit": null,
            "object_position": null,
            "order": null,
            "overflow": null,
            "overflow_x": null,
            "overflow_y": null,
            "padding": null,
            "right": null,
            "top": null,
            "visibility": null,
            "width": null
          }
        },
        "a97852699cb3406ea0442990bfe5d16f": {
          "model_module": "@jupyter-widgets/controls",
          "model_name": "DescriptionStyleModel",
          "model_module_version": "1.5.0",
          "state": {
            "_model_module": "@jupyter-widgets/controls",
            "_model_module_version": "1.5.0",
            "_model_name": "DescriptionStyleModel",
            "_view_count": null,
            "_view_module": "@jupyter-widgets/base",
            "_view_module_version": "1.2.0",
            "_view_name": "StyleView",
            "description_width": ""
          }
        },
        "3496fa075c41434fa06fdf6faaed11dc": {
          "model_module": "@jupyter-widgets/base",
          "model_name": "LayoutModel",
          "model_module_version": "1.2.0",
          "state": {
            "_model_module": "@jupyter-widgets/base",
            "_model_module_version": "1.2.0",
            "_model_name": "LayoutModel",
            "_view_count": null,
            "_view_module": "@jupyter-widgets/base",
            "_view_module_version": "1.2.0",
            "_view_name": "LayoutView",
            "align_content": null,
            "align_items": null,
            "align_self": null,
            "border": null,
            "bottom": null,
            "display": null,
            "flex": null,
            "flex_flow": null,
            "grid_area": null,
            "grid_auto_columns": null,
            "grid_auto_flow": null,
            "grid_auto_rows": null,
            "grid_column": null,
            "grid_gap": null,
            "grid_row": null,
            "grid_template_areas": null,
            "grid_template_columns": null,
            "grid_template_rows": null,
            "height": null,
            "justify_content": null,
            "justify_items": null,
            "left": null,
            "margin": null,
            "max_height": null,
            "max_width": null,
            "min_height": null,
            "min_width": null,
            "object_fit": null,
            "object_position": null,
            "order": null,
            "overflow": null,
            "overflow_x": null,
            "overflow_y": null,
            "padding": null,
            "right": null,
            "top": null,
            "visibility": null,
            "width": null
          }
        },
        "fc695f2d0f3b4cfe8dc8c55033c13049": {
          "model_module": "@jupyter-widgets/controls",
          "model_name": "ProgressStyleModel",
          "model_module_version": "1.5.0",
          "state": {
            "_model_module": "@jupyter-widgets/controls",
            "_model_module_version": "1.5.0",
            "_model_name": "ProgressStyleModel",
            "_view_count": null,
            "_view_module": "@jupyter-widgets/base",
            "_view_module_version": "1.2.0",
            "_view_name": "StyleView",
            "bar_color": null,
            "description_width": ""
          }
        },
        "60ced8ba98904c3fb48b63d6d68c9353": {
          "model_module": "@jupyter-widgets/base",
          "model_name": "LayoutModel",
          "model_module_version": "1.2.0",
          "state": {
            "_model_module": "@jupyter-widgets/base",
            "_model_module_version": "1.2.0",
            "_model_name": "LayoutModel",
            "_view_count": null,
            "_view_module": "@jupyter-widgets/base",
            "_view_module_version": "1.2.0",
            "_view_name": "LayoutView",
            "align_content": null,
            "align_items": null,
            "align_self": null,
            "border": null,
            "bottom": null,
            "display": null,
            "flex": null,
            "flex_flow": null,
            "grid_area": null,
            "grid_auto_columns": null,
            "grid_auto_flow": null,
            "grid_auto_rows": null,
            "grid_column": null,
            "grid_gap": null,
            "grid_row": null,
            "grid_template_areas": null,
            "grid_template_columns": null,
            "grid_template_rows": null,
            "height": null,
            "justify_content": null,
            "justify_items": null,
            "left": null,
            "margin": null,
            "max_height": null,
            "max_width": null,
            "min_height": null,
            "min_width": null,
            "object_fit": null,
            "object_position": null,
            "order": null,
            "overflow": null,
            "overflow_x": null,
            "overflow_y": null,
            "padding": null,
            "right": null,
            "top": null,
            "visibility": null,
            "width": null
          }
        },
        "746053b6356242b095b8f5b8e66daf74": {
          "model_module": "@jupyter-widgets/controls",
          "model_name": "DescriptionStyleModel",
          "model_module_version": "1.5.0",
          "state": {
            "_model_module": "@jupyter-widgets/controls",
            "_model_module_version": "1.5.0",
            "_model_name": "DescriptionStyleModel",
            "_view_count": null,
            "_view_module": "@jupyter-widgets/base",
            "_view_module_version": "1.2.0",
            "_view_name": "StyleView",
            "description_width": ""
          }
        }
      }
    }
  },
  "nbformat": 4,
  "nbformat_minor": 0
}