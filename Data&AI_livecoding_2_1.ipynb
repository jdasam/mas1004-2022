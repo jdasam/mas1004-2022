{
  "nbformat": 4,
  "nbformat_minor": 0,
  "metadata": {
    "colab": {
      "provenance": [],
      "authorship_tag": "ABX9TyNNCA28GfFHHcZlqww0Cbc7",
      "include_colab_link": true
    },
    "kernelspec": {
      "name": "python3",
      "display_name": "Python 3"
    },
    "language_info": {
      "name": "python"
    }
  },
  "cells": [
    {
      "cell_type": "markdown",
      "metadata": {
        "id": "view-in-github",
        "colab_type": "text"
      },
      "source": [
        "<a href=\"https://colab.research.google.com/github/jdasam/mas1004-2022/blob/main/Data%26AI_livecoding_2_1.ipynb\" target=\"_parent\"><img src=\"https://colab.research.google.com/assets/colab-badge.svg\" alt=\"Open In Colab\"/></a>"
      ]
    },
    {
      "cell_type": "code",
      "execution_count": 16,
      "metadata": {
        "colab": {
          "base_uri": "https://localhost:8080/"
        },
        "id": "ItAU-tlvxJE3",
        "outputId": "02dbf60a-cb1f-49d7-dbe2-50fccfa16ac8"
      },
      "outputs": [
        {
          "output_type": "stream",
          "name": "stdout",
          "text": [
            "tomato / spaghetti\n"
          ]
        }
      ],
      "source": [
        "# defining class\n",
        "\n",
        "class Pasta:\n",
        "  def __init__(self, noodle, sauce): # __something__ means this function has a special meaning\n",
        "                  # we call this special method\n",
        "                  # Method is a funciton in a class\n",
        "                  # Every method in class has to get \"self\" as its first argument\n",
        "    self.noodle = noodle\n",
        "    self.sauce = sauce\n",
        "\n",
        "  def __repr__(self):\n",
        "    # return self.sauce + ' ' + self.noodle\n",
        "    # let's use formatted string. start string with f in front of \"\"\n",
        "    # In formatted string, you can use variable to be include in the string\n",
        "    # with {}\n",
        "    return f\"{self.sauce} {self.noodle}\"\n",
        "\n",
        "  \n",
        "\n",
        "# Pasta.noodle # this makes error because it is not an instance, but a class\n",
        "my_pasta = Pasta('spaghetti', 'tomato') # this calls Pasta.__init__()\n",
        "print(my_pasta) # this calls Pasta.__repr__()"
      ]
    },
    {
      "cell_type": "code",
      "source": [
        "another_pasta = Pasta(\"lingune\", \"cream\")\n",
        "another_pasta"
      ],
      "metadata": {
        "colab": {
          "base_uri": "https://localhost:8080/"
        },
        "id": "FPicrMXBzhlN",
        "outputId": "f9a7ffee-c605-4c2d-b62a-2703ed5f6b9d"
      },
      "execution_count": 18,
      "outputs": [
        {
          "output_type": "execute_result",
          "data": {
            "text/plain": [
              "cream / lingune"
            ]
          },
          "metadata": {},
          "execution_count": 18
        }
      ]
    },
    {
      "cell_type": "code",
      "source": [
        "my_pasta.noodle, my_pasta.sauce"
      ],
      "metadata": {
        "colab": {
          "base_uri": "https://localhost:8080/"
        },
        "id": "Fas5q2C6yZY5",
        "outputId": "05118e77-3719-4b8e-81bc-ee0b9b176e74"
      },
      "execution_count": 9,
      "outputs": [
        {
          "output_type": "execute_result",
          "data": {
            "text/plain": [
              "('spaghetti', 'tomato')"
            ]
          },
          "metadata": {},
          "execution_count": 9
        }
      ]
    },
    {
      "cell_type": "code",
      "source": [
        "print(my_pasta) # i want to print tomato spaghetti"
      ],
      "metadata": {
        "colab": {
          "base_uri": "https://localhost:8080/"
        },
        "id": "i_RACxUMyjL_",
        "outputId": "4a206e2b-b755-4b9e-d5f2-bffdcdd19b24"
      },
      "execution_count": 10,
      "outputs": [
        {
          "output_type": "stream",
          "name": "stdout",
          "text": [
            "<__main__.Pasta object at 0x7fb1862e9ad0>\n"
          ]
        }
      ]
    },
    {
      "cell_type": "code",
      "source": [
        "# implicit rule: when you name a class, you have to start with capital letter\n",
        "class Ingredient:\n",
        "  def __init__(self, n_type):\n",
        "    self.n_type = n_type\n",
        "    self.boil_time = self.calculate_boiling_time()\n",
        "  \n",
        "  def __repr__(self):\n",
        "    return self.n_type\n",
        "\n",
        "class Noodle(Ingredient):\n",
        "  def __init__(self, n_type):\n",
        "    super().__init__(n_type) # call super class (parent class) and then init \n",
        "\n",
        "  def calculate_boiling_time(self):\n",
        "    if self.n_type == \"spaghetti\":\n",
        "      return 6\n",
        "    elif self.n_type == \"linguine\":\n",
        "      return 10\n",
        "\n",
        "spaghetti = Noodle('spaghetti')\n",
        "spaghetti.boil_time\n"
      ],
      "metadata": {
        "colab": {
          "base_uri": "https://localhost:8080/"
        },
        "id": "I1UiSpI2zswW",
        "outputId": "a9cc6505-58b6-4bc3-aa41-b1eeac0aacb0"
      },
      "execution_count": 21,
      "outputs": [
        {
          "output_type": "execute_result",
          "data": {
            "text/plain": [
              "6"
            ]
          },
          "metadata": {},
          "execution_count": 21
        }
      ]
    },
    {
      "cell_type": "code",
      "source": [
        "garlic = Ingredient('garlic')"
      ],
      "metadata": {
        "colab": {
          "base_uri": "https://localhost:8080/",
          "height": 296
        },
        "id": "MnuFFvFs1iHg",
        "outputId": "50eaaea2-5315-433c-cb6e-65061861a846"
      },
      "execution_count": 22,
      "outputs": [
        {
          "output_type": "error",
          "ename": "AttributeError",
          "evalue": "ignored",
          "traceback": [
            "\u001b[0;31m---------------------------------------------------------------------------\u001b[0m",
            "\u001b[0;31mAttributeError\u001b[0m                            Traceback (most recent call last)",
            "\u001b[0;32m<ipython-input-22-0167401896bf>\u001b[0m in \u001b[0;36m<module>\u001b[0;34m\u001b[0m\n\u001b[0;32m----> 1\u001b[0;31m \u001b[0mgarlic\u001b[0m \u001b[0;34m=\u001b[0m \u001b[0mIngredient\u001b[0m\u001b[0;34m(\u001b[0m\u001b[0;34m'garlic'\u001b[0m\u001b[0;34m)\u001b[0m\u001b[0;34m\u001b[0m\u001b[0;34m\u001b[0m\u001b[0m\n\u001b[0m",
            "\u001b[0;32m<ipython-input-21-3b20e22ec092>\u001b[0m in \u001b[0;36m__init__\u001b[0;34m(self, n_type)\u001b[0m\n\u001b[1;32m      3\u001b[0m   \u001b[0;32mdef\u001b[0m \u001b[0m__init__\u001b[0m\u001b[0;34m(\u001b[0m\u001b[0mself\u001b[0m\u001b[0;34m,\u001b[0m \u001b[0mn_type\u001b[0m\u001b[0;34m)\u001b[0m\u001b[0;34m:\u001b[0m\u001b[0;34m\u001b[0m\u001b[0;34m\u001b[0m\u001b[0m\n\u001b[1;32m      4\u001b[0m     \u001b[0mself\u001b[0m\u001b[0;34m.\u001b[0m\u001b[0mn_type\u001b[0m \u001b[0;34m=\u001b[0m \u001b[0mn_type\u001b[0m\u001b[0;34m\u001b[0m\u001b[0;34m\u001b[0m\u001b[0m\n\u001b[0;32m----> 5\u001b[0;31m     \u001b[0mself\u001b[0m\u001b[0;34m.\u001b[0m\u001b[0mboil_time\u001b[0m \u001b[0;34m=\u001b[0m \u001b[0mself\u001b[0m\u001b[0;34m.\u001b[0m\u001b[0mcalculate_boiling_time\u001b[0m\u001b[0;34m(\u001b[0m\u001b[0;34m)\u001b[0m\u001b[0;34m\u001b[0m\u001b[0;34m\u001b[0m\u001b[0m\n\u001b[0m\u001b[1;32m      6\u001b[0m \u001b[0;34m\u001b[0m\u001b[0m\n\u001b[1;32m      7\u001b[0m \u001b[0;34m\u001b[0m\u001b[0m\n",
            "\u001b[0;31mAttributeError\u001b[0m: 'Ingredient' object has no attribute 'calculate_boiling_time'"
          ]
        }
      ]
    },
    {
      "cell_type": "code",
      "source": [
        "# Inherit class\n",
        "class Sauce(Ingredient):\n",
        "  def __init__(self, n_type, is_ready_made=False):\n",
        "    self.is_ready_made = is_ready_made\n",
        "    super().__init__(n_type) # calling Ingredient.__init__\n",
        "\n",
        "  def calculate_boiling_time(self):\n",
        "    if self.is_ready_made:\n",
        "      return 3\n",
        "    else:\n",
        "      return 60\n",
        "  \n",
        "  def __add__(self, another_sauce):\n",
        "    # return Sauce(n_type = f\"{self.n_type} + {another_sauce.n_type}\",\n",
        "    #              is_ready_made = self.is_ready_made and another_sauce.is_ready_made  # True only if both self and another sauce are ready_made\n",
        "    #              )\n",
        "    new_type =  f\"{self.n_type} + {another_sauce.n_type}\"\n",
        "    is_ready_made = self.is_ready_made and another_sauce.is_ready_made\n",
        "    sauce = Sauce(new_type, is_ready_made)\n",
        "    return sauce\n",
        "\n",
        "commercial_tomato = Sauce('tomato', is_ready_made=True)\n",
        "commercial_tomato.boil_time\n"
      ],
      "metadata": {
        "colab": {
          "base_uri": "https://localhost:8080/"
        },
        "id": "34gt4Ruv0vih",
        "outputId": "5bd00125-4fc6-4f7a-c757-4e8483aed69a"
      },
      "execution_count": 33,
      "outputs": [
        {
          "output_type": "execute_result",
          "data": {
            "text/plain": [
              "3"
            ]
          },
          "metadata": {},
          "execution_count": 33
        }
      ]
    },
    {
      "cell_type": "code",
      "source": [
        "homemade_tomato = Sauce('tomato')\n",
        "homemade_tomato.boil_time"
      ],
      "metadata": {
        "colab": {
          "base_uri": "https://localhost:8080/"
        },
        "id": "Tc1b_aiC0vcD",
        "outputId": "bebf6c1e-1baf-489a-bd31-ddaf8ba2b4e1"
      },
      "execution_count": 34,
      "outputs": [
        {
          "output_type": "execute_result",
          "data": {
            "text/plain": [
              "60"
            ]
          },
          "metadata": {},
          "execution_count": 34
        }
      ]
    },
    {
      "cell_type": "code",
      "source": [
        "new_sauce = commercial_tomato + homemade_tomato\n",
        "commercial_tomato.is_ready_made and homemade_tomato.is_ready_made"
      ],
      "metadata": {
        "colab": {
          "base_uri": "https://localhost:8080/"
        },
        "id": "mQFqx6Of3ZLe",
        "outputId": "f5326948-0fd2-4ecc-e703-50ebccabff49"
      },
      "execution_count": 35,
      "outputs": [
        {
          "output_type": "execute_result",
          "data": {
            "text/plain": [
              "False"
            ]
          },
          "metadata": {},
          "execution_count": 35
        }
      ]
    },
    {
      "cell_type": "code",
      "source": [
        "class Pasta:\n",
        "  def __init__(self, noodle, sauce): # __something__ means this function has a special meaning\n",
        "                  # we call this special method\n",
        "                  # Method is a funciton in a class\n",
        "                  # Every method in class has to get \"self\" as its first argument\n",
        "    self.noodle = noodle\n",
        "    self.sauce = sauce\n",
        "\n",
        "  def __repr__(self):\n",
        "    # return self.sauce + ' ' + self.noodle\n",
        "    # let's use formatted string. start string with f in front of \"\"\n",
        "    # In formatted string, you can use variable to be include in the string\n",
        "    # with {}\n",
        "    return f\"{self.sauce} {self.noodle}\"\n",
        "\n",
        "  def get_cooking_time(self):\n",
        "    # return the longer time among sauce or noodle.\n",
        "    return \n",
        "\n",
        "my_pasta = Pasta(spaghetti, commercial_tomato)\n",
        "my_pasta"
      ],
      "metadata": {
        "colab": {
          "base_uri": "https://localhost:8080/"
        },
        "id": "-ovbjOrh5Cvx",
        "outputId": "265f8e37-554a-464e-ae5a-7b0f1f57dad5"
      },
      "execution_count": 37,
      "outputs": [
        {
          "output_type": "execute_result",
          "data": {
            "text/plain": [
              "tomato spaghetti"
            ]
          },
          "metadata": {},
          "execution_count": 37
        }
      ]
    }
  ]
}