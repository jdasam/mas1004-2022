{
  "cells": [
    {
      "cell_type": "markdown",
      "metadata": {
        "id": "view-in-github",
        "colab_type": "text"
      },
      "source": [
        "<a href=\"https://colab.research.google.com/github/jdasam/mas1004-2022/blob/main/Assignment_1.ipynb\" target=\"_parent\"><img src=\"https://colab.research.google.com/assets/colab-badge.svg\" alt=\"Open In Colab\"/></a>"
      ]
    },
    {
      "cell_type": "markdown",
      "metadata": {
        "id": "7DBXzZBA3Jw4"
      },
      "source": [
        "# Assignment 1\n",
        "- You have to complete the given functions.\n",
        "  - *Please fill in every part that is notated with #TODO*\n",
        "- The correct answers are simple that can be expressed as a single line of code.\n",
        "\n",
        "- Your solutions have to be suitable for any different random seeds.\n",
        "  - The data will be randomly generated each time if you provide different random seed.\n",
        "  - So do not try hard coding. Find a way that can solve the task regardless of data sample order\n",
        "\n",
        "- Maximum score: 100\n",
        "- Due: Oct 11th (Tue) 15:00 (Before the class starts)\n",
        "  - Delay: 30 % + 5% for each 24 hours\n",
        "\n",
        "### Submission\n",
        "- Before the submission, please make sure that the notebook runs without error when you run \"Runtime/Restart and run all(런타임/다시 시작 및 모두 실행).\n",
        "- You can submit your answer by downloading it in upper menu bar (File/Download/Download .ipynb , 파일/다운로드/.ipynb 다운로드)\n",
        "\n",
        "\n"
      ]
    },
    {
      "cell_type": "markdown",
      "metadata": {
        "id": "C2Oin-sIcy6m"
      },
      "source": [
        "## Prepare data\n",
        "- select your own random seed"
      ]
    },
    {
      "cell_type": "code",
      "execution_count": 1,
      "metadata": {
        "id": "8AKxtCQI19to"
      },
      "outputs": [],
      "source": [
        "import numpy as np\n",
        "from matplotlib import cm\n",
        "import matplotlib.pyplot as plt\n",
        "import random\n",
        "from math import pi\n",
        "import torch\n",
        "import torch.nn as nn"
      ]
    },
    {
      "cell_type": "code",
      "execution_count": 2,
      "metadata": {
        "id": "9Bhr0iJqVoiM"
      },
      "outputs": [],
      "source": [
        "'''\n",
        "Write your random seed here.\n",
        "The seed can be any integer value that is between 0 and 2**32 - 1 (~= 4 billion)\n",
        "\n",
        "The data will be randomly generated based on your seed.\n",
        "You will be able to reproduce the same random numbers if you provide the same random seed\n",
        "'''\n",
        "your_seed=8473487 #TODO: select your own number"
      ]
    },
    {
      "cell_type": "code",
      "execution_count": 3,
      "metadata": {
        "id": "MnHGdN-zJPLN",
        "colab": {
          "base_uri": "https://localhost:8080/"
        },
        "outputId": "e25742b5-fe93-4e9e-f0a9-a60a736670b6"
      },
      "outputs": [
        {
          "output_type": "stream",
          "name": "stdout",
          "text": [
            "  x_position /  y_position /  label\n",
            "[[ -0.81707633  -4.73353509   2.        ]\n",
            " [ 12.98140313 -31.77178822   0.        ]\n",
            " [  5.92990059  -1.08714358   2.        ]\n",
            " ...\n",
            " [ -1.37391578 -32.56457134   0.        ]\n",
            " [ -8.29566145 -16.86118997   1.        ]\n",
            " [ 18.64571863  -2.91162562   0.        ]]\n"
          ]
        }
      ],
      "source": [
        "'''\n",
        "This cell will generates the random spiral data based on your_seed\n",
        "'''\n",
        "\n",
        "def make_spiral_data(N=300):\n",
        "  '''\n",
        "  DON'T MODIFY THIS FUNCTION\n",
        "  You don't have to understand this function to complete the assignment.\n",
        "  '''\n",
        "  theta = np.sqrt(np.random.rand(N))*4*pi \n",
        "  def make_single_spiral(multiplier):\n",
        "    r = theta * multiplier\n",
        "    data = np.array([np.cos(theta)*r, np.sin(theta)*r]).T\n",
        "    x = data + np.random.randn(N,2) * 0.4\n",
        "    return x\n",
        "\n",
        "  num_classes = random.randint(3,6)\n",
        "  multiplier = np.linspace(num_classes, 0.5, num_classes)\n",
        "  data = [np.append(make_single_spiral(multiplier[i]), (np.ones((N,1))-1+i), axis=1) for i in range(num_classes)]\n",
        "  data = np.concatenate(data, axis=0)\n",
        "  np.random.shuffle(data)\n",
        "  \n",
        "  return data\n",
        "\n",
        "random.seed(your_seed)\n",
        "np.random.seed(your_seed)\n",
        "\n",
        "data = make_spiral_data()\n",
        "print('  x_position /  y_position /  label')\n",
        "print(data)\n"
      ]
    },
    {
      "cell_type": "markdown",
      "metadata": {
        "id": "9zdiJ6jt4w-_"
      },
      "source": [
        "## Problem 1-1 (10 pts)\n",
        "- Get number of unique categories in the data\n",
        "  - How many different categories exist in the data?"
      ]
    },
    {
      "cell_type": "code",
      "execution_count": null,
      "metadata": {
        "id": "Lk9Q4FTZ6p3d"
      },
      "outputs": [],
      "source": [
        "def get_num_categories_of_data(array_data):\n",
        "  '''\n",
        "  array_data: np.ndarray with shape of (num_samples, 3)\n",
        "      It contains the data points in 2-dimensional space.\n",
        "      Each data point has three features, x_position, y_position, and category label.\n",
        "\n",
        "  output: an integer that represents the number of total data category included in array_data\n",
        "  '''\n",
        "  # TODO: Complete this function\n",
        "  return\n",
        "num_classes_of_data = get_num_categories_of_data(data)\n",
        "print(f'There are total {num_classes_of_data} classes in the dataset')"
      ]
    },
    {
      "cell_type": "markdown",
      "metadata": {
        "id": "2cesU9926rYn"
      },
      "source": [
        "## Problem 1-2 (5 pts)"
      ]
    },
    {
      "cell_type": "code",
      "execution_count": null,
      "metadata": {
        "id": "m9ryLTBS27wX"
      },
      "outputs": [],
      "source": [
        "def get_x_position_of_every_sample(array_data):\n",
        "  '''\n",
        "  array_data: np.ndarray with shape of (num_samples, 3)\n",
        "        It contains the data points in 2-dimensional space.\n",
        "        Each data point has three features, x_position, y_position, and class label.\n",
        "\n",
        "  output: 1-dimensional np.ndarray with shape of (num_samples) containing x_position of every sample  \n",
        "  '''\n",
        "  # TODO: Complete this function\n",
        "  return \n",
        "\n",
        "def get_y_position_of_every_sample(array_data):\n",
        "  '''\n",
        "  array_data: np.ndarray with shape of (num_samples, 3)\n",
        "        It contains the data points in 2-dimensional space.\n",
        "        Each data point has three features, x_position, y_position, and class label.\n",
        "\n",
        "  output: 1-dimensional np.ndarray with shape of (num_samples) containing y_position of every sapmle\n",
        "  '''\n",
        "  # TODO: Complete this function\n",
        "  return\n",
        "\n",
        "x_position_of_every_sample = get_x_position_of_every_sample(data)\n",
        "y_position_of_every_sample = get_y_position_of_every_sample(data)\n",
        "plt.scatter(x=x_position_of_every_sample, y=y_position_of_every_sample)"
      ]
    },
    {
      "cell_type": "markdown",
      "metadata": {
        "id": "ka4v7RJLESiJ"
      },
      "source": [
        "## Problem 1-3 (10 pts)\n",
        "- Find indices of numpy array with desired features\n",
        "  - Among N samples, in which indices exists the data sample that satisfies a given condition (such as class_label==0)\n",
        "- Filter numpy array with given data sample indices"
      ]
    },
    {
      "cell_type": "code",
      "execution_count": null,
      "metadata": {
        "id": "KOrPoVHTEWA7"
      },
      "outputs": [],
      "source": [
        "def get_indices_of_target_class(array_data, target_class):\n",
        "  '''\n",
        "  array_data: np.ndarray with shape of (num_samples, 3)\n",
        "        It contains the data points in 2-dimensional space.\n",
        "        Each data point has three features, x_position, y_position, and class label.\n",
        "\n",
        "  target_class: an integer that represent class index\n",
        "\n",
        "  output: 1-dimensional np.ndarray with shape of (num_selected_samples) containing indices of every sample that is target class \n",
        "  '''\n",
        "  # TODO: Complete this function\n",
        "  # Hint: Use np.where()[0] (https://numpy.org/doc/stable/reference/generated/numpy.where.html)\n",
        "  # np.where(condition) works same as np.nonzero(condition) (https://numpy.org/doc/stable/reference/generated/numpy.nonzero.html#numpy.nonzero)\n",
        "  return \n",
        "\n",
        "def filter_samples_by_indices(array_data, sample_indices):\n",
        "  '''\n",
        "  array_data: np.ndarray with shape of (num_samples, 3)\n",
        "        It contains the data points in 2-dimensional space.\n",
        "        Each data point has three features, x_position, y_position, and class label.\n",
        "\n",
        "  sample_indices: np.ndarray with shape of (num_selected_samples) containing indices of target samples\n",
        "\n",
        "  output: 2-dimensional np.ndarray with shape of (num_selected_samples, 3) containing samples of selected indices from array_data\n",
        "  '''\n",
        "  # TODO: Complete this function\n",
        "  return \n",
        "\n",
        "\n",
        "sample_indices_of_target_class = get_indices_of_target_class(data, 0)\n",
        "filtered_data = filter_samples_by_indices(data, sample_indices_of_target_class)\n",
        "print(f'First 10 indices for target_class 0 is: {sample_indices_of_target_class[:10]}')\n",
        "print(f'Shape of filtered data is {filtered_data.shape}')"
      ]
    },
    {
      "cell_type": "markdown",
      "metadata": {
        "id": "PS8KL2GBcBdB"
      },
      "source": [
        "## Problem 1-4 (5 pts)\n",
        "\n",
        "- Scatter plot data points by class"
      ]
    },
    {
      "cell_type": "code",
      "execution_count": null,
      "metadata": {
        "id": "BBEETELHcA11"
      },
      "outputs": [],
      "source": [
        "'''\n",
        "Plot data points by class\n",
        "'''\n",
        "\n",
        "for target_class_idx in range(num_classes_of_data):\n",
        "  sample_indices_of_target_class = get_indices_of_target_class(data, target_class_idx)\n",
        "  samples_of_target_class = filter_samples_by_indices(data, sample_indices_of_target_class)\n",
        "  # TODO: decalre x and y to scatter plot the every samples of the target class\n",
        "  # x = \n",
        "  # y = \n",
        "  plt.scatter(x,y)"
      ]
    },
    {
      "cell_type": "markdown",
      "metadata": {
        "id": "JZcssPJ4etsy"
      },
      "source": [
        "## Problem 1-5 (5 pts)\n",
        "- Scatter plot only the last 40 samples of dataset"
      ]
    },
    {
      "cell_type": "code",
      "execution_count": null,
      "metadata": {
        "id": "N_8doEPVetPO"
      },
      "outputs": [],
      "source": [
        "def get_last_k_samples_of_data(array_data, k):\n",
        "  '''\n",
        "  array_data: np.ndarray with shape of (num_samples, 3)\n",
        "        It contains the data points in 2-dimensional space.\n",
        "        Each data point has three features, x_position, y_position, and class label.\n",
        "\n",
        "  k: an integer that represent desired number of samples to select\n",
        "\n",
        "  output: 2-dimensional np.ndarray with shape of (k, 3) containing samples of the last k samples of array_data\n",
        "  '''\n",
        "  # TODO: Complete this function\n",
        "  return \n",
        "\n",
        "# TODO: decalre last_40_samples_of_data, x and y to scatter plot the last 40 samples of data using get_last_k_samples_of_data\n",
        "# last_40_samples_of_data = get_last_k_samples_of_data(data, ??)\n",
        "# x_k =\n",
        "# y_k =\n",
        "plt.scatter(x_k, y_k)"
      ]
    },
    {
      "cell_type": "markdown",
      "metadata": {
        "id": "lvocXb9qfo6N"
      },
      "source": [
        "## Problem 1-6 (10 pts)\n",
        "- Emphasize the sample with largest x_position\n",
        "  - Find and select the sample with largest x_position"
      ]
    },
    {
      "cell_type": "code",
      "execution_count": null,
      "metadata": {
        "id": "qehxUV2ofpUn"
      },
      "outputs": [],
      "source": [
        "def get_sample_with_largest_x_position_value(array_data):\n",
        "  '''\n",
        "  array_data: np.ndarray with shape of (num_samples, 3)\n",
        "        It contains the data points in 2-dimensional space.\n",
        "        Each data point has three features, x_position, y_position, and class label.\n",
        "\n",
        "  output: 1-dimensional np.ndarray with shape of (3) that represents the sample with largest x_position value\n",
        "  '''\n",
        "  # TODO: Complete this function\n",
        "  # Hint: Use np.max to find the maximum value\n",
        "  return\n",
        "\n",
        "plt.scatter(x=x_position_of_every_sample, y=y_position_of_every_sample, s=5) # Plot the entire dataset first\n",
        "# TODO: decalre x and y to scatter plot the sample with largest x_position \n",
        "selected_sample = get_sample_with_largest_x_position_value(data)\n",
        "x_max = selected_sample[0]\n",
        "y_max = selected_sample[1]\n",
        "plt.scatter(x_max, y_max, s=50, c='red')"
      ]
    },
    {
      "cell_type": "markdown",
      "metadata": {
        "id": "xixgq6WVBHnE"
      },
      "source": [
        "# Problem 2: Design and train a Neural Network for classification"
      ]
    },
    {
      "cell_type": "markdown",
      "metadata": {
        "id": "nNen7OEdBHnE"
      },
      "source": [
        "## Problem 2-1 (15 pts)\n",
        "- Complete `MyModel`'s forward function"
      ]
    },
    {
      "cell_type": "code",
      "execution_count": null,
      "metadata": {
        "id": "kJST2utLBHnE"
      },
      "outputs": [],
      "source": [
        "class MyModel(nn.Module):\n",
        "  def __init__(self):\n",
        "    super().__init__()\n",
        "    self.linear1 = nn.Linear(2, 8)\n",
        "    self.linear2 = nn.Linear(8, 16)\n",
        "    self.linear3 = nn.Linear(16, 16)\n",
        "    self.linear4 = nn.Linear(16, 1)\n",
        "\n",
        "  def forward(self, x):\n",
        "    '''\n",
        "    TODO:\n",
        "    complete this forward function as follow \n",
        "\n",
        "    x -> linear1 -> relu -> linear2 -> relu -> linear3 -> relu -> linear4 -> sigmoid\n",
        "\n",
        "    out: torch.Tensor with shape of (num_samples, 1)\n",
        "    '''\n",
        "\n",
        "    return \n",
        "\n",
        "data_xy = torch.tensor(data[:, :2], dtype=torch.float32)\n",
        "# We will only classify whether the data point is class 1 or not\n",
        "data_label = torch.tensor((data[:,2]==1), dtype=torch.long).unsqueeze(1) \n",
        "\n",
        "model = MyModel()\n",
        "optimizer = torch.optim.Adam(model.parameters(), lr=0.001)\n",
        "\n",
        "# Test code:\n",
        "pred = model(data_xy[:10])\n",
        "print(f'Prediction shape: {pred.shape}') # has to be [10, 1]"
      ]
    },
    {
      "cell_type": "markdown",
      "metadata": {
        "id": "HS6dno7aBHnE"
      },
      "source": [
        "## 2-2: Implement Binary Cross Entropy Function (15pts)\n",
        "\n",
        "- BCE loss is define as below:\n",
        "  - $L = -\\left(y \\log(\\hat{y}) + (1-y)\\log(1-\\hat{y})\\right)$\n",
        "  - where $y$ is a ground truth label (either 0 or 1) and $\\hat{y}$ is a predicted label ($0\\leq\\hat{y}\\leq1$) \n",
        "  - $\\log$ is natural log"
      ]
    },
    {
      "cell_type": "code",
      "execution_count": null,
      "metadata": {
        "id": "F6OlCVy3BHnE"
      },
      "outputs": [],
      "source": [
        "def get_binary_cross_entropy(y_pred, y_true):\n",
        "  '''\n",
        "  y_pred: torch.Tensor with shape of (num_samples)\n",
        "        It contains the predicted value of the model for each sample\n",
        "\n",
        "  y_true: torch.Tensor with shape of (num_samples)\n",
        "        It contains the ground-truth label of each sample\n",
        "\n",
        "  output: torch.Tensor with shape of (num_samples) that represents the loss value of each sample\n",
        "  The loss has to be calculated by an equation described above (binary cross entropy)\n",
        "\n",
        "  Example:\n",
        "    y_pred = torch.Tensor([0.8, 0.1, 0.3])\n",
        "    y_true = torch.Tensor([1, 0, 0])\n",
        "    loss = torch.Tensor([-ln(0.8), -ln(0.9), -ln(0.7)]) = torch.Tensor([0.2231, 0.1054, 0.3567])\n",
        "  \n",
        "  TODO: Complete this function without using torch.nn.BCELoss or others\n",
        "  '''\n",
        "  return\n",
        "\n",
        "def get_mean_of_tensor(tensor):\n",
        "  '''\n",
        "  tensor: torch.Tensor with any shape\n",
        "\n",
        "  output: torch.Tensor with shape of () that represents the mean value of tensor\n",
        "\n",
        "  TODO: Complete this function\n",
        "  '''\n",
        "  return \n",
        "\n",
        "\n",
        "# Test code\n",
        "y_pred = torch.Tensor([0.8, 0.1, 0.3])\n",
        "y_true = torch.Tensor([1, 0, 0])\n",
        "loss = get_binary_cross_entropy(y_pred, y_true)\n",
        "print(f'Loss is {loss}')\n",
        "print(f'Mean of loss is {get_mean_of_tensor(loss)}')"
      ]
    },
    {
      "cell_type": "markdown",
      "metadata": {
        "id": "r1ca_IsnBHnE"
      },
      "source": [
        "## 2-3: Implement a training step (25 pts)\n",
        "- Implement a function that updates the model for a single step"
      ]
    },
    {
      "cell_type": "code",
      "execution_count": null,
      "metadata": {
        "id": "nd5mJ45cBHnE"
      },
      "outputs": [],
      "source": [
        "def train_one_step(train_model, train_optimizer, train_data, train_label):\n",
        "  '''\n",
        "  train_model: PyTorch model that will be trained\n",
        "\n",
        "  train_optimizer: PyTorch optimizer that will be used to update the model\n",
        "\n",
        "  train_data: 2-dimensional np.ndarray with shape of (num_samples, 2) that contains the data points in 2-dimensional space\n",
        "\n",
        "  train_label: 1-dimensional np.ndarray with shape of (num_samples) that contains the class label of each sample\n",
        "\n",
        "  output: None\n",
        "  '''\n",
        "\n",
        "  # TODO: Complete this function using the following steps and the functions that you have implemented above\n",
        "  # pred = \n",
        "  # loss = \n",
        "  # mean_loss = \n",
        "\n",
        "  # do backpropgation\n",
        "\n",
        "  # update model\n",
        "\n",
        "  # reset gradient\n",
        "\n",
        "  # print loss\n",
        "  print(f'loss: {mean_loss.item()}')\n",
        "\n",
        "# Do training and check that loss is decreasing\n",
        "num_iteration = 500\n",
        "for i in range(num_iteration):\n",
        "  train_one_step(model, optimizer, data_xy, data_label)"
      ]
    },
    {
      "cell_type": "markdown",
      "metadata": {
        "id": "VxJEq0xxBHnE"
      },
      "source": [
        "### Check the trained model's result"
      ]
    },
    {
      "cell_type": "code",
      "execution_count": null,
      "metadata": {
        "id": "8GIhSuRCBHnF"
      },
      "outputs": [],
      "source": [
        "import matplotlib.pyplot as plt\n",
        "def visualize_decision_boundary(model, data, label):\n",
        "  x_linspace = torch.linspace(min(data[:,0]), max(data[:,0]), steps=200)\n",
        "  y_linspace = torch.linspace(min(data[:,1]), max(data[:,1]), steps=200)\n",
        "  grid_x, grid_y = torch.meshgrid(x_linspace, y_linspace)\n",
        "  grid_xy = torch.stack([grid_x, grid_y]).permute(1,2,0)\n",
        "  grid_xy = grid_xy.view(-1, 2)\n",
        "  value_by_grid = model(grid_xy)\n",
        "  value_by_grid = value_by_grid.view(200, 200, 1)\n",
        "  value_by_grid[value_by_grid<=0.5] = 0\n",
        "  value_by_grid[value_by_grid>0.5] = 1\n",
        "\n",
        "  plt.scatter(x=data[label[:,0]==0,0], y=data[label[:,0]==0,1])\n",
        "  plt.scatter(x=data[label[:,0]==1,0], y=data[label[:,0]==1,1])\n",
        "\n",
        "  plt.contourf(grid_x.detach().numpy(), grid_y.detach().numpy(), value_by_grid.detach().numpy().squeeze(), alpha=0.3)\n",
        "\n",
        "visualize_decision_boundary(model, data_xy, data_label)"
      ]
    }
  ],
  "metadata": {
    "colab": {
      "collapsed_sections": [],
      "provenance": [],
      "include_colab_link": true
    },
    "kernelspec": {
      "display_name": "Python 3.8.10 64-bit",
      "language": "python",
      "name": "python3"
    },
    "language_info": {
      "codemirror_mode": {
        "name": "ipython",
        "version": 3
      },
      "file_extension": ".py",
      "mimetype": "text/x-python",
      "name": "python",
      "nbconvert_exporter": "python",
      "pygments_lexer": "ipython3",
      "version": "3.8.10"
    },
    "vscode": {
      "interpreter": {
        "hash": "31f2aee4e71d21fbe5cf8b01ff0e069b9275f58929596ceb00d14d90e3e16cd6"
      }
    }
  },
  "nbformat": 4,
  "nbformat_minor": 0
}